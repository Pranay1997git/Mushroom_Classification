{
 "cells": [
  {
   "cell_type": "code",
   "execution_count": 1,
   "id": "095d59a5",
   "metadata": {},
   "outputs": [],
   "source": [
    "import pandas as pd\n",
    "import numpy as np\n",
    "import matplotlib.pyplot as plot\n",
    "import seaborn as sns\n",
    "sns.set()"
   ]
  },
  {
   "cell_type": "code",
   "execution_count": 2,
   "id": "79546308",
   "metadata": {},
   "outputs": [],
   "source": [
    "data = pd.read_csv(\"mushroom.csv\")"
   ]
  },
  {
   "cell_type": "code",
   "execution_count": 3,
   "id": "abfdbec9",
   "metadata": {},
   "outputs": [
    {
     "data": {
      "text/html": [
       "<div>\n",
       "<style scoped>\n",
       "    .dataframe tbody tr th:only-of-type {\n",
       "        vertical-align: middle;\n",
       "    }\n",
       "\n",
       "    .dataframe tbody tr th {\n",
       "        vertical-align: top;\n",
       "    }\n",
       "\n",
       "    .dataframe thead th {\n",
       "        text-align: right;\n",
       "    }\n",
       "</style>\n",
       "<table border=\"1\" class=\"dataframe\">\n",
       "  <thead>\n",
       "    <tr style=\"text-align: right;\">\n",
       "      <th></th>\n",
       "      <th>cap-shape</th>\n",
       "      <th>cap-surface</th>\n",
       "      <th>cap-color</th>\n",
       "      <th>bruises%3F</th>\n",
       "      <th>odor</th>\n",
       "      <th>gill-attachment</th>\n",
       "      <th>gill-spacing</th>\n",
       "      <th>gill-size</th>\n",
       "      <th>gill-color</th>\n",
       "      <th>stalk-shape</th>\n",
       "      <th>...</th>\n",
       "      <th>stalk-color-above-ring</th>\n",
       "      <th>stalk-color-below-ring</th>\n",
       "      <th>veil-type</th>\n",
       "      <th>veil-color</th>\n",
       "      <th>ring-number</th>\n",
       "      <th>ring-type</th>\n",
       "      <th>spore-print-color</th>\n",
       "      <th>population</th>\n",
       "      <th>habitat</th>\n",
       "      <th>class</th>\n",
       "    </tr>\n",
       "  </thead>\n",
       "  <tbody>\n",
       "    <tr>\n",
       "      <th>0</th>\n",
       "      <td>'x'</td>\n",
       "      <td>'s'</td>\n",
       "      <td>'n'</td>\n",
       "      <td>'t'</td>\n",
       "      <td>'p'</td>\n",
       "      <td>'f'</td>\n",
       "      <td>'c'</td>\n",
       "      <td>'n'</td>\n",
       "      <td>'k'</td>\n",
       "      <td>'e'</td>\n",
       "      <td>...</td>\n",
       "      <td>'w'</td>\n",
       "      <td>'w'</td>\n",
       "      <td>'p'</td>\n",
       "      <td>'w'</td>\n",
       "      <td>'o'</td>\n",
       "      <td>'p'</td>\n",
       "      <td>'k'</td>\n",
       "      <td>'s'</td>\n",
       "      <td>'u'</td>\n",
       "      <td>'p'</td>\n",
       "    </tr>\n",
       "    <tr>\n",
       "      <th>1</th>\n",
       "      <td>'x'</td>\n",
       "      <td>'s'</td>\n",
       "      <td>'y'</td>\n",
       "      <td>'t'</td>\n",
       "      <td>'a'</td>\n",
       "      <td>'f'</td>\n",
       "      <td>'c'</td>\n",
       "      <td>'b'</td>\n",
       "      <td>'k'</td>\n",
       "      <td>'e'</td>\n",
       "      <td>...</td>\n",
       "      <td>'w'</td>\n",
       "      <td>'w'</td>\n",
       "      <td>'p'</td>\n",
       "      <td>'w'</td>\n",
       "      <td>'o'</td>\n",
       "      <td>'p'</td>\n",
       "      <td>'n'</td>\n",
       "      <td>'n'</td>\n",
       "      <td>'g'</td>\n",
       "      <td>'e'</td>\n",
       "    </tr>\n",
       "    <tr>\n",
       "      <th>2</th>\n",
       "      <td>'b'</td>\n",
       "      <td>'s'</td>\n",
       "      <td>'w'</td>\n",
       "      <td>'t'</td>\n",
       "      <td>'l'</td>\n",
       "      <td>'f'</td>\n",
       "      <td>'c'</td>\n",
       "      <td>'b'</td>\n",
       "      <td>'n'</td>\n",
       "      <td>'e'</td>\n",
       "      <td>...</td>\n",
       "      <td>'w'</td>\n",
       "      <td>'w'</td>\n",
       "      <td>'p'</td>\n",
       "      <td>'w'</td>\n",
       "      <td>'o'</td>\n",
       "      <td>'p'</td>\n",
       "      <td>'n'</td>\n",
       "      <td>'n'</td>\n",
       "      <td>'m'</td>\n",
       "      <td>'e'</td>\n",
       "    </tr>\n",
       "    <tr>\n",
       "      <th>3</th>\n",
       "      <td>'x'</td>\n",
       "      <td>'y'</td>\n",
       "      <td>'w'</td>\n",
       "      <td>'t'</td>\n",
       "      <td>'p'</td>\n",
       "      <td>'f'</td>\n",
       "      <td>'c'</td>\n",
       "      <td>'n'</td>\n",
       "      <td>'n'</td>\n",
       "      <td>'e'</td>\n",
       "      <td>...</td>\n",
       "      <td>'w'</td>\n",
       "      <td>'w'</td>\n",
       "      <td>'p'</td>\n",
       "      <td>'w'</td>\n",
       "      <td>'o'</td>\n",
       "      <td>'p'</td>\n",
       "      <td>'k'</td>\n",
       "      <td>'s'</td>\n",
       "      <td>'u'</td>\n",
       "      <td>'p'</td>\n",
       "    </tr>\n",
       "    <tr>\n",
       "      <th>4</th>\n",
       "      <td>'x'</td>\n",
       "      <td>'s'</td>\n",
       "      <td>'g'</td>\n",
       "      <td>'f'</td>\n",
       "      <td>'n'</td>\n",
       "      <td>'f'</td>\n",
       "      <td>'w'</td>\n",
       "      <td>'b'</td>\n",
       "      <td>'k'</td>\n",
       "      <td>'t'</td>\n",
       "      <td>...</td>\n",
       "      <td>'w'</td>\n",
       "      <td>'w'</td>\n",
       "      <td>'p'</td>\n",
       "      <td>'w'</td>\n",
       "      <td>'o'</td>\n",
       "      <td>'e'</td>\n",
       "      <td>'n'</td>\n",
       "      <td>'a'</td>\n",
       "      <td>'g'</td>\n",
       "      <td>'e'</td>\n",
       "    </tr>\n",
       "  </tbody>\n",
       "</table>\n",
       "<p>5 rows × 23 columns</p>\n",
       "</div>"
      ],
      "text/plain": [
       "  cap-shape cap-surface cap-color bruises%3F odor gill-attachment  \\\n",
       "0       'x'         's'       'n'        't'  'p'             'f'   \n",
       "1       'x'         's'       'y'        't'  'a'             'f'   \n",
       "2       'b'         's'       'w'        't'  'l'             'f'   \n",
       "3       'x'         'y'       'w'        't'  'p'             'f'   \n",
       "4       'x'         's'       'g'        'f'  'n'             'f'   \n",
       "\n",
       "  gill-spacing gill-size gill-color stalk-shape  ... stalk-color-above-ring  \\\n",
       "0          'c'       'n'        'k'         'e'  ...                    'w'   \n",
       "1          'c'       'b'        'k'         'e'  ...                    'w'   \n",
       "2          'c'       'b'        'n'         'e'  ...                    'w'   \n",
       "3          'c'       'n'        'n'         'e'  ...                    'w'   \n",
       "4          'w'       'b'        'k'         't'  ...                    'w'   \n",
       "\n",
       "  stalk-color-below-ring veil-type veil-color ring-number ring-type  \\\n",
       "0                    'w'       'p'        'w'         'o'       'p'   \n",
       "1                    'w'       'p'        'w'         'o'       'p'   \n",
       "2                    'w'       'p'        'w'         'o'       'p'   \n",
       "3                    'w'       'p'        'w'         'o'       'p'   \n",
       "4                    'w'       'p'        'w'         'o'       'e'   \n",
       "\n",
       "  spore-print-color population habitat class  \n",
       "0               'k'        's'     'u'   'p'  \n",
       "1               'n'        'n'     'g'   'e'  \n",
       "2               'n'        'n'     'm'   'e'  \n",
       "3               'k'        's'     'u'   'p'  \n",
       "4               'n'        'a'     'g'   'e'  \n",
       "\n",
       "[5 rows x 23 columns]"
      ]
     },
     "execution_count": 3,
     "metadata": {},
     "output_type": "execute_result"
    }
   ],
   "source": [
    "data.head()\n"
   ]
  },
  {
   "cell_type": "code",
   "execution_count": 4,
   "id": "69c37f47",
   "metadata": {},
   "outputs": [
    {
     "data": {
      "text/plain": [
       "array([\"'p'\", \"'e'\"], dtype=object)"
      ]
     },
     "execution_count": 4,
     "metadata": {},
     "output_type": "execute_result"
    }
   ],
   "source": [
    "data['class'].unique()"
   ]
  },
  {
   "cell_type": "markdown",
   "id": "2451f3da",
   "metadata": {},
   "source": [
    "Data Description: This dataset describes mushrooms in terms of their physical characteristics. They are classified into: poisonous or edible.\n",
    "\n",
    "1. cap-shape: bell=b,conical=c,convex=x,flat=f, knobbed=k,sunken=s \n",
    "2. cap-surface: fibrous=f,grooves=g,scaly=y,smooth=s \n",
    "3. cap-color: brown=n,buff=b,cinnamon=c,gray=g,green=r, pink=p,purple=u,red=e,white=w,yellow=y \n",
    "4. bruises?: bruises=t,no=f \n",
    "5. odor: almond=a,anise=l,creosote=c,fishy=y,foul=f, musty=m,none=n,pungent=p,spicy=s \n",
    "6. gill-attachment: attached=a,descending=d,free=f,notched=n \n",
    "7. gill-spacing: close=c,crowded=w,distant=d \n",
    "8. gill-size: broad=b,narrow=n \n",
    "9. gill-color: black=k,brown=n,buff=b,chocolate=h,gray=g, green=r,orange=o,pink=p,purple=u,red=e, white=w,yellow=y \n",
    "10. stalk-shape: enlarging=e,tapering=t \n",
    "11. stalk-root: bulbous=b,club=c,cup=u,equal=e, rhizomorphs=z,rooted=r,missing=? \n",
    "12. stalk-surface-above-ring: fibrous=f,scaly=y,silky=k,smooth=s \n",
    "13. stalk-surface-below-ring: fibrous=f,scaly=y,silky=k,smooth=s \n",
    "14. stalk-color-above-ring: brown=n,buff=b,cinnamon=c,gray=g,orange=o, pink=p,red=e,white=w,yellow=y \n",
    "15. stalk-color-below-ring: brown=n,buff=b,cinnamon=c,gray=g,orange=o, pink=p,red=e,white=w,yellow=y \n",
    "16. veil-type: partial=p,universal=u \n",
    "17. veil-color: brown=n,orange=o,white=w,yellow=y \n",
    "18. ring-number: none=n,one=o,two=t \n",
    "19. ring-type: cobwebby=c,evanescent=e,flaring=f,large=l, none=n,pendant=p,sheathing=s,zone=z \n",
    "20. spore-print-color: black=k,brown=n,buff=b,chocolate=h,green=r, orange=o,purple=u,white=w,yellow=y \n",
    "21. population: abundant=a,clustered=c,numerous=n, scattered=s,several=v,solitary=y \n",
    "22. habitat: grasses=g,leaves=l,meadows=m,paths=p, urban=u,waste=w,woods=d"
   ]
  },
  {
   "cell_type": "code",
   "execution_count": 5,
   "id": "952ae07f",
   "metadata": {},
   "outputs": [
    {
     "data": {
      "text/html": [
       "<div>\n",
       "<style scoped>\n",
       "    .dataframe tbody tr th:only-of-type {\n",
       "        vertical-align: middle;\n",
       "    }\n",
       "\n",
       "    .dataframe tbody tr th {\n",
       "        vertical-align: top;\n",
       "    }\n",
       "\n",
       "    .dataframe thead th {\n",
       "        text-align: right;\n",
       "    }\n",
       "</style>\n",
       "<table border=\"1\" class=\"dataframe\">\n",
       "  <thead>\n",
       "    <tr style=\"text-align: right;\">\n",
       "      <th></th>\n",
       "      <th>cap-shape</th>\n",
       "      <th>cap-surface</th>\n",
       "      <th>cap-color</th>\n",
       "      <th>bruises%3F</th>\n",
       "      <th>odor</th>\n",
       "      <th>gill-attachment</th>\n",
       "      <th>gill-spacing</th>\n",
       "      <th>gill-size</th>\n",
       "      <th>gill-color</th>\n",
       "      <th>stalk-shape</th>\n",
       "      <th>...</th>\n",
       "      <th>stalk-color-above-ring</th>\n",
       "      <th>stalk-color-below-ring</th>\n",
       "      <th>veil-type</th>\n",
       "      <th>veil-color</th>\n",
       "      <th>ring-number</th>\n",
       "      <th>ring-type</th>\n",
       "      <th>spore-print-color</th>\n",
       "      <th>population</th>\n",
       "      <th>habitat</th>\n",
       "      <th>class</th>\n",
       "    </tr>\n",
       "  </thead>\n",
       "  <tbody>\n",
       "    <tr>\n",
       "      <th>count</th>\n",
       "      <td>8124</td>\n",
       "      <td>8124</td>\n",
       "      <td>8124</td>\n",
       "      <td>8124</td>\n",
       "      <td>8124</td>\n",
       "      <td>8124</td>\n",
       "      <td>8124</td>\n",
       "      <td>8124</td>\n",
       "      <td>8124</td>\n",
       "      <td>8124</td>\n",
       "      <td>...</td>\n",
       "      <td>8124</td>\n",
       "      <td>8124</td>\n",
       "      <td>8124</td>\n",
       "      <td>8124</td>\n",
       "      <td>8124</td>\n",
       "      <td>8124</td>\n",
       "      <td>8124</td>\n",
       "      <td>8124</td>\n",
       "      <td>8124</td>\n",
       "      <td>8124</td>\n",
       "    </tr>\n",
       "    <tr>\n",
       "      <th>unique</th>\n",
       "      <td>6</td>\n",
       "      <td>4</td>\n",
       "      <td>10</td>\n",
       "      <td>2</td>\n",
       "      <td>9</td>\n",
       "      <td>2</td>\n",
       "      <td>2</td>\n",
       "      <td>2</td>\n",
       "      <td>12</td>\n",
       "      <td>2</td>\n",
       "      <td>...</td>\n",
       "      <td>9</td>\n",
       "      <td>9</td>\n",
       "      <td>1</td>\n",
       "      <td>4</td>\n",
       "      <td>3</td>\n",
       "      <td>5</td>\n",
       "      <td>9</td>\n",
       "      <td>6</td>\n",
       "      <td>7</td>\n",
       "      <td>2</td>\n",
       "    </tr>\n",
       "    <tr>\n",
       "      <th>top</th>\n",
       "      <td>'x'</td>\n",
       "      <td>'y'</td>\n",
       "      <td>'n'</td>\n",
       "      <td>'f'</td>\n",
       "      <td>'n'</td>\n",
       "      <td>'f'</td>\n",
       "      <td>'c'</td>\n",
       "      <td>'b'</td>\n",
       "      <td>'b'</td>\n",
       "      <td>'t'</td>\n",
       "      <td>...</td>\n",
       "      <td>'w'</td>\n",
       "      <td>'w'</td>\n",
       "      <td>'p'</td>\n",
       "      <td>'w'</td>\n",
       "      <td>'o'</td>\n",
       "      <td>'p'</td>\n",
       "      <td>'w'</td>\n",
       "      <td>'v'</td>\n",
       "      <td>'d'</td>\n",
       "      <td>'e'</td>\n",
       "    </tr>\n",
       "    <tr>\n",
       "      <th>freq</th>\n",
       "      <td>3656</td>\n",
       "      <td>3244</td>\n",
       "      <td>2284</td>\n",
       "      <td>4748</td>\n",
       "      <td>3528</td>\n",
       "      <td>7914</td>\n",
       "      <td>6812</td>\n",
       "      <td>5612</td>\n",
       "      <td>1728</td>\n",
       "      <td>4608</td>\n",
       "      <td>...</td>\n",
       "      <td>4464</td>\n",
       "      <td>4384</td>\n",
       "      <td>8124</td>\n",
       "      <td>7924</td>\n",
       "      <td>7488</td>\n",
       "      <td>3968</td>\n",
       "      <td>2388</td>\n",
       "      <td>4040</td>\n",
       "      <td>3148</td>\n",
       "      <td>4208</td>\n",
       "    </tr>\n",
       "  </tbody>\n",
       "</table>\n",
       "<p>4 rows × 23 columns</p>\n",
       "</div>"
      ],
      "text/plain": [
       "       cap-shape cap-surface cap-color bruises%3F  odor gill-attachment  \\\n",
       "count       8124        8124      8124       8124  8124            8124   \n",
       "unique         6           4        10          2     9               2   \n",
       "top          'x'         'y'       'n'        'f'   'n'             'f'   \n",
       "freq        3656        3244      2284       4748  3528            7914   \n",
       "\n",
       "       gill-spacing gill-size gill-color stalk-shape  ...  \\\n",
       "count          8124      8124       8124        8124  ...   \n",
       "unique            2         2         12           2  ...   \n",
       "top             'c'       'b'        'b'         't'  ...   \n",
       "freq           6812      5612       1728        4608  ...   \n",
       "\n",
       "       stalk-color-above-ring stalk-color-below-ring veil-type veil-color  \\\n",
       "count                    8124                   8124      8124       8124   \n",
       "unique                      9                      9         1          4   \n",
       "top                       'w'                    'w'       'p'        'w'   \n",
       "freq                     4464                   4384      8124       7924   \n",
       "\n",
       "       ring-number ring-type spore-print-color population habitat class  \n",
       "count         8124      8124              8124       8124    8124  8124  \n",
       "unique           3         5                 9          6       7     2  \n",
       "top            'o'       'p'               'w'        'v'     'd'   'e'  \n",
       "freq          7488      3968              2388       4040    3148  4208  \n",
       "\n",
       "[4 rows x 23 columns]"
      ]
     },
     "execution_count": 5,
     "metadata": {},
     "output_type": "execute_result"
    }
   ],
   "source": [
    "data.describe()"
   ]
  },
  {
   "cell_type": "code",
   "execution_count": 6,
   "id": "efb0cdbb",
   "metadata": {},
   "outputs": [
    {
     "data": {
      "text/plain": [
       "cap-shape                   0\n",
       "cap-surface                 0\n",
       "cap-color                   0\n",
       "bruises%3F                  0\n",
       "odor                        0\n",
       "gill-attachment             0\n",
       "gill-spacing                0\n",
       "gill-size                   0\n",
       "gill-color                  0\n",
       "stalk-shape                 0\n",
       "stalk-root                  0\n",
       "stalk-surface-above-ring    0\n",
       "stalk-surface-below-ring    0\n",
       "stalk-color-above-ring      0\n",
       "stalk-color-below-ring      0\n",
       "veil-type                   0\n",
       "veil-color                  0\n",
       "ring-number                 0\n",
       "ring-type                   0\n",
       "spore-print-color           0\n",
       "population                  0\n",
       "habitat                     0\n",
       "class                       0\n",
       "dtype: int64"
      ]
     },
     "execution_count": 6,
     "metadata": {},
     "output_type": "execute_result"
    }
   ],
   "source": [
    "data.isna().sum()"
   ]
  },
  {
   "cell_type": "code",
   "execution_count": 7,
   "id": "54ac21e7",
   "metadata": {},
   "outputs": [
    {
     "name": "stdout",
     "output_type": "stream",
     "text": [
      "stalk-root 2480\n"
     ]
    }
   ],
   "source": [
    "for column in data.columns:\n",
    "    count = data[column][data[column]=='?'].count()\n",
    "    if count!=0:\n",
    "        print(column, data[column][data[column]=='?'].count()) "
   ]
  },
  {
   "cell_type": "code",
   "execution_count": 8,
   "id": "3e1b926b",
   "metadata": {},
   "outputs": [],
   "source": [
    "data[\"stalk-root\"] =data[\"stalk-root\"].replace('?',np.nan) "
   ]
  },
  {
   "cell_type": "code",
   "execution_count": 9,
   "id": "c970b09a",
   "metadata": {},
   "outputs": [
    {
     "data": {
      "text/plain": [
       "cap-shape                      0\n",
       "cap-surface                    0\n",
       "cap-color                      0\n",
       "bruises%3F                     0\n",
       "odor                           0\n",
       "gill-attachment                0\n",
       "gill-spacing                   0\n",
       "gill-size                      0\n",
       "gill-color                     0\n",
       "stalk-shape                    0\n",
       "stalk-root                  2480\n",
       "stalk-surface-above-ring       0\n",
       "stalk-surface-below-ring       0\n",
       "stalk-color-above-ring         0\n",
       "stalk-color-below-ring         0\n",
       "veil-type                      0\n",
       "veil-color                     0\n",
       "ring-number                    0\n",
       "ring-type                      0\n",
       "spore-print-color              0\n",
       "population                     0\n",
       "habitat                        0\n",
       "class                          0\n",
       "dtype: int64"
      ]
     },
     "execution_count": 9,
     "metadata": {},
     "output_type": "execute_result"
    }
   ],
   "source": [
    "data.isna().sum()"
   ]
  },
  {
   "cell_type": "code",
   "execution_count": 10,
   "id": "09365211",
   "metadata": {},
   "outputs": [
    {
     "name": "stdout",
     "output_type": "stream",
     "text": [
      "cap-shape 6\n",
      "cap-surface 4\n",
      "cap-color 10\n",
      "bruises%3F 2\n",
      "odor 9\n",
      "gill-attachment 2\n",
      "gill-spacing 2\n",
      "gill-size 2\n",
      "gill-color 12\n",
      "stalk-shape 2\n",
      "stalk-root 4\n",
      "stalk-surface-above-ring 4\n",
      "stalk-surface-below-ring 4\n",
      "stalk-color-above-ring 9\n",
      "stalk-color-below-ring 9\n",
      "veil-type 1\n",
      "veil-color 4\n",
      "ring-number 3\n",
      "ring-type 5\n",
      "spore-print-color 9\n",
      "population 6\n",
      "habitat 7\n",
      "class 2\n"
     ]
    }
   ],
   "source": [
    "for column in data.columns:\n",
    "    print(column,data[column].nunique())    "
   ]
  },
  {
   "cell_type": "markdown",
   "id": "9e671058",
   "metadata": {},
   "source": [
    "here  \"veil-type\" column has only one unique category. This column won't give much information ,so let's drop it."
   ]
  },
  {
   "cell_type": "code",
   "execution_count": 11,
   "id": "bcca15ad",
   "metadata": {},
   "outputs": [],
   "source": [
    "data = data.drop(['veil-type'],axis=1)"
   ]
  },
  {
   "cell_type": "code",
   "execution_count": 12,
   "id": "7c366fb9",
   "metadata": {},
   "outputs": [
    {
     "name": "stderr",
     "output_type": "stream",
     "text": [
      "WARNING (aesara.configdefaults): g++ not available, if using conda: `conda install m2w64-toolchain`\n",
      "WARNING (aesara.configdefaults): g++ not detected!  Aesara will be unable to compile C-implementations and will default to Python. Performance may be severely degraded. To remove this warning, set Aesara flags cxx to an empty string.\n"
     ]
    },
    {
     "name": "stdout",
     "output_type": "stream",
     "text": [
      "Could not locate executable gfortran\n",
      "Could not locate executable f95\n",
      "Could not locate executable g95\n",
      "Could not locate executable efort\n",
      "Could not locate executable efc\n",
      "Could not locate executable flang\n",
      "don't know how to compile Fortran code on platform 'nt'\n"
     ]
    },
    {
     "name": "stderr",
     "output_type": "stream",
     "text": [
      "WARNING (aesara.tensor.blas): Using NumPy C-API based implementation for BLAS functions.\n"
     ]
    }
   ],
   "source": [
    "from autoimpute.imputations import SingleImputer"
   ]
  },
  {
   "cell_type": "code",
   "execution_count": 13,
   "id": "34ea0fe5",
   "metadata": {},
   "outputs": [],
   "source": [
    "impute = SingleImputer(strategy='categorical')"
   ]
  },
  {
   "cell_type": "code",
   "execution_count": 14,
   "id": "d39a4c9b",
   "metadata": {},
   "outputs": [
    {
     "data": {
      "text/html": [
       "<style>#sk-container-id-1 {color: black;background-color: white;}#sk-container-id-1 pre{padding: 0;}#sk-container-id-1 div.sk-toggleable {background-color: white;}#sk-container-id-1 label.sk-toggleable__label {cursor: pointer;display: block;width: 100%;margin-bottom: 0;padding: 0.3em;box-sizing: border-box;text-align: center;}#sk-container-id-1 label.sk-toggleable__label-arrow:before {content: \"▸\";float: left;margin-right: 0.25em;color: #696969;}#sk-container-id-1 label.sk-toggleable__label-arrow:hover:before {color: black;}#sk-container-id-1 div.sk-estimator:hover label.sk-toggleable__label-arrow:before {color: black;}#sk-container-id-1 div.sk-toggleable__content {max-height: 0;max-width: 0;overflow: hidden;text-align: left;background-color: #f0f8ff;}#sk-container-id-1 div.sk-toggleable__content pre {margin: 0.2em;color: black;border-radius: 0.25em;background-color: #f0f8ff;}#sk-container-id-1 input.sk-toggleable__control:checked~div.sk-toggleable__content {max-height: 200px;max-width: 100%;overflow: auto;}#sk-container-id-1 input.sk-toggleable__control:checked~label.sk-toggleable__label-arrow:before {content: \"▾\";}#sk-container-id-1 div.sk-estimator input.sk-toggleable__control:checked~label.sk-toggleable__label {background-color: #d4ebff;}#sk-container-id-1 div.sk-label input.sk-toggleable__control:checked~label.sk-toggleable__label {background-color: #d4ebff;}#sk-container-id-1 input.sk-hidden--visually {border: 0;clip: rect(1px 1px 1px 1px);clip: rect(1px, 1px, 1px, 1px);height: 1px;margin: -1px;overflow: hidden;padding: 0;position: absolute;width: 1px;}#sk-container-id-1 div.sk-estimator {font-family: monospace;background-color: #f0f8ff;border: 1px dotted black;border-radius: 0.25em;box-sizing: border-box;margin-bottom: 0.5em;}#sk-container-id-1 div.sk-estimator:hover {background-color: #d4ebff;}#sk-container-id-1 div.sk-parallel-item::after {content: \"\";width: 100%;border-bottom: 1px solid gray;flex-grow: 1;}#sk-container-id-1 div.sk-label:hover label.sk-toggleable__label {background-color: #d4ebff;}#sk-container-id-1 div.sk-serial::before {content: \"\";position: absolute;border-left: 1px solid gray;box-sizing: border-box;top: 0;bottom: 0;left: 50%;z-index: 0;}#sk-container-id-1 div.sk-serial {display: flex;flex-direction: column;align-items: center;background-color: white;padding-right: 0.2em;padding-left: 0.2em;position: relative;}#sk-container-id-1 div.sk-item {position: relative;z-index: 1;}#sk-container-id-1 div.sk-parallel {display: flex;align-items: stretch;justify-content: center;background-color: white;position: relative;}#sk-container-id-1 div.sk-item::before, #sk-container-id-1 div.sk-parallel-item::before {content: \"\";position: absolute;border-left: 1px solid gray;box-sizing: border-box;top: 0;bottom: 0;left: 50%;z-index: -1;}#sk-container-id-1 div.sk-parallel-item {display: flex;flex-direction: column;z-index: 1;position: relative;background-color: white;}#sk-container-id-1 div.sk-parallel-item:first-child::after {align-self: flex-end;width: 50%;}#sk-container-id-1 div.sk-parallel-item:last-child::after {align-self: flex-start;width: 50%;}#sk-container-id-1 div.sk-parallel-item:only-child::after {width: 0;}#sk-container-id-1 div.sk-dashed-wrapped {border: 1px dashed gray;margin: 0 0.4em 0.5em 0.4em;box-sizing: border-box;padding-bottom: 0.4em;background-color: white;}#sk-container-id-1 div.sk-label label {font-family: monospace;font-weight: bold;display: inline-block;line-height: 1.2em;}#sk-container-id-1 div.sk-label-container {text-align: center;}#sk-container-id-1 div.sk-container {/* jupyter's `normalize.less` sets `[hidden] { display: none; }` but bootstrap.min.css set `[hidden] { display: none !important; }` so we also need the `!important` here to be able to override the default hidden behavior on the sphinx rendered scikit-learn.org. See: https://github.com/scikit-learn/scikit-learn/issues/21755 */display: inline-block !important;position: relative;}#sk-container-id-1 div.sk-text-repr-fallback {display: none;}</style><div id=\"sk-container-id-1\" class=\"sk-top-container\"><div class=\"sk-text-repr-fallback\"><pre>SingleImputer(strategy=&#x27;categorical&#x27;)</pre><b>In a Jupyter environment, please rerun this cell to show the HTML representation or trust the notebook. <br />On GitHub, the HTML representation is unable to render, please try loading this page with nbviewer.org.</b></div><div class=\"sk-container\" hidden><div class=\"sk-item\"><div class=\"sk-estimator sk-toggleable\"><input class=\"sk-toggleable__control sk-hidden--visually\" id=\"sk-estimator-id-1\" type=\"checkbox\" checked><label for=\"sk-estimator-id-1\" class=\"sk-toggleable__label sk-toggleable__label-arrow\">SingleImputer</label><div class=\"sk-toggleable__content\"><pre>SingleImputer(strategy=&#x27;categorical&#x27;)</pre></div></div></div></div></div>"
      ],
      "text/plain": [
       "SingleImputer(strategy='categorical')"
      ]
     },
     "execution_count": 14,
     "metadata": {},
     "output_type": "execute_result"
    }
   ],
   "source": [
    "impute.fit(data)"
   ]
  },
  {
   "cell_type": "code",
   "execution_count": 15,
   "id": "26a371f3",
   "metadata": {},
   "outputs": [],
   "source": [
    "imputed_data =impute.transform(data)"
   ]
  },
  {
   "cell_type": "code",
   "execution_count": 16,
   "id": "b8f55eca",
   "metadata": {},
   "outputs": [
    {
     "data": {
      "text/html": [
       "<div>\n",
       "<style scoped>\n",
       "    .dataframe tbody tr th:only-of-type {\n",
       "        vertical-align: middle;\n",
       "    }\n",
       "\n",
       "    .dataframe tbody tr th {\n",
       "        vertical-align: top;\n",
       "    }\n",
       "\n",
       "    .dataframe thead th {\n",
       "        text-align: right;\n",
       "    }\n",
       "</style>\n",
       "<table border=\"1\" class=\"dataframe\">\n",
       "  <thead>\n",
       "    <tr style=\"text-align: right;\">\n",
       "      <th></th>\n",
       "      <th>cap-shape</th>\n",
       "      <th>cap-surface</th>\n",
       "      <th>cap-color</th>\n",
       "      <th>bruises%3F</th>\n",
       "      <th>odor</th>\n",
       "      <th>gill-attachment</th>\n",
       "      <th>gill-spacing</th>\n",
       "      <th>gill-size</th>\n",
       "      <th>gill-color</th>\n",
       "      <th>stalk-shape</th>\n",
       "      <th>...</th>\n",
       "      <th>stalk-surface-below-ring</th>\n",
       "      <th>stalk-color-above-ring</th>\n",
       "      <th>stalk-color-below-ring</th>\n",
       "      <th>veil-color</th>\n",
       "      <th>ring-number</th>\n",
       "      <th>ring-type</th>\n",
       "      <th>spore-print-color</th>\n",
       "      <th>population</th>\n",
       "      <th>habitat</th>\n",
       "      <th>class</th>\n",
       "    </tr>\n",
       "  </thead>\n",
       "  <tbody>\n",
       "    <tr>\n",
       "      <th>0</th>\n",
       "      <td>'x'</td>\n",
       "      <td>'s'</td>\n",
       "      <td>'n'</td>\n",
       "      <td>'t'</td>\n",
       "      <td>'p'</td>\n",
       "      <td>'f'</td>\n",
       "      <td>'c'</td>\n",
       "      <td>'n'</td>\n",
       "      <td>'k'</td>\n",
       "      <td>'e'</td>\n",
       "      <td>...</td>\n",
       "      <td>'s'</td>\n",
       "      <td>'w'</td>\n",
       "      <td>'w'</td>\n",
       "      <td>'w'</td>\n",
       "      <td>'o'</td>\n",
       "      <td>'p'</td>\n",
       "      <td>'k'</td>\n",
       "      <td>'s'</td>\n",
       "      <td>'u'</td>\n",
       "      <td>'p'</td>\n",
       "    </tr>\n",
       "    <tr>\n",
       "      <th>1</th>\n",
       "      <td>'x'</td>\n",
       "      <td>'s'</td>\n",
       "      <td>'y'</td>\n",
       "      <td>'t'</td>\n",
       "      <td>'a'</td>\n",
       "      <td>'f'</td>\n",
       "      <td>'c'</td>\n",
       "      <td>'b'</td>\n",
       "      <td>'k'</td>\n",
       "      <td>'e'</td>\n",
       "      <td>...</td>\n",
       "      <td>'s'</td>\n",
       "      <td>'w'</td>\n",
       "      <td>'w'</td>\n",
       "      <td>'w'</td>\n",
       "      <td>'o'</td>\n",
       "      <td>'p'</td>\n",
       "      <td>'n'</td>\n",
       "      <td>'n'</td>\n",
       "      <td>'g'</td>\n",
       "      <td>'e'</td>\n",
       "    </tr>\n",
       "    <tr>\n",
       "      <th>2</th>\n",
       "      <td>'b'</td>\n",
       "      <td>'s'</td>\n",
       "      <td>'w'</td>\n",
       "      <td>'t'</td>\n",
       "      <td>'l'</td>\n",
       "      <td>'f'</td>\n",
       "      <td>'c'</td>\n",
       "      <td>'b'</td>\n",
       "      <td>'n'</td>\n",
       "      <td>'e'</td>\n",
       "      <td>...</td>\n",
       "      <td>'s'</td>\n",
       "      <td>'w'</td>\n",
       "      <td>'w'</td>\n",
       "      <td>'w'</td>\n",
       "      <td>'o'</td>\n",
       "      <td>'p'</td>\n",
       "      <td>'n'</td>\n",
       "      <td>'n'</td>\n",
       "      <td>'m'</td>\n",
       "      <td>'e'</td>\n",
       "    </tr>\n",
       "    <tr>\n",
       "      <th>3</th>\n",
       "      <td>'x'</td>\n",
       "      <td>'y'</td>\n",
       "      <td>'w'</td>\n",
       "      <td>'t'</td>\n",
       "      <td>'p'</td>\n",
       "      <td>'f'</td>\n",
       "      <td>'c'</td>\n",
       "      <td>'n'</td>\n",
       "      <td>'n'</td>\n",
       "      <td>'e'</td>\n",
       "      <td>...</td>\n",
       "      <td>'s'</td>\n",
       "      <td>'w'</td>\n",
       "      <td>'w'</td>\n",
       "      <td>'w'</td>\n",
       "      <td>'o'</td>\n",
       "      <td>'p'</td>\n",
       "      <td>'k'</td>\n",
       "      <td>'s'</td>\n",
       "      <td>'u'</td>\n",
       "      <td>'p'</td>\n",
       "    </tr>\n",
       "    <tr>\n",
       "      <th>4</th>\n",
       "      <td>'x'</td>\n",
       "      <td>'s'</td>\n",
       "      <td>'g'</td>\n",
       "      <td>'f'</td>\n",
       "      <td>'n'</td>\n",
       "      <td>'f'</td>\n",
       "      <td>'w'</td>\n",
       "      <td>'b'</td>\n",
       "      <td>'k'</td>\n",
       "      <td>'t'</td>\n",
       "      <td>...</td>\n",
       "      <td>'s'</td>\n",
       "      <td>'w'</td>\n",
       "      <td>'w'</td>\n",
       "      <td>'w'</td>\n",
       "      <td>'o'</td>\n",
       "      <td>'e'</td>\n",
       "      <td>'n'</td>\n",
       "      <td>'a'</td>\n",
       "      <td>'g'</td>\n",
       "      <td>'e'</td>\n",
       "    </tr>\n",
       "    <tr>\n",
       "      <th>...</th>\n",
       "      <td>...</td>\n",
       "      <td>...</td>\n",
       "      <td>...</td>\n",
       "      <td>...</td>\n",
       "      <td>...</td>\n",
       "      <td>...</td>\n",
       "      <td>...</td>\n",
       "      <td>...</td>\n",
       "      <td>...</td>\n",
       "      <td>...</td>\n",
       "      <td>...</td>\n",
       "      <td>...</td>\n",
       "      <td>...</td>\n",
       "      <td>...</td>\n",
       "      <td>...</td>\n",
       "      <td>...</td>\n",
       "      <td>...</td>\n",
       "      <td>...</td>\n",
       "      <td>...</td>\n",
       "      <td>...</td>\n",
       "      <td>...</td>\n",
       "    </tr>\n",
       "    <tr>\n",
       "      <th>8119</th>\n",
       "      <td>'k'</td>\n",
       "      <td>'s'</td>\n",
       "      <td>'n'</td>\n",
       "      <td>'f'</td>\n",
       "      <td>'n'</td>\n",
       "      <td>'a'</td>\n",
       "      <td>'c'</td>\n",
       "      <td>'b'</td>\n",
       "      <td>'y'</td>\n",
       "      <td>'e'</td>\n",
       "      <td>...</td>\n",
       "      <td>'s'</td>\n",
       "      <td>'o'</td>\n",
       "      <td>'o'</td>\n",
       "      <td>'o'</td>\n",
       "      <td>'o'</td>\n",
       "      <td>'p'</td>\n",
       "      <td>'b'</td>\n",
       "      <td>'c'</td>\n",
       "      <td>'l'</td>\n",
       "      <td>'e'</td>\n",
       "    </tr>\n",
       "    <tr>\n",
       "      <th>8120</th>\n",
       "      <td>'x'</td>\n",
       "      <td>'s'</td>\n",
       "      <td>'n'</td>\n",
       "      <td>'f'</td>\n",
       "      <td>'n'</td>\n",
       "      <td>'a'</td>\n",
       "      <td>'c'</td>\n",
       "      <td>'b'</td>\n",
       "      <td>'y'</td>\n",
       "      <td>'e'</td>\n",
       "      <td>...</td>\n",
       "      <td>'s'</td>\n",
       "      <td>'o'</td>\n",
       "      <td>'o'</td>\n",
       "      <td>'n'</td>\n",
       "      <td>'o'</td>\n",
       "      <td>'p'</td>\n",
       "      <td>'b'</td>\n",
       "      <td>'v'</td>\n",
       "      <td>'l'</td>\n",
       "      <td>'e'</td>\n",
       "    </tr>\n",
       "    <tr>\n",
       "      <th>8121</th>\n",
       "      <td>'f'</td>\n",
       "      <td>'s'</td>\n",
       "      <td>'n'</td>\n",
       "      <td>'f'</td>\n",
       "      <td>'n'</td>\n",
       "      <td>'a'</td>\n",
       "      <td>'c'</td>\n",
       "      <td>'b'</td>\n",
       "      <td>'n'</td>\n",
       "      <td>'e'</td>\n",
       "      <td>...</td>\n",
       "      <td>'s'</td>\n",
       "      <td>'o'</td>\n",
       "      <td>'o'</td>\n",
       "      <td>'o'</td>\n",
       "      <td>'o'</td>\n",
       "      <td>'p'</td>\n",
       "      <td>'b'</td>\n",
       "      <td>'c'</td>\n",
       "      <td>'l'</td>\n",
       "      <td>'e'</td>\n",
       "    </tr>\n",
       "    <tr>\n",
       "      <th>8122</th>\n",
       "      <td>'k'</td>\n",
       "      <td>'y'</td>\n",
       "      <td>'n'</td>\n",
       "      <td>'f'</td>\n",
       "      <td>'y'</td>\n",
       "      <td>'f'</td>\n",
       "      <td>'c'</td>\n",
       "      <td>'n'</td>\n",
       "      <td>'b'</td>\n",
       "      <td>'t'</td>\n",
       "      <td>...</td>\n",
       "      <td>'k'</td>\n",
       "      <td>'w'</td>\n",
       "      <td>'w'</td>\n",
       "      <td>'w'</td>\n",
       "      <td>'o'</td>\n",
       "      <td>'e'</td>\n",
       "      <td>'w'</td>\n",
       "      <td>'v'</td>\n",
       "      <td>'l'</td>\n",
       "      <td>'p'</td>\n",
       "    </tr>\n",
       "    <tr>\n",
       "      <th>8123</th>\n",
       "      <td>'x'</td>\n",
       "      <td>'s'</td>\n",
       "      <td>'n'</td>\n",
       "      <td>'f'</td>\n",
       "      <td>'n'</td>\n",
       "      <td>'a'</td>\n",
       "      <td>'c'</td>\n",
       "      <td>'b'</td>\n",
       "      <td>'y'</td>\n",
       "      <td>'e'</td>\n",
       "      <td>...</td>\n",
       "      <td>'s'</td>\n",
       "      <td>'o'</td>\n",
       "      <td>'o'</td>\n",
       "      <td>'o'</td>\n",
       "      <td>'o'</td>\n",
       "      <td>'p'</td>\n",
       "      <td>'o'</td>\n",
       "      <td>'c'</td>\n",
       "      <td>'l'</td>\n",
       "      <td>'e'</td>\n",
       "    </tr>\n",
       "  </tbody>\n",
       "</table>\n",
       "<p>8124 rows × 22 columns</p>\n",
       "</div>"
      ],
      "text/plain": [
       "     cap-shape cap-surface cap-color bruises%3F odor gill-attachment  \\\n",
       "0          'x'         's'       'n'        't'  'p'             'f'   \n",
       "1          'x'         's'       'y'        't'  'a'             'f'   \n",
       "2          'b'         's'       'w'        't'  'l'             'f'   \n",
       "3          'x'         'y'       'w'        't'  'p'             'f'   \n",
       "4          'x'         's'       'g'        'f'  'n'             'f'   \n",
       "...        ...         ...       ...        ...  ...             ...   \n",
       "8119       'k'         's'       'n'        'f'  'n'             'a'   \n",
       "8120       'x'         's'       'n'        'f'  'n'             'a'   \n",
       "8121       'f'         's'       'n'        'f'  'n'             'a'   \n",
       "8122       'k'         'y'       'n'        'f'  'y'             'f'   \n",
       "8123       'x'         's'       'n'        'f'  'n'             'a'   \n",
       "\n",
       "     gill-spacing gill-size gill-color stalk-shape  ...  \\\n",
       "0             'c'       'n'        'k'         'e'  ...   \n",
       "1             'c'       'b'        'k'         'e'  ...   \n",
       "2             'c'       'b'        'n'         'e'  ...   \n",
       "3             'c'       'n'        'n'         'e'  ...   \n",
       "4             'w'       'b'        'k'         't'  ...   \n",
       "...           ...       ...        ...         ...  ...   \n",
       "8119          'c'       'b'        'y'         'e'  ...   \n",
       "8120          'c'       'b'        'y'         'e'  ...   \n",
       "8121          'c'       'b'        'n'         'e'  ...   \n",
       "8122          'c'       'n'        'b'         't'  ...   \n",
       "8123          'c'       'b'        'y'         'e'  ...   \n",
       "\n",
       "     stalk-surface-below-ring stalk-color-above-ring stalk-color-below-ring  \\\n",
       "0                         's'                    'w'                    'w'   \n",
       "1                         's'                    'w'                    'w'   \n",
       "2                         's'                    'w'                    'w'   \n",
       "3                         's'                    'w'                    'w'   \n",
       "4                         's'                    'w'                    'w'   \n",
       "...                       ...                    ...                    ...   \n",
       "8119                      's'                    'o'                    'o'   \n",
       "8120                      's'                    'o'                    'o'   \n",
       "8121                      's'                    'o'                    'o'   \n",
       "8122                      'k'                    'w'                    'w'   \n",
       "8123                      's'                    'o'                    'o'   \n",
       "\n",
       "     veil-color ring-number ring-type spore-print-color population habitat  \\\n",
       "0           'w'         'o'       'p'               'k'        's'     'u'   \n",
       "1           'w'         'o'       'p'               'n'        'n'     'g'   \n",
       "2           'w'         'o'       'p'               'n'        'n'     'm'   \n",
       "3           'w'         'o'       'p'               'k'        's'     'u'   \n",
       "4           'w'         'o'       'e'               'n'        'a'     'g'   \n",
       "...         ...         ...       ...               ...        ...     ...   \n",
       "8119        'o'         'o'       'p'               'b'        'c'     'l'   \n",
       "8120        'n'         'o'       'p'               'b'        'v'     'l'   \n",
       "8121        'o'         'o'       'p'               'b'        'c'     'l'   \n",
       "8122        'w'         'o'       'e'               'w'        'v'     'l'   \n",
       "8123        'o'         'o'       'p'               'o'        'c'     'l'   \n",
       "\n",
       "     class  \n",
       "0      'p'  \n",
       "1      'e'  \n",
       "2      'e'  \n",
       "3      'p'  \n",
       "4      'e'  \n",
       "...    ...  \n",
       "8119   'e'  \n",
       "8120   'e'  \n",
       "8121   'e'  \n",
       "8122   'p'  \n",
       "8123   'e'  \n",
       "\n",
       "[8124 rows x 22 columns]"
      ]
     },
     "execution_count": 16,
     "metadata": {},
     "output_type": "execute_result"
    }
   ],
   "source": [
    "imputed_data"
   ]
  },
  {
   "cell_type": "code",
   "execution_count": 17,
   "id": "47d6619c",
   "metadata": {},
   "outputs": [
    {
     "name": "stderr",
     "output_type": "stream",
     "text": [
      "C:\\Users\\prana\\anaconda3\\lib\\site-packages\\seaborn\\_decorators.py:36: FutureWarning: Pass the following variable as a keyword arg: x. From version 0.12, the only valid positional argument will be `data`, and passing other arguments without an explicit keyword will result in an error or misinterpretation.\n",
      "  warnings.warn(\n"
     ]
    },
    {
     "data": {
      "text/plain": [
       "<AxesSubplot:xlabel='stalk-root', ylabel='count'>"
      ]
     },
     "execution_count": 17,
     "metadata": {},
     "output_type": "execute_result"
    },
    {
     "data": {
      "image/png": "[encoded data removed]",
      "text/plain": [
       "<Figure size 432x288 with 1 Axes>"
      ]
     },
     "metadata": {},
     "output_type": "display_data"
    }
   ],
   "source": [
    "sns.countplot(imputed_data[\"stalk-root\"])"
   ]
  },
  {
   "cell_type": "code",
   "execution_count": 18,
   "id": "7a058917",
   "metadata": {},
   "outputs": [
    {
     "name": "stderr",
     "output_type": "stream",
     "text": [
      "C:\\Users\\prana\\anaconda3\\lib\\site-packages\\seaborn\\_decorators.py:36: FutureWarning: Pass the following variable as a keyword arg: x. From version 0.12, the only valid positional argument will be `data`, and passing other arguments without an explicit keyword will result in an error or misinterpretation.\n",
      "  warnings.warn(\n"
     ]
    },
    {
     "data": {
      "text/plain": [
       "<AxesSubplot:xlabel='stalk-root', ylabel='count'>"
      ]
     },
     "execution_count": 18,
     "metadata": {},
     "output_type": "execute_result"
    },
    {
     "data": {
      "image/png": "[encoded data removed]",
      "text/plain": [
       "<Figure size 432x288 with 1 Axes>"
      ]
     },
     "metadata": {},
     "output_type": "display_data"
    }
   ],
   "source": [
    "sns.countplot(data[\"stalk-root\"])"
   ]
  },
  {
   "cell_type": "code",
   "execution_count": 19,
   "id": "00a564ae",
   "metadata": {},
   "outputs": [
    {
     "data": {
      "text/plain": [
       "cap-shape                   0\n",
       "cap-surface                 0\n",
       "cap-color                   0\n",
       "bruises%3F                  0\n",
       "odor                        0\n",
       "gill-attachment             0\n",
       "gill-spacing                0\n",
       "gill-size                   0\n",
       "gill-color                  0\n",
       "stalk-shape                 0\n",
       "stalk-root                  0\n",
       "stalk-surface-above-ring    0\n",
       "stalk-surface-below-ring    0\n",
       "stalk-color-above-ring      0\n",
       "stalk-color-below-ring      0\n",
       "veil-color                  0\n",
       "ring-number                 0\n",
       "ring-type                   0\n",
       "spore-print-color           0\n",
       "population                  0\n",
       "habitat                     0\n",
       "class                       0\n",
       "dtype: int64"
      ]
     },
     "execution_count": 19,
     "metadata": {},
     "output_type": "execute_result"
    }
   ],
   "source": [
    "imputed_data.isna().sum()"
   ]
  },
  {
   "cell_type": "code",
   "execution_count": 20,
   "id": "a29e03aa",
   "metadata": {},
   "outputs": [
    {
     "name": "stdout",
     "output_type": "stream",
     "text": [
      "cap-shape 6\n",
      "cap-surface 4\n",
      "cap-color 10\n",
      "bruises%3F 2\n",
      "odor 9\n",
      "gill-attachment 2\n",
      "gill-spacing 2\n",
      "gill-size 2\n",
      "gill-color 12\n",
      "stalk-shape 2\n",
      "stalk-root 4\n",
      "stalk-surface-above-ring 4\n",
      "stalk-surface-below-ring 4\n",
      "stalk-color-above-ring 9\n",
      "stalk-color-below-ring 9\n",
      "veil-color 4\n",
      "ring-number 3\n",
      "ring-type 5\n",
      "spore-print-color 9\n",
      "population 6\n",
      "habitat 7\n",
      "class 2\n"
     ]
    }
   ],
   "source": [
    "for column in imputed_data.columns:\n",
    "    print(column,imputed_data[column].nunique())"
   ]
  },
  {
   "cell_type": "code",
   "execution_count": 21,
   "id": "084765d9",
   "metadata": {},
   "outputs": [],
   "source": [
    "imputed_data[\"class\"] = imputed_data[\"class\"].map({\"'p'\" : 0, \"'e'\" : 1})"
   ]
  },
  {
   "cell_type": "code",
   "execution_count": 22,
   "id": "d3ba09ae",
   "metadata": {},
   "outputs": [
    {
     "data": {
      "text/plain": [
       "0"
      ]
     },
     "execution_count": 22,
     "metadata": {},
     "output_type": "execute_result"
    }
   ],
   "source": [
    "imputed_data[\"class\"].isnull().sum()"
   ]
  },
  {
   "cell_type": "code",
   "execution_count": 23,
   "id": "d7f3a70c",
   "metadata": {},
   "outputs": [],
   "source": [
    "for column in imputed_data.drop(['class'],axis=1).columns:\n",
    "    imputed_data = pd.get_dummies(imputed_data, columns=[column], drop_first=True)\n",
    "    "
   ]
  },
  {
   "cell_type": "code",
   "execution_count": 24,
   "id": "b6f7f240",
   "metadata": {},
   "outputs": [
    {
     "data": {
      "text/html": [
       "<div>\n",
       "<style scoped>\n",
       "    .dataframe tbody tr th:only-of-type {\n",
       "        vertical-align: middle;\n",
       "    }\n",
       "\n",
       "    .dataframe tbody tr th {\n",
       "        vertical-align: top;\n",
       "    }\n",
       "\n",
       "    .dataframe thead th {\n",
       "        text-align: right;\n",
       "    }\n",
       "</style>\n",
       "<table border=\"1\" class=\"dataframe\">\n",
       "  <thead>\n",
       "    <tr style=\"text-align: right;\">\n",
       "      <th></th>\n",
       "      <th>class</th>\n",
       "      <th>cap-shape_'c'</th>\n",
       "      <th>cap-shape_'f'</th>\n",
       "      <th>cap-shape_'k'</th>\n",
       "      <th>cap-shape_'s'</th>\n",
       "      <th>cap-shape_'x'</th>\n",
       "      <th>cap-surface_'g'</th>\n",
       "      <th>cap-surface_'s'</th>\n",
       "      <th>cap-surface_'y'</th>\n",
       "      <th>cap-color_'c'</th>\n",
       "      <th>...</th>\n",
       "      <th>population_'n'</th>\n",
       "      <th>population_'s'</th>\n",
       "      <th>population_'v'</th>\n",
       "      <th>population_'y'</th>\n",
       "      <th>habitat_'g'</th>\n",
       "      <th>habitat_'l'</th>\n",
       "      <th>habitat_'m'</th>\n",
       "      <th>habitat_'p'</th>\n",
       "      <th>habitat_'u'</th>\n",
       "      <th>habitat_'w'</th>\n",
       "    </tr>\n",
       "  </thead>\n",
       "  <tbody>\n",
       "    <tr>\n",
       "      <th>0</th>\n",
       "      <td>0</td>\n",
       "      <td>0</td>\n",
       "      <td>0</td>\n",
       "      <td>0</td>\n",
       "      <td>0</td>\n",
       "      <td>1</td>\n",
       "      <td>0</td>\n",
       "      <td>1</td>\n",
       "      <td>0</td>\n",
       "      <td>0</td>\n",
       "      <td>...</td>\n",
       "      <td>0</td>\n",
       "      <td>1</td>\n",
       "      <td>0</td>\n",
       "      <td>0</td>\n",
       "      <td>0</td>\n",
       "      <td>0</td>\n",
       "      <td>0</td>\n",
       "      <td>0</td>\n",
       "      <td>1</td>\n",
       "      <td>0</td>\n",
       "    </tr>\n",
       "    <tr>\n",
       "      <th>1</th>\n",
       "      <td>1</td>\n",
       "      <td>0</td>\n",
       "      <td>0</td>\n",
       "      <td>0</td>\n",
       "      <td>0</td>\n",
       "      <td>1</td>\n",
       "      <td>0</td>\n",
       "      <td>1</td>\n",
       "      <td>0</td>\n",
       "      <td>0</td>\n",
       "      <td>...</td>\n",
       "      <td>1</td>\n",
       "      <td>0</td>\n",
       "      <td>0</td>\n",
       "      <td>0</td>\n",
       "      <td>1</td>\n",
       "      <td>0</td>\n",
       "      <td>0</td>\n",
       "      <td>0</td>\n",
       "      <td>0</td>\n",
       "      <td>0</td>\n",
       "    </tr>\n",
       "    <tr>\n",
       "      <th>2</th>\n",
       "      <td>1</td>\n",
       "      <td>0</td>\n",
       "      <td>0</td>\n",
       "      <td>0</td>\n",
       "      <td>0</td>\n",
       "      <td>0</td>\n",
       "      <td>0</td>\n",
       "      <td>1</td>\n",
       "      <td>0</td>\n",
       "      <td>0</td>\n",
       "      <td>...</td>\n",
       "      <td>1</td>\n",
       "      <td>0</td>\n",
       "      <td>0</td>\n",
       "      <td>0</td>\n",
       "      <td>0</td>\n",
       "      <td>0</td>\n",
       "      <td>1</td>\n",
       "      <td>0</td>\n",
       "      <td>0</td>\n",
       "      <td>0</td>\n",
       "    </tr>\n",
       "    <tr>\n",
       "      <th>3</th>\n",
       "      <td>0</td>\n",
       "      <td>0</td>\n",
       "      <td>0</td>\n",
       "      <td>0</td>\n",
       "      <td>0</td>\n",
       "      <td>1</td>\n",
       "      <td>0</td>\n",
       "      <td>0</td>\n",
       "      <td>1</td>\n",
       "      <td>0</td>\n",
       "      <td>...</td>\n",
       "      <td>0</td>\n",
       "      <td>1</td>\n",
       "      <td>0</td>\n",
       "      <td>0</td>\n",
       "      <td>0</td>\n",
       "      <td>0</td>\n",
       "      <td>0</td>\n",
       "      <td>0</td>\n",
       "      <td>1</td>\n",
       "      <td>0</td>\n",
       "    </tr>\n",
       "    <tr>\n",
       "      <th>4</th>\n",
       "      <td>1</td>\n",
       "      <td>0</td>\n",
       "      <td>0</td>\n",
       "      <td>0</td>\n",
       "      <td>0</td>\n",
       "      <td>1</td>\n",
       "      <td>0</td>\n",
       "      <td>1</td>\n",
       "      <td>0</td>\n",
       "      <td>0</td>\n",
       "      <td>...</td>\n",
       "      <td>0</td>\n",
       "      <td>0</td>\n",
       "      <td>0</td>\n",
       "      <td>0</td>\n",
       "      <td>1</td>\n",
       "      <td>0</td>\n",
       "      <td>0</td>\n",
       "      <td>0</td>\n",
       "      <td>0</td>\n",
       "      <td>0</td>\n",
       "    </tr>\n",
       "    <tr>\n",
       "      <th>...</th>\n",
       "      <td>...</td>\n",
       "      <td>...</td>\n",
       "      <td>...</td>\n",
       "      <td>...</td>\n",
       "      <td>...</td>\n",
       "      <td>...</td>\n",
       "      <td>...</td>\n",
       "      <td>...</td>\n",
       "      <td>...</td>\n",
       "      <td>...</td>\n",
       "      <td>...</td>\n",
       "      <td>...</td>\n",
       "      <td>...</td>\n",
       "      <td>...</td>\n",
       "      <td>...</td>\n",
       "      <td>...</td>\n",
       "      <td>...</td>\n",
       "      <td>...</td>\n",
       "      <td>...</td>\n",
       "      <td>...</td>\n",
       "      <td>...</td>\n",
       "    </tr>\n",
       "    <tr>\n",
       "      <th>8119</th>\n",
       "      <td>1</td>\n",
       "      <td>0</td>\n",
       "      <td>0</td>\n",
       "      <td>1</td>\n",
       "      <td>0</td>\n",
       "      <td>0</td>\n",
       "      <td>0</td>\n",
       "      <td>1</td>\n",
       "      <td>0</td>\n",
       "      <td>0</td>\n",
       "      <td>...</td>\n",
       "      <td>0</td>\n",
       "      <td>0</td>\n",
       "      <td>0</td>\n",
       "      <td>0</td>\n",
       "      <td>0</td>\n",
       "      <td>1</td>\n",
       "      <td>0</td>\n",
       "      <td>0</td>\n",
       "      <td>0</td>\n",
       "      <td>0</td>\n",
       "    </tr>\n",
       "    <tr>\n",
       "      <th>8120</th>\n",
       "      <td>1</td>\n",
       "      <td>0</td>\n",
       "      <td>0</td>\n",
       "      <td>0</td>\n",
       "      <td>0</td>\n",
       "      <td>1</td>\n",
       "      <td>0</td>\n",
       "      <td>1</td>\n",
       "      <td>0</td>\n",
       "      <td>0</td>\n",
       "      <td>...</td>\n",
       "      <td>0</td>\n",
       "      <td>0</td>\n",
       "      <td>1</td>\n",
       "      <td>0</td>\n",
       "      <td>0</td>\n",
       "      <td>1</td>\n",
       "      <td>0</td>\n",
       "      <td>0</td>\n",
       "      <td>0</td>\n",
       "      <td>0</td>\n",
       "    </tr>\n",
       "    <tr>\n",
       "      <th>8121</th>\n",
       "      <td>1</td>\n",
       "      <td>0</td>\n",
       "      <td>1</td>\n",
       "      <td>0</td>\n",
       "      <td>0</td>\n",
       "      <td>0</td>\n",
       "      <td>0</td>\n",
       "      <td>1</td>\n",
       "      <td>0</td>\n",
       "      <td>0</td>\n",
       "      <td>...</td>\n",
       "      <td>0</td>\n",
       "      <td>0</td>\n",
       "      <td>0</td>\n",
       "      <td>0</td>\n",
       "      <td>0</td>\n",
       "      <td>1</td>\n",
       "      <td>0</td>\n",
       "      <td>0</td>\n",
       "      <td>0</td>\n",
       "      <td>0</td>\n",
       "    </tr>\n",
       "    <tr>\n",
       "      <th>8122</th>\n",
       "      <td>0</td>\n",
       "      <td>0</td>\n",
       "      <td>0</td>\n",
       "      <td>1</td>\n",
       "      <td>0</td>\n",
       "      <td>0</td>\n",
       "      <td>0</td>\n",
       "      <td>0</td>\n",
       "      <td>1</td>\n",
       "      <td>0</td>\n",
       "      <td>...</td>\n",
       "      <td>0</td>\n",
       "      <td>0</td>\n",
       "      <td>1</td>\n",
       "      <td>0</td>\n",
       "      <td>0</td>\n",
       "      <td>1</td>\n",
       "      <td>0</td>\n",
       "      <td>0</td>\n",
       "      <td>0</td>\n",
       "      <td>0</td>\n",
       "    </tr>\n",
       "    <tr>\n",
       "      <th>8123</th>\n",
       "      <td>1</td>\n",
       "      <td>0</td>\n",
       "      <td>0</td>\n",
       "      <td>0</td>\n",
       "      <td>0</td>\n",
       "      <td>1</td>\n",
       "      <td>0</td>\n",
       "      <td>1</td>\n",
       "      <td>0</td>\n",
       "      <td>0</td>\n",
       "      <td>...</td>\n",
       "      <td>0</td>\n",
       "      <td>0</td>\n",
       "      <td>0</td>\n",
       "      <td>0</td>\n",
       "      <td>0</td>\n",
       "      <td>1</td>\n",
       "      <td>0</td>\n",
       "      <td>0</td>\n",
       "      <td>0</td>\n",
       "      <td>0</td>\n",
       "    </tr>\n",
       "  </tbody>\n",
       "</table>\n",
       "<p>8124 rows × 95 columns</p>\n",
       "</div>"
      ],
      "text/plain": [
       "      class  cap-shape_'c'  cap-shape_'f'  cap-shape_'k'  cap-shape_'s'  \\\n",
       "0         0              0              0              0              0   \n",
       "1         1              0              0              0              0   \n",
       "2         1              0              0              0              0   \n",
       "3         0              0              0              0              0   \n",
       "4         1              0              0              0              0   \n",
       "...     ...            ...            ...            ...            ...   \n",
       "8119      1              0              0              1              0   \n",
       "8120      1              0              0              0              0   \n",
       "8121      1              0              1              0              0   \n",
       "8122      0              0              0              1              0   \n",
       "8123      1              0              0              0              0   \n",
       "\n",
       "      cap-shape_'x'  cap-surface_'g'  cap-surface_'s'  cap-surface_'y'  \\\n",
       "0                 1                0                1                0   \n",
       "1                 1                0                1                0   \n",
       "2                 0                0                1                0   \n",
       "3                 1                0                0                1   \n",
       "4                 1                0                1                0   \n",
       "...             ...              ...              ...              ...   \n",
       "8119              0                0                1                0   \n",
       "8120              1                0                1                0   \n",
       "8121              0                0                1                0   \n",
       "8122              0                0                0                1   \n",
       "8123              1                0                1                0   \n",
       "\n",
       "      cap-color_'c'  ...  population_'n'  population_'s'  population_'v'  \\\n",
       "0                 0  ...               0               1               0   \n",
       "1                 0  ...               1               0               0   \n",
       "2                 0  ...               1               0               0   \n",
       "3                 0  ...               0               1               0   \n",
       "4                 0  ...               0               0               0   \n",
       "...             ...  ...             ...             ...             ...   \n",
       "8119              0  ...               0               0               0   \n",
       "8120              0  ...               0               0               1   \n",
       "8121              0  ...               0               0               0   \n",
       "8122              0  ...               0               0               1   \n",
       "8123              0  ...               0               0               0   \n",
       "\n",
       "      population_'y'  habitat_'g'  habitat_'l'  habitat_'m'  habitat_'p'  \\\n",
       "0                  0            0            0            0            0   \n",
       "1                  0            1            0            0            0   \n",
       "2                  0            0            0            1            0   \n",
       "3                  0            0            0            0            0   \n",
       "4                  0            1            0            0            0   \n",
       "...              ...          ...          ...          ...          ...   \n",
       "8119               0            0            1            0            0   \n",
       "8120               0            0            1            0            0   \n",
       "8121               0            0            1            0            0   \n",
       "8122               0            0            1            0            0   \n",
       "8123               0            0            1            0            0   \n",
       "\n",
       "      habitat_'u'  habitat_'w'  \n",
       "0               1            0  \n",
       "1               0            0  \n",
       "2               0            0  \n",
       "3               1            0  \n",
       "4               0            0  \n",
       "...           ...          ...  \n",
       "8119            0            0  \n",
       "8120            0            0  \n",
       "8121            0            0  \n",
       "8122            0            0  \n",
       "8123            0            0  \n",
       "\n",
       "[8124 rows x 95 columns]"
      ]
     },
     "execution_count": 24,
     "metadata": {},
     "output_type": "execute_result"
    }
   ],
   "source": [
    "imputed_data"
   ]
  },
  {
   "cell_type": "code",
   "execution_count": 32,
   "id": "1bb8080b",
   "metadata": {},
   "outputs": [
    {
     "name": "stderr",
     "output_type": "stream",
     "text": [
      "C:\\Users\\prana\\anaconda3\\lib\\site-packages\\seaborn\\_decorators.py:36: FutureWarning: Pass the following variable as a keyword arg: x. From version 0.12, the only valid positional argument will be `data`, and passing other arguments without an explicit keyword will result in an error or misinterpretation.\n",
      "  warnings.warn(\n"
     ]
    },
    {
     "data": {
      "text/plain": [
       "<AxesSubplot:xlabel='class', ylabel='count'>"
      ]
     },
     "execution_count": 32,
     "metadata": {},
     "output_type": "execute_result"
    },
    {
     "data": {
      "image/png": "[encoded data removed]",
      "text/plain": [
       "<Figure size 432x288 with 1 Axes>"
      ]
     },
     "metadata": {},
     "output_type": "display_data"
    }
   ],
   "source": [
    "sns.countplot(imputed_data['class'])"
   ]
  },
  {
   "cell_type": "code",
   "execution_count": 34,
   "id": "dbda78fc",
   "metadata": {},
   "outputs": [],
   "source": [
    "x=imputed_data.drop(['class'],axis=1)\n",
    "y=imputed_data['class']"
   ]
  },
  {
   "cell_type": "code",
   "execution_count": 37,
   "id": "b4cb650b",
   "metadata": {},
   "outputs": [],
   "source": [
    "from sklearn.model_selection import train_test_split\n",
    "train_x,test_x,train_y,test_y=train_test_split(x,y, random_state=355 )"
   ]
  },
  {
   "cell_type": "code",
   "execution_count": null,
   "id": "e1b26b34",
   "metadata": {},
   "outputs": [],
   "source": []
  },
  {
   "cell_type": "code",
   "execution_count": 26,
   "id": "62b83655",
   "metadata": {},
   "outputs": [],
   "source": [
    "from sklearn.ensemble import RandomForestClassifier"
   ]
  },
  {
   "cell_type": "code",
   "execution_count": 27,
   "id": "c787e8b5",
   "metadata": {},
   "outputs": [],
   "source": [
    "from sklearn.model_selection import GridSearchCV\n",
    "from sklearn.metrics  import roc_auc_score,accuracy_score\n",
    "from sklearn.neighbors import KNeighborsClassifier"
   ]
  },
  {
   "cell_type": "code",
   "execution_count": 28,
   "id": "f66d8caf",
   "metadata": {},
   "outputs": [],
   "source": [
    "rf=RandomForestClassifier()"
   ]
  },
  {
   "cell_type": "code",
   "execution_count": 29,
   "id": "a9054314",
   "metadata": {},
   "outputs": [],
   "source": [
    "param_grid = {\"n_estimators\": [10, 50, 100, 130], \"criterion\": ['gini', 'entropy'],\n",
    "                               \"max_depth\": range(2, 4, 1), \"max_features\": ['auto', 'log2']}"
   ]
  },
  {
   "cell_type": "code",
   "execution_count": 30,
   "id": "080907d0",
   "metadata": {},
   "outputs": [],
   "source": [
    "grid = GridSearchCV(estimator=rf, param_grid=param_grid, cv=5,  verbose=3)"
   ]
  },
  {
   "cell_type": "code",
   "execution_count": 38,
   "id": "437dc1ff",
   "metadata": {},
   "outputs": [
    {
     "name": "stdout",
     "output_type": "stream",
     "text": [
      "Fitting 5 folds for each of 32 candidates, totalling 160 fits\n",
      "[CV 1/5] END criterion=gini, max_depth=2, max_features=auto, n_estimators=10;, score=0.955 total time=   0.0s\n",
      "[CV 2/5] END criterion=gini, max_depth=2, max_features=auto, n_estimators=10;, score=0.963 total time=   0.0s\n"
     ]
    },
    {
     "name": "stderr",
     "output_type": "stream",
     "text": [
      "C:\\Users\\prana\\anaconda3\\lib\\site-packages\\sklearn\\ensemble\\_forest.py:427: FutureWarning: `max_features='auto'` has been deprecated in 1.1 and will be removed in 1.3. To keep the past behaviour, explicitly set `max_features='sqrt'` or remove this parameter as it is also the default value for RandomForestClassifiers and ExtraTreesClassifiers.\n",
      "  warn(\n",
      "C:\\Users\\prana\\anaconda3\\lib\\site-packages\\sklearn\\ensemble\\_forest.py:427: FutureWarning: `max_features='auto'` has been deprecated in 1.1 and will be removed in 1.3. To keep the past behaviour, explicitly set `max_features='sqrt'` or remove this parameter as it is also the default value for RandomForestClassifiers and ExtraTreesClassifiers.\n",
      "  warn(\n",
      "C:\\Users\\prana\\anaconda3\\lib\\site-packages\\sklearn\\ensemble\\_forest.py:427: FutureWarning: `max_features='auto'` has been deprecated in 1.1 and will be removed in 1.3. To keep the past behaviour, explicitly set `max_features='sqrt'` or remove this parameter as it is also the default value for RandomForestClassifiers and ExtraTreesClassifiers.\n",
      "  warn(\n"
     ]
    },
    {
     "name": "stdout",
     "output_type": "stream",
     "text": [
      "[CV 3/5] END criterion=gini, max_depth=2, max_features=auto, n_estimators=10;, score=0.952 total time=   0.0s\n",
      "[CV 4/5] END criterion=gini, max_depth=2, max_features=auto, n_estimators=10;, score=0.939 total time=   0.0s\n",
      "[CV 5/5] END criterion=gini, max_depth=2, max_features=auto, n_estimators=10;, score=0.941 total time=   0.0s\n"
     ]
    },
    {
     "name": "stderr",
     "output_type": "stream",
     "text": [
      "C:\\Users\\prana\\anaconda3\\lib\\site-packages\\sklearn\\ensemble\\_forest.py:427: FutureWarning: `max_features='auto'` has been deprecated in 1.1 and will be removed in 1.3. To keep the past behaviour, explicitly set `max_features='sqrt'` or remove this parameter as it is also the default value for RandomForestClassifiers and ExtraTreesClassifiers.\n",
      "  warn(\n",
      "C:\\Users\\prana\\anaconda3\\lib\\site-packages\\sklearn\\ensemble\\_forest.py:427: FutureWarning: `max_features='auto'` has been deprecated in 1.1 and will be removed in 1.3. To keep the past behaviour, explicitly set `max_features='sqrt'` or remove this parameter as it is also the default value for RandomForestClassifiers and ExtraTreesClassifiers.\n",
      "  warn(\n",
      "C:\\Users\\prana\\anaconda3\\lib\\site-packages\\sklearn\\ensemble\\_forest.py:427: FutureWarning: `max_features='auto'` has been deprecated in 1.1 and will be removed in 1.3. To keep the past behaviour, explicitly set `max_features='sqrt'` or remove this parameter as it is also the default value for RandomForestClassifiers and ExtraTreesClassifiers.\n",
      "  warn(\n"
     ]
    },
    {
     "name": "stdout",
     "output_type": "stream",
     "text": [
      "[CV 1/5] END criterion=gini, max_depth=2, max_features=auto, n_estimators=50;, score=0.942 total time=   0.2s\n"
     ]
    },
    {
     "name": "stderr",
     "output_type": "stream",
     "text": [
      "C:\\Users\\prana\\anaconda3\\lib\\site-packages\\sklearn\\ensemble\\_forest.py:427: FutureWarning: `max_features='auto'` has been deprecated in 1.1 and will be removed in 1.3. To keep the past behaviour, explicitly set `max_features='sqrt'` or remove this parameter as it is also the default value for RandomForestClassifiers and ExtraTreesClassifiers.\n",
      "  warn(\n"
     ]
    },
    {
     "name": "stdout",
     "output_type": "stream",
     "text": [
      "[CV 2/5] END criterion=gini, max_depth=2, max_features=auto, n_estimators=50;, score=0.931 total time=   0.2s\n"
     ]
    },
    {
     "name": "stderr",
     "output_type": "stream",
     "text": [
      "C:\\Users\\prana\\anaconda3\\lib\\site-packages\\sklearn\\ensemble\\_forest.py:427: FutureWarning: `max_features='auto'` has been deprecated in 1.1 and will be removed in 1.3. To keep the past behaviour, explicitly set `max_features='sqrt'` or remove this parameter as it is also the default value for RandomForestClassifiers and ExtraTreesClassifiers.\n",
      "  warn(\n"
     ]
    },
    {
     "name": "stdout",
     "output_type": "stream",
     "text": [
      "[CV 3/5] END criterion=gini, max_depth=2, max_features=auto, n_estimators=50;, score=0.923 total time=   0.1s\n"
     ]
    },
    {
     "name": "stderr",
     "output_type": "stream",
     "text": [
      "C:\\Users\\prana\\anaconda3\\lib\\site-packages\\sklearn\\ensemble\\_forest.py:427: FutureWarning: `max_features='auto'` has been deprecated in 1.1 and will be removed in 1.3. To keep the past behaviour, explicitly set `max_features='sqrt'` or remove this parameter as it is also the default value for RandomForestClassifiers and ExtraTreesClassifiers.\n",
      "  warn(\n"
     ]
    },
    {
     "name": "stdout",
     "output_type": "stream",
     "text": [
      "[CV 4/5] END criterion=gini, max_depth=2, max_features=auto, n_estimators=50;, score=0.935 total time=   0.1s\n"
     ]
    },
    {
     "name": "stderr",
     "output_type": "stream",
     "text": [
      "C:\\Users\\prana\\anaconda3\\lib\\site-packages\\sklearn\\ensemble\\_forest.py:427: FutureWarning: `max_features='auto'` has been deprecated in 1.1 and will be removed in 1.3. To keep the past behaviour, explicitly set `max_features='sqrt'` or remove this parameter as it is also the default value for RandomForestClassifiers and ExtraTreesClassifiers.\n",
      "  warn(\n"
     ]
    },
    {
     "name": "stdout",
     "output_type": "stream",
     "text": [
      "[CV 5/5] END criterion=gini, max_depth=2, max_features=auto, n_estimators=50;, score=0.926 total time=   0.1s\n"
     ]
    },
    {
     "name": "stderr",
     "output_type": "stream",
     "text": [
      "C:\\Users\\prana\\anaconda3\\lib\\site-packages\\sklearn\\ensemble\\_forest.py:427: FutureWarning: `max_features='auto'` has been deprecated in 1.1 and will be removed in 1.3. To keep the past behaviour, explicitly set `max_features='sqrt'` or remove this parameter as it is also the default value for RandomForestClassifiers and ExtraTreesClassifiers.\n",
      "  warn(\n"
     ]
    },
    {
     "name": "stdout",
     "output_type": "stream",
     "text": [
      "[CV 1/5] END criterion=gini, max_depth=2, max_features=auto, n_estimators=100;, score=0.937 total time=   0.5s\n"
     ]
    },
    {
     "name": "stderr",
     "output_type": "stream",
     "text": [
      "C:\\Users\\prana\\anaconda3\\lib\\site-packages\\sklearn\\ensemble\\_forest.py:427: FutureWarning: `max_features='auto'` has been deprecated in 1.1 and will be removed in 1.3. To keep the past behaviour, explicitly set `max_features='sqrt'` or remove this parameter as it is also the default value for RandomForestClassifiers and ExtraTreesClassifiers.\n",
      "  warn(\n"
     ]
    },
    {
     "name": "stdout",
     "output_type": "stream",
     "text": [
      "[CV 2/5] END criterion=gini, max_depth=2, max_features=auto, n_estimators=100;, score=0.939 total time=   0.5s\n"
     ]
    },
    {
     "name": "stderr",
     "output_type": "stream",
     "text": [
      "C:\\Users\\prana\\anaconda3\\lib\\site-packages\\sklearn\\ensemble\\_forest.py:427: FutureWarning: `max_features='auto'` has been deprecated in 1.1 and will be removed in 1.3. To keep the past behaviour, explicitly set `max_features='sqrt'` or remove this parameter as it is also the default value for RandomForestClassifiers and ExtraTreesClassifiers.\n",
      "  warn(\n"
     ]
    },
    {
     "name": "stdout",
     "output_type": "stream",
     "text": [
      "[CV 3/5] END criterion=gini, max_depth=2, max_features=auto, n_estimators=100;, score=0.947 total time=   0.3s\n"
     ]
    },
    {
     "name": "stderr",
     "output_type": "stream",
     "text": [
      "C:\\Users\\prana\\anaconda3\\lib\\site-packages\\sklearn\\ensemble\\_forest.py:427: FutureWarning: `max_features='auto'` has been deprecated in 1.1 and will be removed in 1.3. To keep the past behaviour, explicitly set `max_features='sqrt'` or remove this parameter as it is also the default value for RandomForestClassifiers and ExtraTreesClassifiers.\n",
      "  warn(\n"
     ]
    },
    {
     "name": "stdout",
     "output_type": "stream",
     "text": [
      "[CV 4/5] END criterion=gini, max_depth=2, max_features=auto, n_estimators=100;, score=0.937 total time=   0.3s\n"
     ]
    },
    {
     "name": "stderr",
     "output_type": "stream",
     "text": [
      "C:\\Users\\prana\\anaconda3\\lib\\site-packages\\sklearn\\ensemble\\_forest.py:427: FutureWarning: `max_features='auto'` has been deprecated in 1.1 and will be removed in 1.3. To keep the past behaviour, explicitly set `max_features='sqrt'` or remove this parameter as it is also the default value for RandomForestClassifiers and ExtraTreesClassifiers.\n",
      "  warn(\n"
     ]
    },
    {
     "name": "stdout",
     "output_type": "stream",
     "text": [
      "[CV 5/5] END criterion=gini, max_depth=2, max_features=auto, n_estimators=100;, score=0.936 total time=   0.3s\n"
     ]
    },
    {
     "name": "stderr",
     "output_type": "stream",
     "text": [
      "C:\\Users\\prana\\anaconda3\\lib\\site-packages\\sklearn\\ensemble\\_forest.py:427: FutureWarning: `max_features='auto'` has been deprecated in 1.1 and will be removed in 1.3. To keep the past behaviour, explicitly set `max_features='sqrt'` or remove this parameter as it is also the default value for RandomForestClassifiers and ExtraTreesClassifiers.\n",
      "  warn(\n"
     ]
    },
    {
     "name": "stdout",
     "output_type": "stream",
     "text": [
      "[CV 1/5] END criterion=gini, max_depth=2, max_features=auto, n_estimators=130;, score=0.945 total time=   0.5s\n"
     ]
    },
    {
     "name": "stderr",
     "output_type": "stream",
     "text": [
      "C:\\Users\\prana\\anaconda3\\lib\\site-packages\\sklearn\\ensemble\\_forest.py:427: FutureWarning: `max_features='auto'` has been deprecated in 1.1 and will be removed in 1.3. To keep the past behaviour, explicitly set `max_features='sqrt'` or remove this parameter as it is also the default value for RandomForestClassifiers and ExtraTreesClassifiers.\n",
      "  warn(\n"
     ]
    },
    {
     "name": "stdout",
     "output_type": "stream",
     "text": [
      "[CV 2/5] END criterion=gini, max_depth=2, max_features=auto, n_estimators=130;, score=0.931 total time=   0.4s\n"
     ]
    },
    {
     "name": "stderr",
     "output_type": "stream",
     "text": [
      "C:\\Users\\prana\\anaconda3\\lib\\site-packages\\sklearn\\ensemble\\_forest.py:427: FutureWarning: `max_features='auto'` has been deprecated in 1.1 and will be removed in 1.3. To keep the past behaviour, explicitly set `max_features='sqrt'` or remove this parameter as it is also the default value for RandomForestClassifiers and ExtraTreesClassifiers.\n",
      "  warn(\n"
     ]
    },
    {
     "name": "stdout",
     "output_type": "stream",
     "text": [
      "[CV 3/5] END criterion=gini, max_depth=2, max_features=auto, n_estimators=130;, score=0.961 total time=   0.5s\n"
     ]
    },
    {
     "name": "stderr",
     "output_type": "stream",
     "text": [
      "C:\\Users\\prana\\anaconda3\\lib\\site-packages\\sklearn\\ensemble\\_forest.py:427: FutureWarning: `max_features='auto'` has been deprecated in 1.1 and will be removed in 1.3. To keep the past behaviour, explicitly set `max_features='sqrt'` or remove this parameter as it is also the default value for RandomForestClassifiers and ExtraTreesClassifiers.\n",
      "  warn(\n"
     ]
    },
    {
     "name": "stdout",
     "output_type": "stream",
     "text": [
      "[CV 4/5] END criterion=gini, max_depth=2, max_features=auto, n_estimators=130;, score=0.943 total time=   0.6s\n"
     ]
    },
    {
     "name": "stderr",
     "output_type": "stream",
     "text": [
      "C:\\Users\\prana\\anaconda3\\lib\\site-packages\\sklearn\\ensemble\\_forest.py:427: FutureWarning: `max_features='auto'` has been deprecated in 1.1 and will be removed in 1.3. To keep the past behaviour, explicitly set `max_features='sqrt'` or remove this parameter as it is also the default value for RandomForestClassifiers and ExtraTreesClassifiers.\n",
      "  warn(\n"
     ]
    },
    {
     "name": "stdout",
     "output_type": "stream",
     "text": [
      "[CV 5/5] END criterion=gini, max_depth=2, max_features=auto, n_estimators=130;, score=0.933 total time=   0.4s\n",
      "[CV 1/5] END criterion=gini, max_depth=2, max_features=log2, n_estimators=10;, score=0.920 total time=   0.0s\n",
      "[CV 2/5] END criterion=gini, max_depth=2, max_features=log2, n_estimators=10;, score=0.916 total time=   0.0s\n",
      "[CV 3/5] END criterion=gini, max_depth=2, max_features=log2, n_estimators=10;, score=0.934 total time=   0.0s\n",
      "[CV 4/5] END criterion=gini, max_depth=2, max_features=log2, n_estimators=10;, score=0.901 total time=   0.0s\n",
      "[CV 5/5] END criterion=gini, max_depth=2, max_features=log2, n_estimators=10;, score=0.922 total time=   0.0s\n",
      "[CV 1/5] END criterion=gini, max_depth=2, max_features=log2, n_estimators=50;, score=0.932 total time=   0.1s\n",
      "[CV 2/5] END criterion=gini, max_depth=2, max_features=log2, n_estimators=50;, score=0.916 total time=   0.1s\n",
      "[CV 3/5] END criterion=gini, max_depth=2, max_features=log2, n_estimators=50;, score=0.939 total time=   0.1s\n",
      "[CV 4/5] END criterion=gini, max_depth=2, max_features=log2, n_estimators=50;, score=0.929 total time=   0.1s\n",
      "[CV 5/5] END criterion=gini, max_depth=2, max_features=log2, n_estimators=50;, score=0.929 total time=   0.1s\n",
      "[CV 1/5] END criterion=gini, max_depth=2, max_features=log2, n_estimators=100;, score=0.932 total time=   0.3s\n",
      "[CV 2/5] END criterion=gini, max_depth=2, max_features=log2, n_estimators=100;, score=0.929 total time=   0.3s\n",
      "[CV 3/5] END criterion=gini, max_depth=2, max_features=log2, n_estimators=100;, score=0.917 total time=   0.3s\n",
      "[CV 4/5] END criterion=gini, max_depth=2, max_features=log2, n_estimators=100;, score=0.935 total time=   0.3s\n",
      "[CV 5/5] END criterion=gini, max_depth=2, max_features=log2, n_estimators=100;, score=0.929 total time=   0.2s\n",
      "[CV 1/5] END criterion=gini, max_depth=2, max_features=log2, n_estimators=130;, score=0.929 total time=   0.4s\n",
      "[CV 2/5] END criterion=gini, max_depth=2, max_features=log2, n_estimators=130;, score=0.919 total time=   0.3s\n",
      "[CV 3/5] END criterion=gini, max_depth=2, max_features=log2, n_estimators=130;, score=0.932 total time=   0.4s\n",
      "[CV 4/5] END criterion=gini, max_depth=2, max_features=log2, n_estimators=130;, score=0.920 total time=   0.4s\n",
      "[CV 5/5] END criterion=gini, max_depth=2, max_features=log2, n_estimators=130;, score=0.931 total time=   0.4s\n",
      "[CV 1/5] END criterion=gini, max_depth=3, max_features=auto, n_estimators=10;, score=0.976 total time=   0.0s\n",
      "[CV 2/5] END criterion=gini, max_depth=3, max_features=auto, n_estimators=10;, score=0.965 total time=   0.0s\n",
      "[CV 3/5] END criterion=gini, max_depth=3, max_features=auto, n_estimators=10;, score=0.965 total time=   0.0s\n"
     ]
    },
    {
     "name": "stderr",
     "output_type": "stream",
     "text": [
      "C:\\Users\\prana\\anaconda3\\lib\\site-packages\\sklearn\\ensemble\\_forest.py:427: FutureWarning: `max_features='auto'` has been deprecated in 1.1 and will be removed in 1.3. To keep the past behaviour, explicitly set `max_features='sqrt'` or remove this parameter as it is also the default value for RandomForestClassifiers and ExtraTreesClassifiers.\n",
      "  warn(\n",
      "C:\\Users\\prana\\anaconda3\\lib\\site-packages\\sklearn\\ensemble\\_forest.py:427: FutureWarning: `max_features='auto'` has been deprecated in 1.1 and will be removed in 1.3. To keep the past behaviour, explicitly set `max_features='sqrt'` or remove this parameter as it is also the default value for RandomForestClassifiers and ExtraTreesClassifiers.\n",
      "  warn(\n",
      "C:\\Users\\prana\\anaconda3\\lib\\site-packages\\sklearn\\ensemble\\_forest.py:427: FutureWarning: `max_features='auto'` has been deprecated in 1.1 and will be removed in 1.3. To keep the past behaviour, explicitly set `max_features='sqrt'` or remove this parameter as it is also the default value for RandomForestClassifiers and ExtraTreesClassifiers.\n",
      "  warn(\n",
      "C:\\Users\\prana\\anaconda3\\lib\\site-packages\\sklearn\\ensemble\\_forest.py:427: FutureWarning: `max_features='auto'` has been deprecated in 1.1 and will be removed in 1.3. To keep the past behaviour, explicitly set `max_features='sqrt'` or remove this parameter as it is also the default value for RandomForestClassifiers and ExtraTreesClassifiers.\n",
      "  warn(\n"
     ]
    },
    {
     "name": "stdout",
     "output_type": "stream",
     "text": [
      "[CV 4/5] END criterion=gini, max_depth=3, max_features=auto, n_estimators=10;, score=0.975 total time=   0.0s\n",
      "[CV 5/5] END criterion=gini, max_depth=3, max_features=auto, n_estimators=10;, score=0.969 total time=   0.0s\n"
     ]
    },
    {
     "name": "stderr",
     "output_type": "stream",
     "text": [
      "C:\\Users\\prana\\anaconda3\\lib\\site-packages\\sklearn\\ensemble\\_forest.py:427: FutureWarning: `max_features='auto'` has been deprecated in 1.1 and will be removed in 1.3. To keep the past behaviour, explicitly set `max_features='sqrt'` or remove this parameter as it is also the default value for RandomForestClassifiers and ExtraTreesClassifiers.\n",
      "  warn(\n",
      "C:\\Users\\prana\\anaconda3\\lib\\site-packages\\sklearn\\ensemble\\_forest.py:427: FutureWarning: `max_features='auto'` has been deprecated in 1.1 and will be removed in 1.3. To keep the past behaviour, explicitly set `max_features='sqrt'` or remove this parameter as it is also the default value for RandomForestClassifiers and ExtraTreesClassifiers.\n",
      "  warn(\n"
     ]
    },
    {
     "name": "stdout",
     "output_type": "stream",
     "text": [
      "[CV 1/5] END criterion=gini, max_depth=3, max_features=auto, n_estimators=50;, score=0.969 total time=   0.2s\n"
     ]
    },
    {
     "name": "stderr",
     "output_type": "stream",
     "text": [
      "C:\\Users\\prana\\anaconda3\\lib\\site-packages\\sklearn\\ensemble\\_forest.py:427: FutureWarning: `max_features='auto'` has been deprecated in 1.1 and will be removed in 1.3. To keep the past behaviour, explicitly set `max_features='sqrt'` or remove this parameter as it is also the default value for RandomForestClassifiers and ExtraTreesClassifiers.\n",
      "  warn(\n"
     ]
    },
    {
     "name": "stdout",
     "output_type": "stream",
     "text": [
      "[CV 2/5] END criterion=gini, max_depth=3, max_features=auto, n_estimators=50;, score=0.962 total time=   0.1s\n"
     ]
    },
    {
     "name": "stderr",
     "output_type": "stream",
     "text": [
      "C:\\Users\\prana\\anaconda3\\lib\\site-packages\\sklearn\\ensemble\\_forest.py:427: FutureWarning: `max_features='auto'` has been deprecated in 1.1 and will be removed in 1.3. To keep the past behaviour, explicitly set `max_features='sqrt'` or remove this parameter as it is also the default value for RandomForestClassifiers and ExtraTreesClassifiers.\n",
      "  warn(\n"
     ]
    },
    {
     "name": "stdout",
     "output_type": "stream",
     "text": [
      "[CV 3/5] END criterion=gini, max_depth=3, max_features=auto, n_estimators=50;, score=0.957 total time=   0.1s\n"
     ]
    },
    {
     "name": "stderr",
     "output_type": "stream",
     "text": [
      "C:\\Users\\prana\\anaconda3\\lib\\site-packages\\sklearn\\ensemble\\_forest.py:427: FutureWarning: `max_features='auto'` has been deprecated in 1.1 and will be removed in 1.3. To keep the past behaviour, explicitly set `max_features='sqrt'` or remove this parameter as it is also the default value for RandomForestClassifiers and ExtraTreesClassifiers.\n",
      "  warn(\n"
     ]
    },
    {
     "name": "stdout",
     "output_type": "stream",
     "text": [
      "[CV 4/5] END criterion=gini, max_depth=3, max_features=auto, n_estimators=50;, score=0.975 total time=   0.2s\n"
     ]
    },
    {
     "name": "stderr",
     "output_type": "stream",
     "text": [
      "C:\\Users\\prana\\anaconda3\\lib\\site-packages\\sklearn\\ensemble\\_forest.py:427: FutureWarning: `max_features='auto'` has been deprecated in 1.1 and will be removed in 1.3. To keep the past behaviour, explicitly set `max_features='sqrt'` or remove this parameter as it is also the default value for RandomForestClassifiers and ExtraTreesClassifiers.\n",
      "  warn(\n"
     ]
    },
    {
     "name": "stdout",
     "output_type": "stream",
     "text": [
      "[CV 5/5] END criterion=gini, max_depth=3, max_features=auto, n_estimators=50;, score=0.984 total time=   0.1s\n"
     ]
    },
    {
     "name": "stderr",
     "output_type": "stream",
     "text": [
      "C:\\Users\\prana\\anaconda3\\lib\\site-packages\\sklearn\\ensemble\\_forest.py:427: FutureWarning: `max_features='auto'` has been deprecated in 1.1 and will be removed in 1.3. To keep the past behaviour, explicitly set `max_features='sqrt'` or remove this parameter as it is also the default value for RandomForestClassifiers and ExtraTreesClassifiers.\n",
      "  warn(\n"
     ]
    },
    {
     "name": "stdout",
     "output_type": "stream",
     "text": [
      "[CV 1/5] END criterion=gini, max_depth=3, max_features=auto, n_estimators=100;, score=0.983 total time=   0.4s\n"
     ]
    },
    {
     "name": "stderr",
     "output_type": "stream",
     "text": [
      "C:\\Users\\prana\\anaconda3\\lib\\site-packages\\sklearn\\ensemble\\_forest.py:427: FutureWarning: `max_features='auto'` has been deprecated in 1.1 and will be removed in 1.3. To keep the past behaviour, explicitly set `max_features='sqrt'` or remove this parameter as it is also the default value for RandomForestClassifiers and ExtraTreesClassifiers.\n",
      "  warn(\n"
     ]
    },
    {
     "name": "stdout",
     "output_type": "stream",
     "text": [
      "[CV 2/5] END criterion=gini, max_depth=3, max_features=auto, n_estimators=100;, score=0.979 total time=   0.4s\n"
     ]
    },
    {
     "name": "stderr",
     "output_type": "stream",
     "text": [
      "C:\\Users\\prana\\anaconda3\\lib\\site-packages\\sklearn\\ensemble\\_forest.py:427: FutureWarning: `max_features='auto'` has been deprecated in 1.1 and will be removed in 1.3. To keep the past behaviour, explicitly set `max_features='sqrt'` or remove this parameter as it is also the default value for RandomForestClassifiers and ExtraTreesClassifiers.\n",
      "  warn(\n"
     ]
    },
    {
     "name": "stdout",
     "output_type": "stream",
     "text": [
      "[CV 3/5] END criterion=gini, max_depth=3, max_features=auto, n_estimators=100;, score=0.990 total time=   0.4s\n"
     ]
    },
    {
     "name": "stderr",
     "output_type": "stream",
     "text": [
      "C:\\Users\\prana\\anaconda3\\lib\\site-packages\\sklearn\\ensemble\\_forest.py:427: FutureWarning: `max_features='auto'` has been deprecated in 1.1 and will be removed in 1.3. To keep the past behaviour, explicitly set `max_features='sqrt'` or remove this parameter as it is also the default value for RandomForestClassifiers and ExtraTreesClassifiers.\n",
      "  warn(\n"
     ]
    },
    {
     "name": "stdout",
     "output_type": "stream",
     "text": [
      "[CV 4/5] END criterion=gini, max_depth=3, max_features=auto, n_estimators=100;, score=0.984 total time=   0.4s\n"
     ]
    },
    {
     "name": "stderr",
     "output_type": "stream",
     "text": [
      "C:\\Users\\prana\\anaconda3\\lib\\site-packages\\sklearn\\ensemble\\_forest.py:427: FutureWarning: `max_features='auto'` has been deprecated in 1.1 and will be removed in 1.3. To keep the past behaviour, explicitly set `max_features='sqrt'` or remove this parameter as it is also the default value for RandomForestClassifiers and ExtraTreesClassifiers.\n",
      "  warn(\n"
     ]
    },
    {
     "name": "stdout",
     "output_type": "stream",
     "text": [
      "[CV 5/5] END criterion=gini, max_depth=3, max_features=auto, n_estimators=100;, score=0.970 total time=   0.4s\n"
     ]
    },
    {
     "name": "stderr",
     "output_type": "stream",
     "text": [
      "C:\\Users\\prana\\anaconda3\\lib\\site-packages\\sklearn\\ensemble\\_forest.py:427: FutureWarning: `max_features='auto'` has been deprecated in 1.1 and will be removed in 1.3. To keep the past behaviour, explicitly set `max_features='sqrt'` or remove this parameter as it is also the default value for RandomForestClassifiers and ExtraTreesClassifiers.\n",
      "  warn(\n"
     ]
    },
    {
     "name": "stdout",
     "output_type": "stream",
     "text": [
      "[CV 1/5] END criterion=gini, max_depth=3, max_features=auto, n_estimators=130;, score=0.978 total time=   0.6s\n"
     ]
    },
    {
     "name": "stderr",
     "output_type": "stream",
     "text": [
      "C:\\Users\\prana\\anaconda3\\lib\\site-packages\\sklearn\\ensemble\\_forest.py:427: FutureWarning: `max_features='auto'` has been deprecated in 1.1 and will be removed in 1.3. To keep the past behaviour, explicitly set `max_features='sqrt'` or remove this parameter as it is also the default value for RandomForestClassifiers and ExtraTreesClassifiers.\n",
      "  warn(\n"
     ]
    },
    {
     "name": "stdout",
     "output_type": "stream",
     "text": [
      "[CV 2/5] END criterion=gini, max_depth=3, max_features=auto, n_estimators=130;, score=0.980 total time=   0.5s\n"
     ]
    },
    {
     "name": "stderr",
     "output_type": "stream",
     "text": [
      "C:\\Users\\prana\\anaconda3\\lib\\site-packages\\sklearn\\ensemble\\_forest.py:427: FutureWarning: `max_features='auto'` has been deprecated in 1.1 and will be removed in 1.3. To keep the past behaviour, explicitly set `max_features='sqrt'` or remove this parameter as it is also the default value for RandomForestClassifiers and ExtraTreesClassifiers.\n",
      "  warn(\n"
     ]
    },
    {
     "name": "stdout",
     "output_type": "stream",
     "text": [
      "[CV 3/5] END criterion=gini, max_depth=3, max_features=auto, n_estimators=130;, score=0.990 total time=   0.5s\n"
     ]
    },
    {
     "name": "stderr",
     "output_type": "stream",
     "text": [
      "C:\\Users\\prana\\anaconda3\\lib\\site-packages\\sklearn\\ensemble\\_forest.py:427: FutureWarning: `max_features='auto'` has been deprecated in 1.1 and will be removed in 1.3. To keep the past behaviour, explicitly set `max_features='sqrt'` or remove this parameter as it is also the default value for RandomForestClassifiers and ExtraTreesClassifiers.\n",
      "  warn(\n"
     ]
    },
    {
     "name": "stdout",
     "output_type": "stream",
     "text": [
      "[CV 4/5] END criterion=gini, max_depth=3, max_features=auto, n_estimators=130;, score=0.966 total time=   0.5s\n"
     ]
    },
    {
     "name": "stderr",
     "output_type": "stream",
     "text": [
      "C:\\Users\\prana\\anaconda3\\lib\\site-packages\\sklearn\\ensemble\\_forest.py:427: FutureWarning: `max_features='auto'` has been deprecated in 1.1 and will be removed in 1.3. To keep the past behaviour, explicitly set `max_features='sqrt'` or remove this parameter as it is also the default value for RandomForestClassifiers and ExtraTreesClassifiers.\n",
      "  warn(\n"
     ]
    },
    {
     "name": "stdout",
     "output_type": "stream",
     "text": [
      "[CV 5/5] END criterion=gini, max_depth=3, max_features=auto, n_estimators=130;, score=0.990 total time=   0.5s\n",
      "[CV 1/5] END criterion=gini, max_depth=3, max_features=log2, n_estimators=10;, score=0.960 total time=   0.0s\n",
      "[CV 2/5] END criterion=gini, max_depth=3, max_features=log2, n_estimators=10;, score=0.974 total time=   0.0s\n",
      "[CV 3/5] END criterion=gini, max_depth=3, max_features=log2, n_estimators=10;, score=0.925 total time=   0.0s\n",
      "[CV 4/5] END criterion=gini, max_depth=3, max_features=log2, n_estimators=10;, score=0.930 total time=   0.0s\n",
      "[CV 5/5] END criterion=gini, max_depth=3, max_features=log2, n_estimators=10;, score=0.941 total time=   0.0s\n",
      "[CV 1/5] END criterion=gini, max_depth=3, max_features=log2, n_estimators=50;, score=0.943 total time=   0.1s\n",
      "[CV 2/5] END criterion=gini, max_depth=3, max_features=log2, n_estimators=50;, score=0.932 total time=   0.1s\n",
      "[CV 3/5] END criterion=gini, max_depth=3, max_features=log2, n_estimators=50;, score=0.936 total time=   0.1s\n",
      "[CV 4/5] END criterion=gini, max_depth=3, max_features=log2, n_estimators=50;, score=0.939 total time=   0.1s\n",
      "[CV 5/5] END criterion=gini, max_depth=3, max_features=log2, n_estimators=50;, score=0.942 total time=   0.1s\n",
      "[CV 1/5] END criterion=gini, max_depth=3, max_features=log2, n_estimators=100;, score=0.943 total time=   0.3s\n",
      "[CV 2/5] END criterion=gini, max_depth=3, max_features=log2, n_estimators=100;, score=0.951 total time=   0.4s\n",
      "[CV 3/5] END criterion=gini, max_depth=3, max_features=log2, n_estimators=100;, score=0.971 total time=   0.3s\n",
      "[CV 4/5] END criterion=gini, max_depth=3, max_features=log2, n_estimators=100;, score=0.959 total time=   0.4s\n",
      "[CV 5/5] END criterion=gini, max_depth=3, max_features=log2, n_estimators=100;, score=0.947 total time=   0.4s\n",
      "[CV 1/5] END criterion=gini, max_depth=3, max_features=log2, n_estimators=130;, score=0.958 total time=   0.5s\n",
      "[CV 2/5] END criterion=gini, max_depth=3, max_features=log2, n_estimators=130;, score=0.934 total time=   0.5s\n",
      "[CV 3/5] END criterion=gini, max_depth=3, max_features=log2, n_estimators=130;, score=0.952 total time=   0.5s\n",
      "[CV 4/5] END criterion=gini, max_depth=3, max_features=log2, n_estimators=130;, score=0.969 total time=   0.5s\n",
      "[CV 5/5] END criterion=gini, max_depth=3, max_features=log2, n_estimators=130;, score=0.934 total time=   0.4s\n",
      "[CV 1/5] END criterion=entropy, max_depth=2, max_features=auto, n_estimators=10;, score=0.943 total time=   0.0s\n",
      "[CV 2/5] END criterion=entropy, max_depth=2, max_features=auto, n_estimators=10;, score=0.941 total time=   0.0s\n",
      "[CV 3/5] END criterion=entropy, max_depth=2, max_features=auto, n_estimators=10;, score=0.966 total time=   0.0s\n"
     ]
    },
    {
     "name": "stderr",
     "output_type": "stream",
     "text": [
      "C:\\Users\\prana\\anaconda3\\lib\\site-packages\\sklearn\\ensemble\\_forest.py:427: FutureWarning: `max_features='auto'` has been deprecated in 1.1 and will be removed in 1.3. To keep the past behaviour, explicitly set `max_features='sqrt'` or remove this parameter as it is also the default value for RandomForestClassifiers and ExtraTreesClassifiers.\n",
      "  warn(\n",
      "C:\\Users\\prana\\anaconda3\\lib\\site-packages\\sklearn\\ensemble\\_forest.py:427: FutureWarning: `max_features='auto'` has been deprecated in 1.1 and will be removed in 1.3. To keep the past behaviour, explicitly set `max_features='sqrt'` or remove this parameter as it is also the default value for RandomForestClassifiers and ExtraTreesClassifiers.\n",
      "  warn(\n",
      "C:\\Users\\prana\\anaconda3\\lib\\site-packages\\sklearn\\ensemble\\_forest.py:427: FutureWarning: `max_features='auto'` has been deprecated in 1.1 and will be removed in 1.3. To keep the past behaviour, explicitly set `max_features='sqrt'` or remove this parameter as it is also the default value for RandomForestClassifiers and ExtraTreesClassifiers.\n",
      "  warn(\n",
      "C:\\Users\\prana\\anaconda3\\lib\\site-packages\\sklearn\\ensemble\\_forest.py:427: FutureWarning: `max_features='auto'` has been deprecated in 1.1 and will be removed in 1.3. To keep the past behaviour, explicitly set `max_features='sqrt'` or remove this parameter as it is also the default value for RandomForestClassifiers and ExtraTreesClassifiers.\n",
      "  warn(\n"
     ]
    },
    {
     "name": "stdout",
     "output_type": "stream",
     "text": [
      "[CV 4/5] END criterion=entropy, max_depth=2, max_features=auto, n_estimators=10;, score=0.919 total time=   0.0s\n",
      "[CV 5/5] END criterion=entropy, max_depth=2, max_features=auto, n_estimators=10;, score=0.959 total time=   0.0s\n"
     ]
    },
    {
     "name": "stderr",
     "output_type": "stream",
     "text": [
      "C:\\Users\\prana\\anaconda3\\lib\\site-packages\\sklearn\\ensemble\\_forest.py:427: FutureWarning: `max_features='auto'` has been deprecated in 1.1 and will be removed in 1.3. To keep the past behaviour, explicitly set `max_features='sqrt'` or remove this parameter as it is also the default value for RandomForestClassifiers and ExtraTreesClassifiers.\n",
      "  warn(\n",
      "C:\\Users\\prana\\anaconda3\\lib\\site-packages\\sklearn\\ensemble\\_forest.py:427: FutureWarning: `max_features='auto'` has been deprecated in 1.1 and will be removed in 1.3. To keep the past behaviour, explicitly set `max_features='sqrt'` or remove this parameter as it is also the default value for RandomForestClassifiers and ExtraTreesClassifiers.\n",
      "  warn(\n"
     ]
    },
    {
     "name": "stdout",
     "output_type": "stream",
     "text": [
      "[CV 1/5] END criterion=entropy, max_depth=2, max_features=auto, n_estimators=50;, score=0.925 total time=   0.1s\n"
     ]
    },
    {
     "name": "stderr",
     "output_type": "stream",
     "text": [
      "C:\\Users\\prana\\anaconda3\\lib\\site-packages\\sklearn\\ensemble\\_forest.py:427: FutureWarning: `max_features='auto'` has been deprecated in 1.1 and will be removed in 1.3. To keep the past behaviour, explicitly set `max_features='sqrt'` or remove this parameter as it is also the default value for RandomForestClassifiers and ExtraTreesClassifiers.\n",
      "  warn(\n"
     ]
    },
    {
     "name": "stdout",
     "output_type": "stream",
     "text": [
      "[CV 2/5] END criterion=entropy, max_depth=2, max_features=auto, n_estimators=50;, score=0.931 total time=   0.1s\n"
     ]
    },
    {
     "name": "stderr",
     "output_type": "stream",
     "text": [
      "C:\\Users\\prana\\anaconda3\\lib\\site-packages\\sklearn\\ensemble\\_forest.py:427: FutureWarning: `max_features='auto'` has been deprecated in 1.1 and will be removed in 1.3. To keep the past behaviour, explicitly set `max_features='sqrt'` or remove this parameter as it is also the default value for RandomForestClassifiers and ExtraTreesClassifiers.\n",
      "  warn(\n"
     ]
    },
    {
     "name": "stdout",
     "output_type": "stream",
     "text": [
      "[CV 3/5] END criterion=entropy, max_depth=2, max_features=auto, n_estimators=50;, score=0.940 total time=   0.2s\n",
      "[CV 4/5] END criterion=entropy, max_depth=2, max_features=auto, n_estimators=50;, score=0.933 total time=   0.1s\n"
     ]
    },
    {
     "name": "stderr",
     "output_type": "stream",
     "text": [
      "C:\\Users\\prana\\anaconda3\\lib\\site-packages\\sklearn\\ensemble\\_forest.py:427: FutureWarning: `max_features='auto'` has been deprecated in 1.1 and will be removed in 1.3. To keep the past behaviour, explicitly set `max_features='sqrt'` or remove this parameter as it is also the default value for RandomForestClassifiers and ExtraTreesClassifiers.\n",
      "  warn(\n",
      "C:\\Users\\prana\\anaconda3\\lib\\site-packages\\sklearn\\ensemble\\_forest.py:427: FutureWarning: `max_features='auto'` has been deprecated in 1.1 and will be removed in 1.3. To keep the past behaviour, explicitly set `max_features='sqrt'` or remove this parameter as it is also the default value for RandomForestClassifiers and ExtraTreesClassifiers.\n",
      "  warn(\n"
     ]
    },
    {
     "name": "stdout",
     "output_type": "stream",
     "text": [
      "[CV 5/5] END criterion=entropy, max_depth=2, max_features=auto, n_estimators=50;, score=0.965 total time=   0.1s\n"
     ]
    },
    {
     "name": "stderr",
     "output_type": "stream",
     "text": [
      "C:\\Users\\prana\\anaconda3\\lib\\site-packages\\sklearn\\ensemble\\_forest.py:427: FutureWarning: `max_features='auto'` has been deprecated in 1.1 and will be removed in 1.3. To keep the past behaviour, explicitly set `max_features='sqrt'` or remove this parameter as it is also the default value for RandomForestClassifiers and ExtraTreesClassifiers.\n",
      "  warn(\n"
     ]
    },
    {
     "name": "stdout",
     "output_type": "stream",
     "text": [
      "[CV 1/5] END criterion=entropy, max_depth=2, max_features=auto, n_estimators=100;, score=0.934 total time=   0.3s\n"
     ]
    },
    {
     "name": "stderr",
     "output_type": "stream",
     "text": [
      "C:\\Users\\prana\\anaconda3\\lib\\site-packages\\sklearn\\ensemble\\_forest.py:427: FutureWarning: `max_features='auto'` has been deprecated in 1.1 and will be removed in 1.3. To keep the past behaviour, explicitly set `max_features='sqrt'` or remove this parameter as it is also the default value for RandomForestClassifiers and ExtraTreesClassifiers.\n",
      "  warn(\n"
     ]
    },
    {
     "name": "stdout",
     "output_type": "stream",
     "text": [
      "[CV 2/5] END criterion=entropy, max_depth=2, max_features=auto, n_estimators=100;, score=0.931 total time=   0.4s\n"
     ]
    },
    {
     "name": "stderr",
     "output_type": "stream",
     "text": [
      "C:\\Users\\prana\\anaconda3\\lib\\site-packages\\sklearn\\ensemble\\_forest.py:427: FutureWarning: `max_features='auto'` has been deprecated in 1.1 and will be removed in 1.3. To keep the past behaviour, explicitly set `max_features='sqrt'` or remove this parameter as it is also the default value for RandomForestClassifiers and ExtraTreesClassifiers.\n",
      "  warn(\n"
     ]
    },
    {
     "name": "stdout",
     "output_type": "stream",
     "text": [
      "[CV 3/5] END criterion=entropy, max_depth=2, max_features=auto, n_estimators=100;, score=0.941 total time=   0.3s\n"
     ]
    },
    {
     "name": "stderr",
     "output_type": "stream",
     "text": [
      "C:\\Users\\prana\\anaconda3\\lib\\site-packages\\sklearn\\ensemble\\_forest.py:427: FutureWarning: `max_features='auto'` has been deprecated in 1.1 and will be removed in 1.3. To keep the past behaviour, explicitly set `max_features='sqrt'` or remove this parameter as it is also the default value for RandomForestClassifiers and ExtraTreesClassifiers.\n",
      "  warn(\n"
     ]
    },
    {
     "name": "stdout",
     "output_type": "stream",
     "text": [
      "[CV 4/5] END criterion=entropy, max_depth=2, max_features=auto, n_estimators=100;, score=0.940 total time=   0.3s\n"
     ]
    },
    {
     "name": "stderr",
     "output_type": "stream",
     "text": [
      "C:\\Users\\prana\\anaconda3\\lib\\site-packages\\sklearn\\ensemble\\_forest.py:427: FutureWarning: `max_features='auto'` has been deprecated in 1.1 and will be removed in 1.3. To keep the past behaviour, explicitly set `max_features='sqrt'` or remove this parameter as it is also the default value for RandomForestClassifiers and ExtraTreesClassifiers.\n",
      "  warn(\n"
     ]
    },
    {
     "name": "stdout",
     "output_type": "stream",
     "text": [
      "[CV 5/5] END criterion=entropy, max_depth=2, max_features=auto, n_estimators=100;, score=0.941 total time=   0.4s\n"
     ]
    },
    {
     "name": "stderr",
     "output_type": "stream",
     "text": [
      "C:\\Users\\prana\\anaconda3\\lib\\site-packages\\sklearn\\ensemble\\_forest.py:427: FutureWarning: `max_features='auto'` has been deprecated in 1.1 and will be removed in 1.3. To keep the past behaviour, explicitly set `max_features='sqrt'` or remove this parameter as it is also the default value for RandomForestClassifiers and ExtraTreesClassifiers.\n",
      "  warn(\n"
     ]
    },
    {
     "name": "stdout",
     "output_type": "stream",
     "text": [
      "[CV 1/5] END criterion=entropy, max_depth=2, max_features=auto, n_estimators=130;, score=0.932 total time=   0.4s\n"
     ]
    },
    {
     "name": "stderr",
     "output_type": "stream",
     "text": [
      "C:\\Users\\prana\\anaconda3\\lib\\site-packages\\sklearn\\ensemble\\_forest.py:427: FutureWarning: `max_features='auto'` has been deprecated in 1.1 and will be removed in 1.3. To keep the past behaviour, explicitly set `max_features='sqrt'` or remove this parameter as it is also the default value for RandomForestClassifiers and ExtraTreesClassifiers.\n",
      "  warn(\n"
     ]
    },
    {
     "name": "stdout",
     "output_type": "stream",
     "text": [
      "[CV 2/5] END criterion=entropy, max_depth=2, max_features=auto, n_estimators=130;, score=0.952 total time=   0.4s\n"
     ]
    },
    {
     "name": "stderr",
     "output_type": "stream",
     "text": [
      "C:\\Users\\prana\\anaconda3\\lib\\site-packages\\sklearn\\ensemble\\_forest.py:427: FutureWarning: `max_features='auto'` has been deprecated in 1.1 and will be removed in 1.3. To keep the past behaviour, explicitly set `max_features='sqrt'` or remove this parameter as it is also the default value for RandomForestClassifiers and ExtraTreesClassifiers.\n",
      "  warn(\n"
     ]
    },
    {
     "name": "stdout",
     "output_type": "stream",
     "text": [
      "[CV 3/5] END criterion=entropy, max_depth=2, max_features=auto, n_estimators=130;, score=0.938 total time=   0.5s\n"
     ]
    },
    {
     "name": "stderr",
     "output_type": "stream",
     "text": [
      "C:\\Users\\prana\\anaconda3\\lib\\site-packages\\sklearn\\ensemble\\_forest.py:427: FutureWarning: `max_features='auto'` has been deprecated in 1.1 and will be removed in 1.3. To keep the past behaviour, explicitly set `max_features='sqrt'` or remove this parameter as it is also the default value for RandomForestClassifiers and ExtraTreesClassifiers.\n",
      "  warn(\n"
     ]
    },
    {
     "name": "stdout",
     "output_type": "stream",
     "text": [
      "[CV 4/5] END criterion=entropy, max_depth=2, max_features=auto, n_estimators=130;, score=0.950 total time=   0.5s\n"
     ]
    },
    {
     "name": "stderr",
     "output_type": "stream",
     "text": [
      "C:\\Users\\prana\\anaconda3\\lib\\site-packages\\sklearn\\ensemble\\_forest.py:427: FutureWarning: `max_features='auto'` has been deprecated in 1.1 and will be removed in 1.3. To keep the past behaviour, explicitly set `max_features='sqrt'` or remove this parameter as it is also the default value for RandomForestClassifiers and ExtraTreesClassifiers.\n",
      "  warn(\n"
     ]
    },
    {
     "name": "stdout",
     "output_type": "stream",
     "text": [
      "[CV 5/5] END criterion=entropy, max_depth=2, max_features=auto, n_estimators=130;, score=0.933 total time=   0.5s\n",
      "[CV 1/5] END criterion=entropy, max_depth=2, max_features=log2, n_estimators=10;, score=0.874 total time=   0.0s\n",
      "[CV 2/5] END criterion=entropy, max_depth=2, max_features=log2, n_estimators=10;, score=0.941 total time=   0.0s\n",
      "[CV 3/5] END criterion=entropy, max_depth=2, max_features=log2, n_estimators=10;, score=0.926 total time=   0.0s\n",
      "[CV 4/5] END criterion=entropy, max_depth=2, max_features=log2, n_estimators=10;, score=0.875 total time=   0.0s\n",
      "[CV 5/5] END criterion=entropy, max_depth=2, max_features=log2, n_estimators=10;, score=0.874 total time=   0.0s\n",
      "[CV 1/5] END criterion=entropy, max_depth=2, max_features=log2, n_estimators=50;, score=0.919 total time=   0.1s\n",
      "[CV 2/5] END criterion=entropy, max_depth=2, max_features=log2, n_estimators=50;, score=0.924 total time=   0.1s\n",
      "[CV 3/5] END criterion=entropy, max_depth=2, max_features=log2, n_estimators=50;, score=0.924 total time=   0.1s\n",
      "[CV 4/5] END criterion=entropy, max_depth=2, max_features=log2, n_estimators=50;, score=0.936 total time=   0.1s\n",
      "[CV 5/5] END criterion=entropy, max_depth=2, max_features=log2, n_estimators=50;, score=0.907 total time=   0.1s\n",
      "[CV 1/5] END criterion=entropy, max_depth=2, max_features=log2, n_estimators=100;, score=0.932 total time=   0.3s\n",
      "[CV 2/5] END criterion=entropy, max_depth=2, max_features=log2, n_estimators=100;, score=0.931 total time=   0.3s\n",
      "[CV 3/5] END criterion=entropy, max_depth=2, max_features=log2, n_estimators=100;, score=0.910 total time=   0.3s\n",
      "[CV 4/5] END criterion=entropy, max_depth=2, max_features=log2, n_estimators=100;, score=0.931 total time=   0.3s\n",
      "[CV 5/5] END criterion=entropy, max_depth=2, max_features=log2, n_estimators=100;, score=0.905 total time=   0.3s\n",
      "[CV 1/5] END criterion=entropy, max_depth=2, max_features=log2, n_estimators=130;, score=0.932 total time=   0.4s\n",
      "[CV 2/5] END criterion=entropy, max_depth=2, max_features=log2, n_estimators=130;, score=0.920 total time=   0.5s\n",
      "[CV 3/5] END criterion=entropy, max_depth=2, max_features=log2, n_estimators=130;, score=0.938 total time=   0.4s\n",
      "[CV 4/5] END criterion=entropy, max_depth=2, max_features=log2, n_estimators=130;, score=0.929 total time=   0.5s\n",
      "[CV 5/5] END criterion=entropy, max_depth=2, max_features=log2, n_estimators=130;, score=0.933 total time=   0.4s\n",
      "[CV 1/5] END criterion=entropy, max_depth=3, max_features=auto, n_estimators=10;, score=0.941 total time=   0.0s\n",
      "[CV 2/5] END criterion=entropy, max_depth=3, max_features=auto, n_estimators=10;, score=0.943 total time=   0.0s\n"
     ]
    },
    {
     "name": "stderr",
     "output_type": "stream",
     "text": [
      "C:\\Users\\prana\\anaconda3\\lib\\site-packages\\sklearn\\ensemble\\_forest.py:427: FutureWarning: `max_features='auto'` has been deprecated in 1.1 and will be removed in 1.3. To keep the past behaviour, explicitly set `max_features='sqrt'` or remove this parameter as it is also the default value for RandomForestClassifiers and ExtraTreesClassifiers.\n",
      "  warn(\n",
      "C:\\Users\\prana\\anaconda3\\lib\\site-packages\\sklearn\\ensemble\\_forest.py:427: FutureWarning: `max_features='auto'` has been deprecated in 1.1 and will be removed in 1.3. To keep the past behaviour, explicitly set `max_features='sqrt'` or remove this parameter as it is also the default value for RandomForestClassifiers and ExtraTreesClassifiers.\n",
      "  warn(\n",
      "C:\\Users\\prana\\anaconda3\\lib\\site-packages\\sklearn\\ensemble\\_forest.py:427: FutureWarning: `max_features='auto'` has been deprecated in 1.1 and will be removed in 1.3. To keep the past behaviour, explicitly set `max_features='sqrt'` or remove this parameter as it is also the default value for RandomForestClassifiers and ExtraTreesClassifiers.\n",
      "  warn(\n"
     ]
    },
    {
     "name": "stdout",
     "output_type": "stream",
     "text": [
      "[CV 3/5] END criterion=entropy, max_depth=3, max_features=auto, n_estimators=10;, score=0.970 total time=   0.0s\n",
      "[CV 4/5] END criterion=entropy, max_depth=3, max_features=auto, n_estimators=10;, score=0.972 total time=   0.0s\n",
      "[CV 5/5] END criterion=entropy, max_depth=3, max_features=auto, n_estimators=10;, score=0.928 total time=   0.0s\n"
     ]
    },
    {
     "name": "stderr",
     "output_type": "stream",
     "text": [
      "C:\\Users\\prana\\anaconda3\\lib\\site-packages\\sklearn\\ensemble\\_forest.py:427: FutureWarning: `max_features='auto'` has been deprecated in 1.1 and will be removed in 1.3. To keep the past behaviour, explicitly set `max_features='sqrt'` or remove this parameter as it is also the default value for RandomForestClassifiers and ExtraTreesClassifiers.\n",
      "  warn(\n",
      "C:\\Users\\prana\\anaconda3\\lib\\site-packages\\sklearn\\ensemble\\_forest.py:427: FutureWarning: `max_features='auto'` has been deprecated in 1.1 and will be removed in 1.3. To keep the past behaviour, explicitly set `max_features='sqrt'` or remove this parameter as it is also the default value for RandomForestClassifiers and ExtraTreesClassifiers.\n",
      "  warn(\n",
      "C:\\Users\\prana\\anaconda3\\lib\\site-packages\\sklearn\\ensemble\\_forest.py:427: FutureWarning: `max_features='auto'` has been deprecated in 1.1 and will be removed in 1.3. To keep the past behaviour, explicitly set `max_features='sqrt'` or remove this parameter as it is also the default value for RandomForestClassifiers and ExtraTreesClassifiers.\n",
      "  warn(\n"
     ]
    },
    {
     "name": "stdout",
     "output_type": "stream",
     "text": [
      "[CV 1/5] END criterion=entropy, max_depth=3, max_features=auto, n_estimators=50;, score=0.963 total time=   0.2s\n",
      "[CV 2/5] END criterion=entropy, max_depth=3, max_features=auto, n_estimators=50;, score=0.957 total time=   0.1s\n"
     ]
    },
    {
     "name": "stderr",
     "output_type": "stream",
     "text": [
      "C:\\Users\\prana\\anaconda3\\lib\\site-packages\\sklearn\\ensemble\\_forest.py:427: FutureWarning: `max_features='auto'` has been deprecated in 1.1 and will be removed in 1.3. To keep the past behaviour, explicitly set `max_features='sqrt'` or remove this parameter as it is also the default value for RandomForestClassifiers and ExtraTreesClassifiers.\n",
      "  warn(\n",
      "C:\\Users\\prana\\anaconda3\\lib\\site-packages\\sklearn\\ensemble\\_forest.py:427: FutureWarning: `max_features='auto'` has been deprecated in 1.1 and will be removed in 1.3. To keep the past behaviour, explicitly set `max_features='sqrt'` or remove this parameter as it is also the default value for RandomForestClassifiers and ExtraTreesClassifiers.\n",
      "  warn(\n"
     ]
    },
    {
     "name": "stdout",
     "output_type": "stream",
     "text": [
      "[CV 3/5] END criterion=entropy, max_depth=3, max_features=auto, n_estimators=50;, score=0.942 total time=   0.1s\n"
     ]
    },
    {
     "name": "stderr",
     "output_type": "stream",
     "text": [
      "C:\\Users\\prana\\anaconda3\\lib\\site-packages\\sklearn\\ensemble\\_forest.py:427: FutureWarning: `max_features='auto'` has been deprecated in 1.1 and will be removed in 1.3. To keep the past behaviour, explicitly set `max_features='sqrt'` or remove this parameter as it is also the default value for RandomForestClassifiers and ExtraTreesClassifiers.\n",
      "  warn(\n"
     ]
    },
    {
     "name": "stdout",
     "output_type": "stream",
     "text": [
      "[CV 4/5] END criterion=entropy, max_depth=3, max_features=auto, n_estimators=50;, score=0.947 total time=   0.2s\n"
     ]
    },
    {
     "name": "stderr",
     "output_type": "stream",
     "text": [
      "C:\\Users\\prana\\anaconda3\\lib\\site-packages\\sklearn\\ensemble\\_forest.py:427: FutureWarning: `max_features='auto'` has been deprecated in 1.1 and will be removed in 1.3. To keep the past behaviour, explicitly set `max_features='sqrt'` or remove this parameter as it is also the default value for RandomForestClassifiers and ExtraTreesClassifiers.\n",
      "  warn(\n"
     ]
    },
    {
     "name": "stdout",
     "output_type": "stream",
     "text": [
      "[CV 5/5] END criterion=entropy, max_depth=3, max_features=auto, n_estimators=50;, score=0.947 total time=   0.2s\n"
     ]
    },
    {
     "name": "stderr",
     "output_type": "stream",
     "text": [
      "C:\\Users\\prana\\anaconda3\\lib\\site-packages\\sklearn\\ensemble\\_forest.py:427: FutureWarning: `max_features='auto'` has been deprecated in 1.1 and will be removed in 1.3. To keep the past behaviour, explicitly set `max_features='sqrt'` or remove this parameter as it is also the default value for RandomForestClassifiers and ExtraTreesClassifiers.\n",
      "  warn(\n"
     ]
    },
    {
     "name": "stdout",
     "output_type": "stream",
     "text": [
      "[CV 1/5] END criterion=entropy, max_depth=3, max_features=auto, n_estimators=100;, score=0.960 total time=   0.3s\n"
     ]
    },
    {
     "name": "stderr",
     "output_type": "stream",
     "text": [
      "C:\\Users\\prana\\anaconda3\\lib\\site-packages\\sklearn\\ensemble\\_forest.py:427: FutureWarning: `max_features='auto'` has been deprecated in 1.1 and will be removed in 1.3. To keep the past behaviour, explicitly set `max_features='sqrt'` or remove this parameter as it is also the default value for RandomForestClassifiers and ExtraTreesClassifiers.\n",
      "  warn(\n"
     ]
    },
    {
     "name": "stdout",
     "output_type": "stream",
     "text": [
      "[CV 2/5] END criterion=entropy, max_depth=3, max_features=auto, n_estimators=100;, score=0.967 total time=   0.4s\n"
     ]
    },
    {
     "name": "stderr",
     "output_type": "stream",
     "text": [
      "C:\\Users\\prana\\anaconda3\\lib\\site-packages\\sklearn\\ensemble\\_forest.py:427: FutureWarning: `max_features='auto'` has been deprecated in 1.1 and will be removed in 1.3. To keep the past behaviour, explicitly set `max_features='sqrt'` or remove this parameter as it is also the default value for RandomForestClassifiers and ExtraTreesClassifiers.\n",
      "  warn(\n"
     ]
    },
    {
     "name": "stdout",
     "output_type": "stream",
     "text": [
      "[CV 3/5] END criterion=entropy, max_depth=3, max_features=auto, n_estimators=100;, score=0.969 total time=   0.4s\n"
     ]
    },
    {
     "name": "stderr",
     "output_type": "stream",
     "text": [
      "C:\\Users\\prana\\anaconda3\\lib\\site-packages\\sklearn\\ensemble\\_forest.py:427: FutureWarning: `max_features='auto'` has been deprecated in 1.1 and will be removed in 1.3. To keep the past behaviour, explicitly set `max_features='sqrt'` or remove this parameter as it is also the default value for RandomForestClassifiers and ExtraTreesClassifiers.\n",
      "  warn(\n"
     ]
    },
    {
     "name": "stdout",
     "output_type": "stream",
     "text": [
      "[CV 4/5] END criterion=entropy, max_depth=3, max_features=auto, n_estimators=100;, score=0.971 total time=   0.4s\n"
     ]
    },
    {
     "name": "stderr",
     "output_type": "stream",
     "text": [
      "C:\\Users\\prana\\anaconda3\\lib\\site-packages\\sklearn\\ensemble\\_forest.py:427: FutureWarning: `max_features='auto'` has been deprecated in 1.1 and will be removed in 1.3. To keep the past behaviour, explicitly set `max_features='sqrt'` or remove this parameter as it is also the default value for RandomForestClassifiers and ExtraTreesClassifiers.\n",
      "  warn(\n"
     ]
    },
    {
     "name": "stdout",
     "output_type": "stream",
     "text": [
      "[CV 5/5] END criterion=entropy, max_depth=3, max_features=auto, n_estimators=100;, score=0.956 total time=   0.4s\n"
     ]
    },
    {
     "name": "stderr",
     "output_type": "stream",
     "text": [
      "C:\\Users\\prana\\anaconda3\\lib\\site-packages\\sklearn\\ensemble\\_forest.py:427: FutureWarning: `max_features='auto'` has been deprecated in 1.1 and will be removed in 1.3. To keep the past behaviour, explicitly set `max_features='sqrt'` or remove this parameter as it is also the default value for RandomForestClassifiers and ExtraTreesClassifiers.\n",
      "  warn(\n"
     ]
    },
    {
     "name": "stdout",
     "output_type": "stream",
     "text": [
      "[CV 1/5] END criterion=entropy, max_depth=3, max_features=auto, n_estimators=130;, score=0.951 total time=   0.5s\n"
     ]
    },
    {
     "name": "stderr",
     "output_type": "stream",
     "text": [
      "C:\\Users\\prana\\anaconda3\\lib\\site-packages\\sklearn\\ensemble\\_forest.py:427: FutureWarning: `max_features='auto'` has been deprecated in 1.1 and will be removed in 1.3. To keep the past behaviour, explicitly set `max_features='sqrt'` or remove this parameter as it is also the default value for RandomForestClassifiers and ExtraTreesClassifiers.\n",
      "  warn(\n"
     ]
    },
    {
     "name": "stdout",
     "output_type": "stream",
     "text": [
      "[CV 2/5] END criterion=entropy, max_depth=3, max_features=auto, n_estimators=130;, score=0.961 total time=   0.5s\n"
     ]
    },
    {
     "name": "stderr",
     "output_type": "stream",
     "text": [
      "C:\\Users\\prana\\anaconda3\\lib\\site-packages\\sklearn\\ensemble\\_forest.py:427: FutureWarning: `max_features='auto'` has been deprecated in 1.1 and will be removed in 1.3. To keep the past behaviour, explicitly set `max_features='sqrt'` or remove this parameter as it is also the default value for RandomForestClassifiers and ExtraTreesClassifiers.\n",
      "  warn(\n"
     ]
    },
    {
     "name": "stdout",
     "output_type": "stream",
     "text": [
      "[CV 3/5] END criterion=entropy, max_depth=3, max_features=auto, n_estimators=130;, score=0.962 total time=   0.5s\n"
     ]
    },
    {
     "name": "stderr",
     "output_type": "stream",
     "text": [
      "C:\\Users\\prana\\anaconda3\\lib\\site-packages\\sklearn\\ensemble\\_forest.py:427: FutureWarning: `max_features='auto'` has been deprecated in 1.1 and will be removed in 1.3. To keep the past behaviour, explicitly set `max_features='sqrt'` or remove this parameter as it is also the default value for RandomForestClassifiers and ExtraTreesClassifiers.\n",
      "  warn(\n"
     ]
    },
    {
     "name": "stdout",
     "output_type": "stream",
     "text": [
      "[CV 4/5] END criterion=entropy, max_depth=3, max_features=auto, n_estimators=130;, score=0.978 total time=   0.5s\n"
     ]
    },
    {
     "name": "stderr",
     "output_type": "stream",
     "text": [
      "C:\\Users\\prana\\anaconda3\\lib\\site-packages\\sklearn\\ensemble\\_forest.py:427: FutureWarning: `max_features='auto'` has been deprecated in 1.1 and will be removed in 1.3. To keep the past behaviour, explicitly set `max_features='sqrt'` or remove this parameter as it is also the default value for RandomForestClassifiers and ExtraTreesClassifiers.\n",
      "  warn(\n"
     ]
    },
    {
     "name": "stdout",
     "output_type": "stream",
     "text": [
      "[CV 5/5] END criterion=entropy, max_depth=3, max_features=auto, n_estimators=130;, score=0.989 total time=   0.5s\n",
      "[CV 1/5] END criterion=entropy, max_depth=3, max_features=log2, n_estimators=10;, score=0.946 total time=   0.0s\n",
      "[CV 2/5] END criterion=entropy, max_depth=3, max_features=log2, n_estimators=10;, score=0.966 total time=   0.0s\n",
      "[CV 3/5] END criterion=entropy, max_depth=3, max_features=log2, n_estimators=10;, score=0.923 total time=   0.0s\n",
      "[CV 4/5] END criterion=entropy, max_depth=3, max_features=log2, n_estimators=10;, score=0.929 total time=   0.0s\n",
      "[CV 5/5] END criterion=entropy, max_depth=3, max_features=log2, n_estimators=10;, score=0.939 total time=   0.0s\n",
      "[CV 1/5] END criterion=entropy, max_depth=3, max_features=log2, n_estimators=50;, score=0.953 total time=   0.2s\n",
      "[CV 2/5] END criterion=entropy, max_depth=3, max_features=log2, n_estimators=50;, score=0.931 total time=   0.1s\n",
      "[CV 3/5] END criterion=entropy, max_depth=3, max_features=log2, n_estimators=50;, score=0.961 total time=   0.1s\n",
      "[CV 4/5] END criterion=entropy, max_depth=3, max_features=log2, n_estimators=50;, score=0.953 total time=   0.1s\n",
      "[CV 5/5] END criterion=entropy, max_depth=3, max_features=log2, n_estimators=50;, score=0.935 total time=   0.1s\n",
      "[CV 1/5] END criterion=entropy, max_depth=3, max_features=log2, n_estimators=100;, score=0.932 total time=   0.3s\n",
      "[CV 2/5] END criterion=entropy, max_depth=3, max_features=log2, n_estimators=100;, score=0.943 total time=   0.3s\n",
      "[CV 3/5] END criterion=entropy, max_depth=3, max_features=log2, n_estimators=100;, score=0.956 total time=   0.3s\n",
      "[CV 4/5] END criterion=entropy, max_depth=3, max_features=log2, n_estimators=100;, score=0.951 total time=   0.3s\n",
      "[CV 5/5] END criterion=entropy, max_depth=3, max_features=log2, n_estimators=100;, score=0.949 total time=   0.3s\n",
      "[CV 1/5] END criterion=entropy, max_depth=3, max_features=log2, n_estimators=130;, score=0.943 total time=   0.5s\n",
      "[CV 2/5] END criterion=entropy, max_depth=3, max_features=log2, n_estimators=130;, score=0.975 total time=   0.5s\n",
      "[CV 3/5] END criterion=entropy, max_depth=3, max_features=log2, n_estimators=130;, score=0.954 total time=   0.4s\n",
      "[CV 4/5] END criterion=entropy, max_depth=3, max_features=log2, n_estimators=130;, score=0.948 total time=   0.4s\n",
      "[CV 5/5] END criterion=entropy, max_depth=3, max_features=log2, n_estimators=130;, score=0.939 total time=   0.4s\n"
     ]
    },
    {
     "name": "stderr",
     "output_type": "stream",
     "text": [
      "C:\\Users\\prana\\anaconda3\\lib\\site-packages\\sklearn\\ensemble\\_forest.py:427: FutureWarning: `max_features='auto'` has been deprecated in 1.1 and will be removed in 1.3. To keep the past behaviour, explicitly set `max_features='sqrt'` or remove this parameter as it is also the default value for RandomForestClassifiers and ExtraTreesClassifiers.\n",
      "  warn(\n"
     ]
    },
    {
     "data": {
      "text/html": [
       "<style>#sk-container-id-2 {color: black;background-color: white;}#sk-container-id-2 pre{padding: 0;}#sk-container-id-2 div.sk-toggleable {background-color: white;}#sk-container-id-2 label.sk-toggleable__label {cursor: pointer;display: block;width: 100%;margin-bottom: 0;padding: 0.3em;box-sizing: border-box;text-align: center;}#sk-container-id-2 label.sk-toggleable__label-arrow:before {content: \"▸\";float: left;margin-right: 0.25em;color: #696969;}#sk-container-id-2 label.sk-toggleable__label-arrow:hover:before {color: black;}#sk-container-id-2 div.sk-estimator:hover label.sk-toggleable__label-arrow:before {color: black;}#sk-container-id-2 div.sk-toggleable__content {max-height: 0;max-width: 0;overflow: hidden;text-align: left;background-color: #f0f8ff;}#sk-container-id-2 div.sk-toggleable__content pre {margin: 0.2em;color: black;border-radius: 0.25em;background-color: #f0f8ff;}#sk-container-id-2 input.sk-toggleable__control:checked~div.sk-toggleable__content {max-height: 200px;max-width: 100%;overflow: auto;}#sk-container-id-2 input.sk-toggleable__control:checked~label.sk-toggleable__label-arrow:before {content: \"▾\";}#sk-container-id-2 div.sk-estimator input.sk-toggleable__control:checked~label.sk-toggleable__label {background-color: #d4ebff;}#sk-container-id-2 div.sk-label input.sk-toggleable__control:checked~label.sk-toggleable__label {background-color: #d4ebff;}#sk-container-id-2 input.sk-hidden--visually {border: 0;clip: rect(1px 1px 1px 1px);clip: rect(1px, 1px, 1px, 1px);height: 1px;margin: -1px;overflow: hidden;padding: 0;position: absolute;width: 1px;}#sk-container-id-2 div.sk-estimator {font-family: monospace;background-color: #f0f8ff;border: 1px dotted black;border-radius: 0.25em;box-sizing: border-box;margin-bottom: 0.5em;}#sk-container-id-2 div.sk-estimator:hover {background-color: #d4ebff;}#sk-container-id-2 div.sk-parallel-item::after {content: \"\";width: 100%;border-bottom: 1px solid gray;flex-grow: 1;}#sk-container-id-2 div.sk-label:hover label.sk-toggleable__label {background-color: #d4ebff;}#sk-container-id-2 div.sk-serial::before {content: \"\";position: absolute;border-left: 1px solid gray;box-sizing: border-box;top: 0;bottom: 0;left: 50%;z-index: 0;}#sk-container-id-2 div.sk-serial {display: flex;flex-direction: column;align-items: center;background-color: white;padding-right: 0.2em;padding-left: 0.2em;position: relative;}#sk-container-id-2 div.sk-item {position: relative;z-index: 1;}#sk-container-id-2 div.sk-parallel {display: flex;align-items: stretch;justify-content: center;background-color: white;position: relative;}#sk-container-id-2 div.sk-item::before, #sk-container-id-2 div.sk-parallel-item::before {content: \"\";position: absolute;border-left: 1px solid gray;box-sizing: border-box;top: 0;bottom: 0;left: 50%;z-index: -1;}#sk-container-id-2 div.sk-parallel-item {display: flex;flex-direction: column;z-index: 1;position: relative;background-color: white;}#sk-container-id-2 div.sk-parallel-item:first-child::after {align-self: flex-end;width: 50%;}#sk-container-id-2 div.sk-parallel-item:last-child::after {align-self: flex-start;width: 50%;}#sk-container-id-2 div.sk-parallel-item:only-child::after {width: 0;}#sk-container-id-2 div.sk-dashed-wrapped {border: 1px dashed gray;margin: 0 0.4em 0.5em 0.4em;box-sizing: border-box;padding-bottom: 0.4em;background-color: white;}#sk-container-id-2 div.sk-label label {font-family: monospace;font-weight: bold;display: inline-block;line-height: 1.2em;}#sk-container-id-2 div.sk-label-container {text-align: center;}#sk-container-id-2 div.sk-container {/* jupyter's `normalize.less` sets `[hidden] { display: none; }` but bootstrap.min.css set `[hidden] { display: none !important; }` so we also need the `!important` here to be able to override the default hidden behavior on the sphinx rendered scikit-learn.org. See: https://github.com/scikit-learn/scikit-learn/issues/21755 */display: inline-block !important;position: relative;}#sk-container-id-2 div.sk-text-repr-fallback {display: none;}</style><div id=\"sk-container-id-2\" class=\"sk-top-container\"><div class=\"sk-text-repr-fallback\"><pre>GridSearchCV(cv=5, estimator=RandomForestClassifier(),\n",
       "             param_grid={&#x27;criterion&#x27;: [&#x27;gini&#x27;, &#x27;entropy&#x27;],\n",
       "                         &#x27;max_depth&#x27;: range(2, 4),\n",
       "                         &#x27;max_features&#x27;: [&#x27;auto&#x27;, &#x27;log2&#x27;],\n",
       "                         &#x27;n_estimators&#x27;: [10, 50, 100, 130]},\n",
       "             verbose=3)</pre><b>In a Jupyter environment, please rerun this cell to show the HTML representation or trust the notebook. <br />On GitHub, the HTML representation is unable to render, please try loading this page with nbviewer.org.</b></div><div class=\"sk-container\" hidden><div class=\"sk-item sk-dashed-wrapped\"><div class=\"sk-label-container\"><div class=\"sk-label sk-toggleable\"><input class=\"sk-toggleable__control sk-hidden--visually\" id=\"sk-estimator-id-2\" type=\"checkbox\" ><label for=\"sk-estimator-id-2\" class=\"sk-toggleable__label sk-toggleable__label-arrow\">GridSearchCV</label><div class=\"sk-toggleable__content\"><pre>GridSearchCV(cv=5, estimator=RandomForestClassifier(),\n",
       "             param_grid={&#x27;criterion&#x27;: [&#x27;gini&#x27;, &#x27;entropy&#x27;],\n",
       "                         &#x27;max_depth&#x27;: range(2, 4),\n",
       "                         &#x27;max_features&#x27;: [&#x27;auto&#x27;, &#x27;log2&#x27;],\n",
       "                         &#x27;n_estimators&#x27;: [10, 50, 100, 130]},\n",
       "             verbose=3)</pre></div></div></div><div class=\"sk-parallel\"><div class=\"sk-parallel-item\"><div class=\"sk-item\"><div class=\"sk-label-container\"><div class=\"sk-label sk-toggleable\"><input class=\"sk-toggleable__control sk-hidden--visually\" id=\"sk-estimator-id-3\" type=\"checkbox\" ><label for=\"sk-estimator-id-3\" class=\"sk-toggleable__label sk-toggleable__label-arrow\">estimator: RandomForestClassifier</label><div class=\"sk-toggleable__content\"><pre>RandomForestClassifier()</pre></div></div></div><div class=\"sk-serial\"><div class=\"sk-item\"><div class=\"sk-estimator sk-toggleable\"><input class=\"sk-toggleable__control sk-hidden--visually\" id=\"sk-estimator-id-4\" type=\"checkbox\" ><label for=\"sk-estimator-id-4\" class=\"sk-toggleable__label sk-toggleable__label-arrow\">RandomForestClassifier</label><div class=\"sk-toggleable__content\"><pre>RandomForestClassifier()</pre></div></div></div></div></div></div></div></div></div></div>"
      ],
      "text/plain": [
       "GridSearchCV(cv=5, estimator=RandomForestClassifier(),\n",
       "             param_grid={'criterion': ['gini', 'entropy'],\n",
       "                         'max_depth': range(2, 4),\n",
       "                         'max_features': ['auto', 'log2'],\n",
       "                         'n_estimators': [10, 50, 100, 130]},\n",
       "             verbose=3)"
      ]
     },
     "execution_count": 38,
     "metadata": {},
     "output_type": "execute_result"
    }
   ],
   "source": [
    "grid.fit(train_x, train_y)"
   ]
  },
  {
   "cell_type": "code",
   "execution_count": 39,
   "id": "e050f635",
   "metadata": {},
   "outputs": [
    {
     "data": {
      "text/plain": [
       "{'criterion': 'gini',\n",
       " 'max_depth': 3,\n",
       " 'max_features': 'auto',\n",
       " 'n_estimators': 100}"
      ]
     },
     "execution_count": 39,
     "metadata": {},
     "output_type": "execute_result"
    }
   ],
   "source": [
    "grid.best_params_"
   ]
  },
  {
   "cell_type": "code",
   "execution_count": 42,
   "id": "23fc0e64",
   "metadata": {},
   "outputs": [],
   "source": [
    "rfc=RandomForestClassifier(n_estimators=100, criterion='gini',\n",
    "                                              max_depth=3, max_features='auto')"
   ]
  },
  {
   "cell_type": "code",
   "execution_count": 44,
   "id": "8beee85a",
   "metadata": {},
   "outputs": [
    {
     "name": "stderr",
     "output_type": "stream",
     "text": [
      "C:\\Users\\prana\\anaconda3\\lib\\site-packages\\sklearn\\ensemble\\_forest.py:427: FutureWarning: `max_features='auto'` has been deprecated in 1.1 and will be removed in 1.3. To keep the past behaviour, explicitly set `max_features='sqrt'` or remove this parameter as it is also the default value for RandomForestClassifiers and ExtraTreesClassifiers.\n",
      "  warn(\n"
     ]
    },
    {
     "data": {
      "text/html": [
       "<style>#sk-container-id-3 {color: black;background-color: white;}#sk-container-id-3 pre{padding: 0;}#sk-container-id-3 div.sk-toggleable {background-color: white;}#sk-container-id-3 label.sk-toggleable__label {cursor: pointer;display: block;width: 100%;margin-bottom: 0;padding: 0.3em;box-sizing: border-box;text-align: center;}#sk-container-id-3 label.sk-toggleable__label-arrow:before {content: \"▸\";float: left;margin-right: 0.25em;color: #696969;}#sk-container-id-3 label.sk-toggleable__label-arrow:hover:before {color: black;}#sk-container-id-3 div.sk-estimator:hover label.sk-toggleable__label-arrow:before {color: black;}#sk-container-id-3 div.sk-toggleable__content {max-height: 0;max-width: 0;overflow: hidden;text-align: left;background-color: #f0f8ff;}#sk-container-id-3 div.sk-toggleable__content pre {margin: 0.2em;color: black;border-radius: 0.25em;background-color: #f0f8ff;}#sk-container-id-3 input.sk-toggleable__control:checked~div.sk-toggleable__content {max-height: 200px;max-width: 100%;overflow: auto;}#sk-container-id-3 input.sk-toggleable__control:checked~label.sk-toggleable__label-arrow:before {content: \"▾\";}#sk-container-id-3 div.sk-estimator input.sk-toggleable__control:checked~label.sk-toggleable__label {background-color: #d4ebff;}#sk-container-id-3 div.sk-label input.sk-toggleable__control:checked~label.sk-toggleable__label {background-color: #d4ebff;}#sk-container-id-3 input.sk-hidden--visually {border: 0;clip: rect(1px 1px 1px 1px);clip: rect(1px, 1px, 1px, 1px);height: 1px;margin: -1px;overflow: hidden;padding: 0;position: absolute;width: 1px;}#sk-container-id-3 div.sk-estimator {font-family: monospace;background-color: #f0f8ff;border: 1px dotted black;border-radius: 0.25em;box-sizing: border-box;margin-bottom: 0.5em;}#sk-container-id-3 div.sk-estimator:hover {background-color: #d4ebff;}#sk-container-id-3 div.sk-parallel-item::after {content: \"\";width: 100%;border-bottom: 1px solid gray;flex-grow: 1;}#sk-container-id-3 div.sk-label:hover label.sk-toggleable__label {background-color: #d4ebff;}#sk-container-id-3 div.sk-serial::before {content: \"\";position: absolute;border-left: 1px solid gray;box-sizing: border-box;top: 0;bottom: 0;left: 50%;z-index: 0;}#sk-container-id-3 div.sk-serial {display: flex;flex-direction: column;align-items: center;background-color: white;padding-right: 0.2em;padding-left: 0.2em;position: relative;}#sk-container-id-3 div.sk-item {position: relative;z-index: 1;}#sk-container-id-3 div.sk-parallel {display: flex;align-items: stretch;justify-content: center;background-color: white;position: relative;}#sk-container-id-3 div.sk-item::before, #sk-container-id-3 div.sk-parallel-item::before {content: \"\";position: absolute;border-left: 1px solid gray;box-sizing: border-box;top: 0;bottom: 0;left: 50%;z-index: -1;}#sk-container-id-3 div.sk-parallel-item {display: flex;flex-direction: column;z-index: 1;position: relative;background-color: white;}#sk-container-id-3 div.sk-parallel-item:first-child::after {align-self: flex-end;width: 50%;}#sk-container-id-3 div.sk-parallel-item:last-child::after {align-self: flex-start;width: 50%;}#sk-container-id-3 div.sk-parallel-item:only-child::after {width: 0;}#sk-container-id-3 div.sk-dashed-wrapped {border: 1px dashed gray;margin: 0 0.4em 0.5em 0.4em;box-sizing: border-box;padding-bottom: 0.4em;background-color: white;}#sk-container-id-3 div.sk-label label {font-family: monospace;font-weight: bold;display: inline-block;line-height: 1.2em;}#sk-container-id-3 div.sk-label-container {text-align: center;}#sk-container-id-3 div.sk-container {/* jupyter's `normalize.less` sets `[hidden] { display: none; }` but bootstrap.min.css set `[hidden] { display: none !important; }` so we also need the `!important` here to be able to override the default hidden behavior on the sphinx rendered scikit-learn.org. See: https://github.com/scikit-learn/scikit-learn/issues/21755 */display: inline-block !important;position: relative;}#sk-container-id-3 div.sk-text-repr-fallback {display: none;}</style><div id=\"sk-container-id-3\" class=\"sk-top-container\"><div class=\"sk-text-repr-fallback\"><pre>RandomForestClassifier(max_depth=3, max_features=&#x27;auto&#x27;)</pre><b>In a Jupyter environment, please rerun this cell to show the HTML representation or trust the notebook. <br />On GitHub, the HTML representation is unable to render, please try loading this page with nbviewer.org.</b></div><div class=\"sk-container\" hidden><div class=\"sk-item\"><div class=\"sk-estimator sk-toggleable\"><input class=\"sk-toggleable__control sk-hidden--visually\" id=\"sk-estimator-id-5\" type=\"checkbox\" checked><label for=\"sk-estimator-id-5\" class=\"sk-toggleable__label sk-toggleable__label-arrow\">RandomForestClassifier</label><div class=\"sk-toggleable__content\"><pre>RandomForestClassifier(max_depth=3, max_features=&#x27;auto&#x27;)</pre></div></div></div></div></div>"
      ],
      "text/plain": [
       "RandomForestClassifier(max_depth=3, max_features='auto')"
      ]
     },
     "execution_count": 44,
     "metadata": {},
     "output_type": "execute_result"
    }
   ],
   "source": [
    "rfc.fit(train_x,train_y)"
   ]
  },
  {
   "cell_type": "code",
   "execution_count": 45,
   "id": "e76fb5b9",
   "metadata": {},
   "outputs": [],
   "source": [
    "prediction_random_forest=rfc.predict(test_x)"
   ]
  },
  {
   "cell_type": "code",
   "execution_count": 47,
   "id": "471b090e",
   "metadata": {},
   "outputs": [],
   "source": [
    "rfc_score = roc_auc_score((test_y),prediction_random_forest)"
   ]
  },
  {
   "cell_type": "code",
   "execution_count": 48,
   "id": "1f9daf9a",
   "metadata": {},
   "outputs": [
    {
     "data": {
      "text/plain": [
       "0.9558067831449126"
      ]
     },
     "execution_count": 48,
     "metadata": {},
     "output_type": "execute_result"
    }
   ],
   "source": [
    "rfc_score"
   ]
  },
  {
   "cell_type": "code",
   "execution_count": 49,
   "id": "72308545",
   "metadata": {},
   "outputs": [],
   "source": [
    "from sklearn.neighbors import KNeighborsClassifier"
   ]
  },
  {
   "cell_type": "code",
   "execution_count": 50,
   "id": "f201ed2d",
   "metadata": {},
   "outputs": [],
   "source": [
    "knn=KNeighborsClassifier()"
   ]
  },
  {
   "cell_type": "code",
   "execution_count": 121,
   "id": "51b04599",
   "metadata": {},
   "outputs": [],
   "source": [
    "param_grid_knn = {\n",
    "                'leaf_size' : [10,17,20],\n",
    "                'n_neighbors':range(10,30,1),\n",
    "            }"
   ]
  },
  {
   "cell_type": "code",
   "execution_count": 117,
   "id": "ef3dc498",
   "metadata": {},
   "outputs": [],
   "source": [
    "grid_knn = GridSearchCV(knn_cl, param_grid_knn, verbose=3,\n",
    "                                     cv=5)"
   ]
  },
  {
   "cell_type": "code",
   "execution_count": 118,
   "id": "5c9e68f3",
   "metadata": {},
   "outputs": [
    {
     "name": "stdout",
     "output_type": "stream",
     "text": [
      "Fitting 5 folds for each of 100 candidates, totalling 500 fits\n",
      "[CV 1/5] END ......leaf_size=10, n_neighbors=10;, score=1.000 total time=   0.1s\n",
      "[CV 2/5] END ......leaf_size=10, n_neighbors=10;, score=1.000 total time=   0.1s\n",
      "[CV 3/5] END ......leaf_size=10, n_neighbors=10;, score=1.000 total time=   0.1s\n",
      "[CV 4/5] END ......leaf_size=10, n_neighbors=10;, score=1.000 total time=   0.1s\n",
      "[CV 5/5] END ......leaf_size=10, n_neighbors=10;, score=0.998 total time=   0.1s\n",
      "[CV 1/5] END ......leaf_size=10, n_neighbors=11;, score=1.000 total time=   0.1s\n",
      "[CV 2/5] END ......leaf_size=10, n_neighbors=11;, score=1.000 total time=   0.1s\n",
      "[CV 3/5] END ......leaf_size=10, n_neighbors=11;, score=1.000 total time=   0.1s\n",
      "[CV 4/5] END ......leaf_size=10, n_neighbors=11;, score=0.998 total time=   0.1s\n",
      "[CV 5/5] END ......leaf_size=10, n_neighbors=11;, score=0.998 total time=   0.1s\n",
      "[CV 1/5] END ......leaf_size=10, n_neighbors=12;, score=1.000 total time=   0.1s\n",
      "[CV 2/5] END ......leaf_size=10, n_neighbors=12;, score=1.000 total time=   0.1s\n",
      "[CV 3/5] END ......leaf_size=10, n_neighbors=12;, score=1.000 total time=   0.1s\n",
      "[CV 4/5] END ......leaf_size=10, n_neighbors=12;, score=0.998 total time=   0.1s\n",
      "[CV 5/5] END ......leaf_size=10, n_neighbors=12;, score=0.998 total time=   0.2s\n",
      "[CV 1/5] END ......leaf_size=10, n_neighbors=13;, score=1.000 total time=   0.1s\n",
      "[CV 2/5] END ......leaf_size=10, n_neighbors=13;, score=0.999 total time=   0.1s\n",
      "[CV 3/5] END ......leaf_size=10, n_neighbors=13;, score=0.999 total time=   0.1s\n",
      "[CV 4/5] END ......leaf_size=10, n_neighbors=13;, score=0.998 total time=   0.1s\n",
      "[CV 5/5] END ......leaf_size=10, n_neighbors=13;, score=0.998 total time=   0.1s\n",
      "[CV 1/5] END ......leaf_size=10, n_neighbors=14;, score=1.000 total time=   0.1s\n",
      "[CV 2/5] END ......leaf_size=10, n_neighbors=14;, score=0.999 total time=   0.1s\n",
      "[CV 3/5] END ......leaf_size=10, n_neighbors=14;, score=0.999 total time=   0.1s\n",
      "[CV 4/5] END ......leaf_size=10, n_neighbors=14;, score=0.998 total time=   0.1s\n",
      "[CV 5/5] END ......leaf_size=10, n_neighbors=14;, score=0.998 total time=   0.2s\n",
      "[CV 1/5] END ......leaf_size=10, n_neighbors=15;, score=1.000 total time=   0.2s\n",
      "[CV 2/5] END ......leaf_size=10, n_neighbors=15;, score=0.999 total time=   0.1s\n",
      "[CV 3/5] END ......leaf_size=10, n_neighbors=15;, score=0.999 total time=   0.1s\n",
      "[CV 4/5] END ......leaf_size=10, n_neighbors=15;, score=0.998 total time=   0.1s\n",
      "[CV 5/5] END ......leaf_size=10, n_neighbors=15;, score=0.998 total time=   0.1s\n",
      "[CV 1/5] END ......leaf_size=10, n_neighbors=16;, score=1.000 total time=   0.1s\n",
      "[CV 2/5] END ......leaf_size=10, n_neighbors=16;, score=0.999 total time=   0.1s\n",
      "[CV 3/5] END ......leaf_size=10, n_neighbors=16;, score=0.999 total time=   0.1s\n",
      "[CV 4/5] END ......leaf_size=10, n_neighbors=16;, score=0.998 total time=   0.1s\n",
      "[CV 5/5] END ......leaf_size=10, n_neighbors=16;, score=0.998 total time=   0.1s\n",
      "[CV 1/5] END ......leaf_size=10, n_neighbors=17;, score=1.000 total time=   0.1s\n",
      "[CV 2/5] END ......leaf_size=10, n_neighbors=17;, score=0.999 total time=   0.1s\n",
      "[CV 3/5] END ......leaf_size=10, n_neighbors=17;, score=0.999 total time=   0.1s\n",
      "[CV 4/5] END ......leaf_size=10, n_neighbors=17;, score=0.998 total time=   0.1s\n",
      "[CV 5/5] END ......leaf_size=10, n_neighbors=17;, score=0.998 total time=   0.1s\n",
      "[CV 1/5] END ......leaf_size=10, n_neighbors=18;, score=1.000 total time=   0.1s\n",
      "[CV 2/5] END ......leaf_size=10, n_neighbors=18;, score=0.999 total time=   0.1s\n",
      "[CV 3/5] END ......leaf_size=10, n_neighbors=18;, score=0.999 total time=   0.1s\n",
      "[CV 4/5] END ......leaf_size=10, n_neighbors=18;, score=0.998 total time=   0.1s\n",
      "[CV 5/5] END ......leaf_size=10, n_neighbors=18;, score=0.998 total time=   0.1s\n",
      "[CV 1/5] END ......leaf_size=10, n_neighbors=19;, score=1.000 total time=   0.1s\n",
      "[CV 2/5] END ......leaf_size=10, n_neighbors=19;, score=0.999 total time=   0.1s\n",
      "[CV 3/5] END ......leaf_size=10, n_neighbors=19;, score=0.999 total time=   0.1s\n",
      "[CV 4/5] END ......leaf_size=10, n_neighbors=19;, score=0.998 total time=   0.1s\n",
      "[CV 5/5] END ......leaf_size=10, n_neighbors=19;, score=0.998 total time=   0.1s\n",
      "[CV 1/5] END ......leaf_size=10, n_neighbors=20;, score=1.000 total time=   0.1s\n",
      "[CV 2/5] END ......leaf_size=10, n_neighbors=20;, score=0.999 total time=   0.1s\n",
      "[CV 3/5] END ......leaf_size=10, n_neighbors=20;, score=0.999 total time=   0.1s\n",
      "[CV 4/5] END ......leaf_size=10, n_neighbors=20;, score=0.998 total time=   0.1s\n",
      "[CV 5/5] END ......leaf_size=10, n_neighbors=20;, score=0.998 total time=   0.2s\n",
      "[CV 1/5] END ......leaf_size=10, n_neighbors=21;, score=1.000 total time=   0.1s\n",
      "[CV 2/5] END ......leaf_size=10, n_neighbors=21;, score=0.999 total time=   0.1s\n",
      "[CV 3/5] END ......leaf_size=10, n_neighbors=21;, score=0.999 total time=   0.1s\n",
      "[CV 4/5] END ......leaf_size=10, n_neighbors=21;, score=0.998 total time=   0.1s\n",
      "[CV 5/5] END ......leaf_size=10, n_neighbors=21;, score=0.998 total time=   0.1s\n",
      "[CV 1/5] END ......leaf_size=10, n_neighbors=22;, score=1.000 total time=   0.1s\n",
      "[CV 2/5] END ......leaf_size=10, n_neighbors=22;, score=0.999 total time=   0.1s\n",
      "[CV 3/5] END ......leaf_size=10, n_neighbors=22;, score=0.999 total time=   0.2s\n",
      "[CV 4/5] END ......leaf_size=10, n_neighbors=22;, score=0.998 total time=   0.1s\n",
      "[CV 5/5] END ......leaf_size=10, n_neighbors=22;, score=0.998 total time=   0.1s\n",
      "[CV 1/5] END ......leaf_size=10, n_neighbors=23;, score=1.000 total time=   0.1s\n",
      "[CV 2/5] END ......leaf_size=10, n_neighbors=23;, score=0.999 total time=   0.1s\n",
      "[CV 3/5] END ......leaf_size=10, n_neighbors=23;, score=0.999 total time=   0.2s\n",
      "[CV 4/5] END ......leaf_size=10, n_neighbors=23;, score=0.998 total time=   0.1s\n",
      "[CV 5/5] END ......leaf_size=10, n_neighbors=23;, score=0.998 total time=   0.1s\n",
      "[CV 1/5] END ......leaf_size=10, n_neighbors=24;, score=1.000 total time=   0.1s\n",
      "[CV 2/5] END ......leaf_size=10, n_neighbors=24;, score=0.999 total time=   0.1s\n",
      "[CV 3/5] END ......leaf_size=10, n_neighbors=24;, score=0.999 total time=   0.1s\n",
      "[CV 4/5] END ......leaf_size=10, n_neighbors=24;, score=0.998 total time=   0.1s\n",
      "[CV 5/5] END ......leaf_size=10, n_neighbors=24;, score=0.998 total time=   0.1s\n",
      "[CV 1/5] END ......leaf_size=10, n_neighbors=25;, score=1.000 total time=   0.1s\n",
      "[CV 2/5] END ......leaf_size=10, n_neighbors=25;, score=0.999 total time=   0.1s\n",
      "[CV 3/5] END ......leaf_size=10, n_neighbors=25;, score=0.999 total time=   0.1s\n",
      "[CV 4/5] END ......leaf_size=10, n_neighbors=25;, score=0.998 total time=   0.2s\n",
      "[CV 5/5] END ......leaf_size=10, n_neighbors=25;, score=0.998 total time=   0.2s\n",
      "[CV 1/5] END ......leaf_size=10, n_neighbors=26;, score=1.000 total time=   0.2s\n",
      "[CV 2/5] END ......leaf_size=10, n_neighbors=26;, score=0.999 total time=   0.1s\n",
      "[CV 3/5] END ......leaf_size=10, n_neighbors=26;, score=0.999 total time=   0.1s\n",
      "[CV 4/5] END ......leaf_size=10, n_neighbors=26;, score=0.998 total time=   0.2s\n",
      "[CV 5/5] END ......leaf_size=10, n_neighbors=26;, score=0.998 total time=   0.1s\n",
      "[CV 1/5] END ......leaf_size=10, n_neighbors=27;, score=1.000 total time=   0.1s\n",
      "[CV 2/5] END ......leaf_size=10, n_neighbors=27;, score=0.999 total time=   0.1s\n",
      "[CV 3/5] END ......leaf_size=10, n_neighbors=27;, score=0.999 total time=   0.1s\n",
      "[CV 4/5] END ......leaf_size=10, n_neighbors=27;, score=0.998 total time=   0.2s\n",
      "[CV 5/5] END ......leaf_size=10, n_neighbors=27;, score=0.998 total time=   0.2s\n",
      "[CV 1/5] END ......leaf_size=10, n_neighbors=28;, score=1.000 total time=   0.2s\n",
      "[CV 2/5] END ......leaf_size=10, n_neighbors=28;, score=0.999 total time=   0.2s\n",
      "[CV 3/5] END ......leaf_size=10, n_neighbors=28;, score=0.999 total time=   0.2s\n",
      "[CV 4/5] END ......leaf_size=10, n_neighbors=28;, score=0.998 total time=   0.2s\n",
      "[CV 5/5] END ......leaf_size=10, n_neighbors=28;, score=0.998 total time=   0.2s\n",
      "[CV 1/5] END ......leaf_size=10, n_neighbors=29;, score=1.000 total time=   0.2s\n",
      "[CV 2/5] END ......leaf_size=10, n_neighbors=29;, score=0.999 total time=   0.1s\n",
      "[CV 3/5] END ......leaf_size=10, n_neighbors=29;, score=0.999 total time=   0.1s\n",
      "[CV 4/5] END ......leaf_size=10, n_neighbors=29;, score=0.998 total time=   0.1s\n",
      "[CV 5/5] END ......leaf_size=10, n_neighbors=29;, score=0.998 total time=   0.1s\n",
      "[CV 1/5] END ......leaf_size=20, n_neighbors=10;, score=1.000 total time=   0.1s\n"
     ]
    },
    {
     "name": "stdout",
     "output_type": "stream",
     "text": [
      "[CV 2/5] END ......leaf_size=20, n_neighbors=10;, score=1.000 total time=   0.1s\n",
      "[CV 3/5] END ......leaf_size=20, n_neighbors=10;, score=1.000 total time=   0.1s\n",
      "[CV 4/5] END ......leaf_size=20, n_neighbors=10;, score=1.000 total time=   0.1s\n",
      "[CV 5/5] END ......leaf_size=20, n_neighbors=10;, score=0.998 total time=   0.1s\n",
      "[CV 1/5] END ......leaf_size=20, n_neighbors=11;, score=1.000 total time=   0.1s\n",
      "[CV 2/5] END ......leaf_size=20, n_neighbors=11;, score=1.000 total time=   0.1s\n",
      "[CV 3/5] END ......leaf_size=20, n_neighbors=11;, score=1.000 total time=   0.1s\n",
      "[CV 4/5] END ......leaf_size=20, n_neighbors=11;, score=0.998 total time=   0.1s\n",
      "[CV 5/5] END ......leaf_size=20, n_neighbors=11;, score=0.998 total time=   0.1s\n",
      "[CV 1/5] END ......leaf_size=20, n_neighbors=12;, score=1.000 total time=   0.2s\n",
      "[CV 2/5] END ......leaf_size=20, n_neighbors=12;, score=1.000 total time=   0.2s\n",
      "[CV 3/5] END ......leaf_size=20, n_neighbors=12;, score=1.000 total time=   0.1s\n",
      "[CV 4/5] END ......leaf_size=20, n_neighbors=12;, score=0.998 total time=   0.1s\n",
      "[CV 5/5] END ......leaf_size=20, n_neighbors=12;, score=0.998 total time=   0.1s\n",
      "[CV 1/5] END ......leaf_size=20, n_neighbors=13;, score=1.000 total time=   0.2s\n",
      "[CV 2/5] END ......leaf_size=20, n_neighbors=13;, score=0.999 total time=   0.1s\n",
      "[CV 3/5] END ......leaf_size=20, n_neighbors=13;, score=0.999 total time=   0.2s\n",
      "[CV 4/5] END ......leaf_size=20, n_neighbors=13;, score=0.998 total time=   0.1s\n",
      "[CV 5/5] END ......leaf_size=20, n_neighbors=13;, score=0.998 total time=   0.1s\n",
      "[CV 1/5] END ......leaf_size=20, n_neighbors=14;, score=1.000 total time=   0.1s\n",
      "[CV 2/5] END ......leaf_size=20, n_neighbors=14;, score=0.999 total time=   0.2s\n",
      "[CV 3/5] END ......leaf_size=20, n_neighbors=14;, score=0.999 total time=   0.1s\n",
      "[CV 4/5] END ......leaf_size=20, n_neighbors=14;, score=0.998 total time=   0.1s\n",
      "[CV 5/5] END ......leaf_size=20, n_neighbors=14;, score=0.998 total time=   0.2s\n",
      "[CV 1/5] END ......leaf_size=20, n_neighbors=15;, score=1.000 total time=   0.2s\n",
      "[CV 2/5] END ......leaf_size=20, n_neighbors=15;, score=0.999 total time=   0.1s\n",
      "[CV 3/5] END ......leaf_size=20, n_neighbors=15;, score=0.999 total time=   0.2s\n",
      "[CV 4/5] END ......leaf_size=20, n_neighbors=15;, score=0.998 total time=   0.1s\n",
      "[CV 5/5] END ......leaf_size=20, n_neighbors=15;, score=0.998 total time=   0.2s\n",
      "[CV 1/5] END ......leaf_size=20, n_neighbors=16;, score=1.000 total time=   0.1s\n",
      "[CV 2/5] END ......leaf_size=20, n_neighbors=16;, score=0.999 total time=   0.1s\n",
      "[CV 3/5] END ......leaf_size=20, n_neighbors=16;, score=0.999 total time=   0.1s\n",
      "[CV 4/5] END ......leaf_size=20, n_neighbors=16;, score=0.998 total time=   0.1s\n",
      "[CV 5/5] END ......leaf_size=20, n_neighbors=16;, score=0.998 total time=   0.1s\n",
      "[CV 1/5] END ......leaf_size=20, n_neighbors=17;, score=1.000 total time=   0.2s\n",
      "[CV 2/5] END ......leaf_size=20, n_neighbors=17;, score=0.999 total time=   0.1s\n",
      "[CV 3/5] END ......leaf_size=20, n_neighbors=17;, score=0.999 total time=   0.2s\n",
      "[CV 4/5] END ......leaf_size=20, n_neighbors=17;, score=0.998 total time=   0.1s\n",
      "[CV 5/5] END ......leaf_size=20, n_neighbors=17;, score=0.998 total time=   0.2s\n",
      "[CV 1/5] END ......leaf_size=20, n_neighbors=18;, score=1.000 total time=   0.2s\n",
      "[CV 2/5] END ......leaf_size=20, n_neighbors=18;, score=0.999 total time=   0.1s\n",
      "[CV 3/5] END ......leaf_size=20, n_neighbors=18;, score=0.999 total time=   0.2s\n",
      "[CV 4/5] END ......leaf_size=20, n_neighbors=18;, score=0.998 total time=   0.1s\n",
      "[CV 5/5] END ......leaf_size=20, n_neighbors=18;, score=0.998 total time=   0.1s\n",
      "[CV 1/5] END ......leaf_size=20, n_neighbors=19;, score=1.000 total time=   0.1s\n",
      "[CV 2/5] END ......leaf_size=20, n_neighbors=19;, score=0.999 total time=   0.1s\n",
      "[CV 3/5] END ......leaf_size=20, n_neighbors=19;, score=0.999 total time=   0.1s\n",
      "[CV 4/5] END ......leaf_size=20, n_neighbors=19;, score=0.998 total time=   0.1s\n",
      "[CV 5/5] END ......leaf_size=20, n_neighbors=19;, score=0.998 total time=   0.1s\n",
      "[CV 1/5] END ......leaf_size=20, n_neighbors=20;, score=1.000 total time=   0.1s\n",
      "[CV 2/5] END ......leaf_size=20, n_neighbors=20;, score=0.999 total time=   0.1s\n",
      "[CV 3/5] END ......leaf_size=20, n_neighbors=20;, score=0.999 total time=   0.1s\n",
      "[CV 4/5] END ......leaf_size=20, n_neighbors=20;, score=0.998 total time=   0.2s\n",
      "[CV 5/5] END ......leaf_size=20, n_neighbors=20;, score=0.998 total time=   0.2s\n",
      "[CV 1/5] END ......leaf_size=20, n_neighbors=21;, score=1.000 total time=   0.2s\n",
      "[CV 2/5] END ......leaf_size=20, n_neighbors=21;, score=0.999 total time=   0.1s\n",
      "[CV 3/5] END ......leaf_size=20, n_neighbors=21;, score=0.999 total time=   0.2s\n",
      "[CV 4/5] END ......leaf_size=20, n_neighbors=21;, score=0.998 total time=   0.1s\n",
      "[CV 5/5] END ......leaf_size=20, n_neighbors=21;, score=0.998 total time=   0.1s\n",
      "[CV 1/5] END ......leaf_size=20, n_neighbors=22;, score=1.000 total time=   0.1s\n",
      "[CV 2/5] END ......leaf_size=20, n_neighbors=22;, score=0.999 total time=   0.2s\n",
      "[CV 3/5] END ......leaf_size=20, n_neighbors=22;, score=0.999 total time=   0.1s\n",
      "[CV 4/5] END ......leaf_size=20, n_neighbors=22;, score=0.998 total time=   0.2s\n",
      "[CV 5/5] END ......leaf_size=20, n_neighbors=22;, score=0.998 total time=   0.2s\n",
      "[CV 1/5] END ......leaf_size=20, n_neighbors=23;, score=1.000 total time=   0.2s\n",
      "[CV 2/5] END ......leaf_size=20, n_neighbors=23;, score=0.999 total time=   0.2s\n",
      "[CV 3/5] END ......leaf_size=20, n_neighbors=23;, score=0.999 total time=   0.2s\n",
      "[CV 4/5] END ......leaf_size=20, n_neighbors=23;, score=0.998 total time=   0.2s\n",
      "[CV 5/5] END ......leaf_size=20, n_neighbors=23;, score=0.998 total time=   0.2s\n",
      "[CV 1/5] END ......leaf_size=20, n_neighbors=24;, score=1.000 total time=   0.2s\n",
      "[CV 2/5] END ......leaf_size=20, n_neighbors=24;, score=0.999 total time=   0.1s\n",
      "[CV 3/5] END ......leaf_size=20, n_neighbors=24;, score=0.999 total time=   0.2s\n",
      "[CV 4/5] END ......leaf_size=20, n_neighbors=24;, score=0.998 total time=   0.2s\n",
      "[CV 5/5] END ......leaf_size=20, n_neighbors=24;, score=0.998 total time=   0.2s\n",
      "[CV 1/5] END ......leaf_size=20, n_neighbors=25;, score=1.000 total time=   0.2s\n",
      "[CV 2/5] END ......leaf_size=20, n_neighbors=25;, score=0.999 total time=   0.1s\n",
      "[CV 3/5] END ......leaf_size=20, n_neighbors=25;, score=0.999 total time=   0.2s\n",
      "[CV 4/5] END ......leaf_size=20, n_neighbors=25;, score=0.998 total time=   0.1s\n",
      "[CV 5/5] END ......leaf_size=20, n_neighbors=25;, score=0.998 total time=   0.2s\n",
      "[CV 1/5] END ......leaf_size=20, n_neighbors=26;, score=1.000 total time=   0.2s\n",
      "[CV 2/5] END ......leaf_size=20, n_neighbors=26;, score=0.999 total time=   0.1s\n",
      "[CV 3/5] END ......leaf_size=20, n_neighbors=26;, score=0.999 total time=   0.2s\n",
      "[CV 4/5] END ......leaf_size=20, n_neighbors=26;, score=0.998 total time=   0.1s\n",
      "[CV 5/5] END ......leaf_size=20, n_neighbors=26;, score=0.998 total time=   0.1s\n",
      "[CV 1/5] END ......leaf_size=20, n_neighbors=27;, score=1.000 total time=   0.2s\n",
      "[CV 2/5] END ......leaf_size=20, n_neighbors=27;, score=0.999 total time=   0.2s\n",
      "[CV 3/5] END ......leaf_size=20, n_neighbors=27;, score=0.999 total time=   0.2s\n",
      "[CV 4/5] END ......leaf_size=20, n_neighbors=27;, score=0.998 total time=   0.2s\n",
      "[CV 5/5] END ......leaf_size=20, n_neighbors=27;, score=0.998 total time=   0.2s\n",
      "[CV 1/5] END ......leaf_size=20, n_neighbors=28;, score=1.000 total time=   0.2s\n",
      "[CV 2/5] END ......leaf_size=20, n_neighbors=28;, score=0.999 total time=   0.2s\n",
      "[CV 3/5] END ......leaf_size=20, n_neighbors=28;, score=0.999 total time=   0.2s\n",
      "[CV 4/5] END ......leaf_size=20, n_neighbors=28;, score=0.998 total time=   0.2s\n",
      "[CV 5/5] END ......leaf_size=20, n_neighbors=28;, score=0.998 total time=   0.2s\n",
      "[CV 1/5] END ......leaf_size=20, n_neighbors=29;, score=1.000 total time=   0.2s\n",
      "[CV 2/5] END ......leaf_size=20, n_neighbors=29;, score=0.999 total time=   0.2s\n",
      "[CV 3/5] END ......leaf_size=20, n_neighbors=29;, score=0.999 total time=   0.2s\n",
      "[CV 4/5] END ......leaf_size=20, n_neighbors=29;, score=0.998 total time=   0.2s\n",
      "[CV 5/5] END ......leaf_size=20, n_neighbors=29;, score=0.998 total time=   0.2s\n",
      "[CV 1/5] END ......leaf_size=30, n_neighbors=10;, score=1.000 total time=   0.2s\n",
      "[CV 2/5] END ......leaf_size=30, n_neighbors=10;, score=1.000 total time=   0.3s\n",
      "[CV 3/5] END ......leaf_size=30, n_neighbors=10;, score=1.000 total time=   0.3s\n"
     ]
    },
    {
     "name": "stdout",
     "output_type": "stream",
     "text": [
      "[CV 4/5] END ......leaf_size=30, n_neighbors=10;, score=1.000 total time=   0.2s\n",
      "[CV 5/5] END ......leaf_size=30, n_neighbors=10;, score=0.998 total time=   0.2s\n",
      "[CV 1/5] END ......leaf_size=30, n_neighbors=11;, score=1.000 total time=   0.2s\n",
      "[CV 2/5] END ......leaf_size=30, n_neighbors=11;, score=1.000 total time=   0.1s\n",
      "[CV 3/5] END ......leaf_size=30, n_neighbors=11;, score=1.000 total time=   0.1s\n",
      "[CV 4/5] END ......leaf_size=30, n_neighbors=11;, score=0.998 total time=   0.2s\n",
      "[CV 5/5] END ......leaf_size=30, n_neighbors=11;, score=0.998 total time=   0.2s\n",
      "[CV 1/5] END ......leaf_size=30, n_neighbors=12;, score=1.000 total time=   0.2s\n",
      "[CV 2/5] END ......leaf_size=30, n_neighbors=12;, score=1.000 total time=   0.2s\n",
      "[CV 3/5] END ......leaf_size=30, n_neighbors=12;, score=1.000 total time=   0.2s\n",
      "[CV 4/5] END ......leaf_size=30, n_neighbors=12;, score=0.998 total time=   0.2s\n",
      "[CV 5/5] END ......leaf_size=30, n_neighbors=12;, score=0.998 total time=   0.2s\n",
      "[CV 1/5] END ......leaf_size=30, n_neighbors=13;, score=1.000 total time=   0.2s\n",
      "[CV 2/5] END ......leaf_size=30, n_neighbors=13;, score=0.999 total time=   0.1s\n",
      "[CV 3/5] END ......leaf_size=30, n_neighbors=13;, score=0.999 total time=   0.1s\n",
      "[CV 4/5] END ......leaf_size=30, n_neighbors=13;, score=0.998 total time=   0.2s\n",
      "[CV 5/5] END ......leaf_size=30, n_neighbors=13;, score=0.998 total time=   0.2s\n",
      "[CV 1/5] END ......leaf_size=30, n_neighbors=14;, score=1.000 total time=   0.2s\n",
      "[CV 2/5] END ......leaf_size=30, n_neighbors=14;, score=0.999 total time=   0.2s\n",
      "[CV 3/5] END ......leaf_size=30, n_neighbors=14;, score=0.999 total time=   0.2s\n",
      "[CV 4/5] END ......leaf_size=30, n_neighbors=14;, score=0.998 total time=   0.2s\n",
      "[CV 5/5] END ......leaf_size=30, n_neighbors=14;, score=0.998 total time=   0.2s\n",
      "[CV 1/5] END ......leaf_size=30, n_neighbors=15;, score=1.000 total time=   0.3s\n",
      "[CV 2/5] END ......leaf_size=30, n_neighbors=15;, score=0.999 total time=   0.2s\n",
      "[CV 3/5] END ......leaf_size=30, n_neighbors=15;, score=0.999 total time=   0.2s\n",
      "[CV 4/5] END ......leaf_size=30, n_neighbors=15;, score=0.998 total time=   0.2s\n",
      "[CV 5/5] END ......leaf_size=30, n_neighbors=15;, score=0.998 total time=   0.2s\n",
      "[CV 1/5] END ......leaf_size=30, n_neighbors=16;, score=1.000 total time=   0.2s\n",
      "[CV 2/5] END ......leaf_size=30, n_neighbors=16;, score=0.999 total time=   0.2s\n",
      "[CV 3/5] END ......leaf_size=30, n_neighbors=16;, score=0.999 total time=   0.2s\n",
      "[CV 4/5] END ......leaf_size=30, n_neighbors=16;, score=0.998 total time=   0.3s\n",
      "[CV 5/5] END ......leaf_size=30, n_neighbors=16;, score=0.998 total time=   0.2s\n",
      "[CV 1/5] END ......leaf_size=30, n_neighbors=17;, score=1.000 total time=   0.2s\n",
      "[CV 2/5] END ......leaf_size=30, n_neighbors=17;, score=0.999 total time=   0.1s\n",
      "[CV 3/5] END ......leaf_size=30, n_neighbors=17;, score=0.999 total time=   0.2s\n",
      "[CV 4/5] END ......leaf_size=30, n_neighbors=17;, score=0.998 total time=   0.2s\n",
      "[CV 5/5] END ......leaf_size=30, n_neighbors=17;, score=0.998 total time=   0.2s\n",
      "[CV 1/5] END ......leaf_size=30, n_neighbors=18;, score=1.000 total time=   0.2s\n",
      "[CV 2/5] END ......leaf_size=30, n_neighbors=18;, score=0.999 total time=   0.2s\n",
      "[CV 3/5] END ......leaf_size=30, n_neighbors=18;, score=0.999 total time=   0.2s\n",
      "[CV 4/5] END ......leaf_size=30, n_neighbors=18;, score=0.998 total time=   0.2s\n",
      "[CV 5/5] END ......leaf_size=30, n_neighbors=18;, score=0.998 total time=   0.2s\n",
      "[CV 1/5] END ......leaf_size=30, n_neighbors=19;, score=1.000 total time=   0.2s\n",
      "[CV 2/5] END ......leaf_size=30, n_neighbors=19;, score=0.999 total time=   0.2s\n",
      "[CV 3/5] END ......leaf_size=30, n_neighbors=19;, score=0.999 total time=   0.2s\n",
      "[CV 4/5] END ......leaf_size=30, n_neighbors=19;, score=0.998 total time=   0.2s\n",
      "[CV 5/5] END ......leaf_size=30, n_neighbors=19;, score=0.998 total time=   0.2s\n",
      "[CV 1/5] END ......leaf_size=30, n_neighbors=20;, score=1.000 total time=   0.2s\n",
      "[CV 2/5] END ......leaf_size=30, n_neighbors=20;, score=0.999 total time=   0.2s\n",
      "[CV 3/5] END ......leaf_size=30, n_neighbors=20;, score=0.999 total time=   0.2s\n",
      "[CV 4/5] END ......leaf_size=30, n_neighbors=20;, score=0.998 total time=   0.2s\n",
      "[CV 5/5] END ......leaf_size=30, n_neighbors=20;, score=0.998 total time=   0.2s\n",
      "[CV 1/5] END ......leaf_size=30, n_neighbors=21;, score=1.000 total time=   0.2s\n",
      "[CV 2/5] END ......leaf_size=30, n_neighbors=21;, score=0.999 total time=   0.1s\n",
      "[CV 3/5] END ......leaf_size=30, n_neighbors=21;, score=0.999 total time=   0.2s\n",
      "[CV 4/5] END ......leaf_size=30, n_neighbors=21;, score=0.998 total time=   0.1s\n",
      "[CV 5/5] END ......leaf_size=30, n_neighbors=21;, score=0.998 total time=   0.2s\n",
      "[CV 1/5] END ......leaf_size=30, n_neighbors=22;, score=1.000 total time=   0.1s\n",
      "[CV 2/5] END ......leaf_size=30, n_neighbors=22;, score=0.999 total time=   0.1s\n",
      "[CV 3/5] END ......leaf_size=30, n_neighbors=22;, score=0.999 total time=   0.2s\n",
      "[CV 4/5] END ......leaf_size=30, n_neighbors=22;, score=0.998 total time=   0.2s\n",
      "[CV 5/5] END ......leaf_size=30, n_neighbors=22;, score=0.998 total time=   0.2s\n",
      "[CV 1/5] END ......leaf_size=30, n_neighbors=23;, score=1.000 total time=   0.1s\n",
      "[CV 2/5] END ......leaf_size=30, n_neighbors=23;, score=0.999 total time=   0.2s\n",
      "[CV 3/5] END ......leaf_size=30, n_neighbors=23;, score=0.999 total time=   0.2s\n",
      "[CV 4/5] END ......leaf_size=30, n_neighbors=23;, score=0.998 total time=   0.2s\n",
      "[CV 5/5] END ......leaf_size=30, n_neighbors=23;, score=0.998 total time=   0.2s\n",
      "[CV 1/5] END ......leaf_size=30, n_neighbors=24;, score=1.000 total time=   0.2s\n",
      "[CV 2/5] END ......leaf_size=30, n_neighbors=24;, score=0.999 total time=   0.2s\n",
      "[CV 3/5] END ......leaf_size=30, n_neighbors=24;, score=0.999 total time=   0.2s\n",
      "[CV 4/5] END ......leaf_size=30, n_neighbors=24;, score=0.998 total time=   0.2s\n",
      "[CV 5/5] END ......leaf_size=30, n_neighbors=24;, score=0.998 total time=   0.2s\n",
      "[CV 1/5] END ......leaf_size=30, n_neighbors=25;, score=1.000 total time=   0.2s\n",
      "[CV 2/5] END ......leaf_size=30, n_neighbors=25;, score=0.999 total time=   0.1s\n",
      "[CV 3/5] END ......leaf_size=30, n_neighbors=25;, score=0.999 total time=   0.2s\n",
      "[CV 4/5] END ......leaf_size=30, n_neighbors=25;, score=0.998 total time=   0.4s\n",
      "[CV 5/5] END ......leaf_size=30, n_neighbors=25;, score=0.998 total time=   0.3s\n",
      "[CV 1/5] END ......leaf_size=30, n_neighbors=26;, score=1.000 total time=   0.2s\n",
      "[CV 2/5] END ......leaf_size=30, n_neighbors=26;, score=0.999 total time=   0.2s\n",
      "[CV 3/5] END ......leaf_size=30, n_neighbors=26;, score=0.999 total time=   0.2s\n",
      "[CV 4/5] END ......leaf_size=30, n_neighbors=26;, score=0.998 total time=   0.2s\n",
      "[CV 5/5] END ......leaf_size=30, n_neighbors=26;, score=0.998 total time=   0.2s\n",
      "[CV 1/5] END ......leaf_size=30, n_neighbors=27;, score=1.000 total time=   0.2s\n",
      "[CV 2/5] END ......leaf_size=30, n_neighbors=27;, score=0.999 total time=   0.2s\n",
      "[CV 3/5] END ......leaf_size=30, n_neighbors=27;, score=0.999 total time=   0.2s\n",
      "[CV 4/5] END ......leaf_size=30, n_neighbors=27;, score=0.998 total time=   0.4s\n",
      "[CV 5/5] END ......leaf_size=30, n_neighbors=27;, score=0.998 total time=   0.2s\n",
      "[CV 1/5] END ......leaf_size=30, n_neighbors=28;, score=1.000 total time=   0.2s\n",
      "[CV 2/5] END ......leaf_size=30, n_neighbors=28;, score=0.999 total time=   0.2s\n",
      "[CV 3/5] END ......leaf_size=30, n_neighbors=28;, score=0.999 total time=   0.2s\n",
      "[CV 4/5] END ......leaf_size=30, n_neighbors=28;, score=0.998 total time=   0.2s\n",
      "[CV 5/5] END ......leaf_size=30, n_neighbors=28;, score=0.998 total time=   0.2s\n",
      "[CV 1/5] END ......leaf_size=30, n_neighbors=29;, score=1.000 total time=   0.2s\n",
      "[CV 2/5] END ......leaf_size=30, n_neighbors=29;, score=0.999 total time=   0.2s\n",
      "[CV 3/5] END ......leaf_size=30, n_neighbors=29;, score=0.999 total time=   0.3s\n",
      "[CV 4/5] END ......leaf_size=30, n_neighbors=29;, score=0.998 total time=   0.4s\n",
      "[CV 5/5] END ......leaf_size=30, n_neighbors=29;, score=0.998 total time=   0.1s\n",
      "[CV 1/5] END ......leaf_size=40, n_neighbors=10;, score=1.000 total time=   0.2s\n",
      "[CV 2/5] END ......leaf_size=40, n_neighbors=10;, score=1.000 total time=   0.2s\n",
      "[CV 3/5] END ......leaf_size=40, n_neighbors=10;, score=1.000 total time=   0.2s\n",
      "[CV 4/5] END ......leaf_size=40, n_neighbors=10;, score=1.000 total time=   0.1s\n",
      "[CV 5/5] END ......leaf_size=40, n_neighbors=10;, score=0.998 total time=   0.1s\n"
     ]
    },
    {
     "name": "stdout",
     "output_type": "stream",
     "text": [
      "[CV 1/5] END ......leaf_size=40, n_neighbors=11;, score=1.000 total time=   0.2s\n",
      "[CV 2/5] END ......leaf_size=40, n_neighbors=11;, score=1.000 total time=   0.1s\n",
      "[CV 3/5] END ......leaf_size=40, n_neighbors=11;, score=1.000 total time=   0.2s\n",
      "[CV 4/5] END ......leaf_size=40, n_neighbors=11;, score=0.998 total time=   0.2s\n",
      "[CV 5/5] END ......leaf_size=40, n_neighbors=11;, score=0.998 total time=   0.2s\n",
      "[CV 1/5] END ......leaf_size=40, n_neighbors=12;, score=1.000 total time=   0.2s\n",
      "[CV 2/5] END ......leaf_size=40, n_neighbors=12;, score=1.000 total time=   0.2s\n",
      "[CV 3/5] END ......leaf_size=40, n_neighbors=12;, score=1.000 total time=   0.2s\n",
      "[CV 4/5] END ......leaf_size=40, n_neighbors=12;, score=0.998 total time=   0.1s\n",
      "[CV 5/5] END ......leaf_size=40, n_neighbors=12;, score=0.998 total time=   0.2s\n",
      "[CV 1/5] END ......leaf_size=40, n_neighbors=13;, score=1.000 total time=   0.2s\n",
      "[CV 2/5] END ......leaf_size=40, n_neighbors=13;, score=0.999 total time=   0.2s\n",
      "[CV 3/5] END ......leaf_size=40, n_neighbors=13;, score=0.999 total time=   0.2s\n",
      "[CV 4/5] END ......leaf_size=40, n_neighbors=13;, score=0.998 total time=   0.2s\n",
      "[CV 5/5] END ......leaf_size=40, n_neighbors=13;, score=0.998 total time=   0.2s\n",
      "[CV 1/5] END ......leaf_size=40, n_neighbors=14;, score=1.000 total time=   0.2s\n",
      "[CV 2/5] END ......leaf_size=40, n_neighbors=14;, score=0.999 total time=   0.2s\n",
      "[CV 3/5] END ......leaf_size=40, n_neighbors=14;, score=0.999 total time=   0.2s\n",
      "[CV 4/5] END ......leaf_size=40, n_neighbors=14;, score=0.998 total time=   0.2s\n",
      "[CV 5/5] END ......leaf_size=40, n_neighbors=14;, score=0.998 total time=   0.2s\n",
      "[CV 1/5] END ......leaf_size=40, n_neighbors=15;, score=1.000 total time=   0.2s\n",
      "[CV 2/5] END ......leaf_size=40, n_neighbors=15;, score=0.999 total time=   0.1s\n",
      "[CV 3/5] END ......leaf_size=40, n_neighbors=15;, score=0.999 total time=   0.1s\n",
      "[CV 4/5] END ......leaf_size=40, n_neighbors=15;, score=0.998 total time=   0.1s\n",
      "[CV 5/5] END ......leaf_size=40, n_neighbors=15;, score=0.998 total time=   0.2s\n",
      "[CV 1/5] END ......leaf_size=40, n_neighbors=16;, score=1.000 total time=   0.2s\n",
      "[CV 2/5] END ......leaf_size=40, n_neighbors=16;, score=0.999 total time=   0.1s\n",
      "[CV 3/5] END ......leaf_size=40, n_neighbors=16;, score=0.999 total time=   0.2s\n",
      "[CV 4/5] END ......leaf_size=40, n_neighbors=16;, score=0.998 total time=   0.2s\n",
      "[CV 5/5] END ......leaf_size=40, n_neighbors=16;, score=0.998 total time=   0.2s\n",
      "[CV 1/5] END ......leaf_size=40, n_neighbors=17;, score=1.000 total time=   0.2s\n",
      "[CV 2/5] END ......leaf_size=40, n_neighbors=17;, score=0.999 total time=   0.1s\n",
      "[CV 3/5] END ......leaf_size=40, n_neighbors=17;, score=0.999 total time=   0.2s\n",
      "[CV 4/5] END ......leaf_size=40, n_neighbors=17;, score=0.998 total time=   0.2s\n",
      "[CV 5/5] END ......leaf_size=40, n_neighbors=17;, score=0.998 total time=   0.2s\n",
      "[CV 1/5] END ......leaf_size=40, n_neighbors=18;, score=1.000 total time=   0.2s\n",
      "[CV 2/5] END ......leaf_size=40, n_neighbors=18;, score=0.999 total time=   0.1s\n",
      "[CV 3/5] END ......leaf_size=40, n_neighbors=18;, score=0.999 total time=   0.2s\n",
      "[CV 4/5] END ......leaf_size=40, n_neighbors=18;, score=0.998 total time=   0.2s\n",
      "[CV 5/5] END ......leaf_size=40, n_neighbors=18;, score=0.998 total time=   0.2s\n",
      "[CV 1/5] END ......leaf_size=40, n_neighbors=19;, score=1.000 total time=   0.3s\n",
      "[CV 2/5] END ......leaf_size=40, n_neighbors=19;, score=0.999 total time=   0.2s\n",
      "[CV 3/5] END ......leaf_size=40, n_neighbors=19;, score=0.999 total time=   0.2s\n",
      "[CV 4/5] END ......leaf_size=40, n_neighbors=19;, score=0.998 total time=   0.2s\n",
      "[CV 5/5] END ......leaf_size=40, n_neighbors=19;, score=0.998 total time=   0.1s\n",
      "[CV 1/5] END ......leaf_size=40, n_neighbors=20;, score=1.000 total time=   0.2s\n",
      "[CV 2/5] END ......leaf_size=40, n_neighbors=20;, score=0.999 total time=   0.2s\n",
      "[CV 3/5] END ......leaf_size=40, n_neighbors=20;, score=0.999 total time=   0.2s\n",
      "[CV 4/5] END ......leaf_size=40, n_neighbors=20;, score=0.998 total time=   0.2s\n",
      "[CV 5/5] END ......leaf_size=40, n_neighbors=20;, score=0.998 total time=   0.5s\n",
      "[CV 1/5] END ......leaf_size=40, n_neighbors=21;, score=1.000 total time=   0.3s\n",
      "[CV 2/5] END ......leaf_size=40, n_neighbors=21;, score=0.999 total time=   0.1s\n",
      "[CV 3/5] END ......leaf_size=40, n_neighbors=21;, score=0.999 total time=   0.2s\n",
      "[CV 4/5] END ......leaf_size=40, n_neighbors=21;, score=0.998 total time=   0.2s\n",
      "[CV 5/5] END ......leaf_size=40, n_neighbors=21;, score=0.998 total time=   0.2s\n",
      "[CV 1/5] END ......leaf_size=40, n_neighbors=22;, score=1.000 total time=   0.2s\n",
      "[CV 2/5] END ......leaf_size=40, n_neighbors=22;, score=0.999 total time=   0.2s\n",
      "[CV 3/5] END ......leaf_size=40, n_neighbors=22;, score=0.999 total time=   0.2s\n",
      "[CV 4/5] END ......leaf_size=40, n_neighbors=22;, score=0.998 total time=   0.1s\n",
      "[CV 5/5] END ......leaf_size=40, n_neighbors=22;, score=0.998 total time=   0.1s\n",
      "[CV 1/5] END ......leaf_size=40, n_neighbors=23;, score=1.000 total time=   0.2s\n",
      "[CV 2/5] END ......leaf_size=40, n_neighbors=23;, score=0.999 total time=   0.2s\n",
      "[CV 3/5] END ......leaf_size=40, n_neighbors=23;, score=0.999 total time=   0.2s\n",
      "[CV 4/5] END ......leaf_size=40, n_neighbors=23;, score=0.998 total time=   0.4s\n",
      "[CV 5/5] END ......leaf_size=40, n_neighbors=23;, score=0.998 total time=   0.2s\n",
      "[CV 1/5] END ......leaf_size=40, n_neighbors=24;, score=1.000 total time=   0.1s\n",
      "[CV 2/5] END ......leaf_size=40, n_neighbors=24;, score=0.999 total time=   0.1s\n",
      "[CV 3/5] END ......leaf_size=40, n_neighbors=24;, score=0.999 total time=   0.2s\n",
      "[CV 4/5] END ......leaf_size=40, n_neighbors=24;, score=0.998 total time=   0.2s\n",
      "[CV 5/5] END ......leaf_size=40, n_neighbors=24;, score=0.998 total time=   0.2s\n",
      "[CV 1/5] END ......leaf_size=40, n_neighbors=25;, score=1.000 total time=   0.2s\n",
      "[CV 2/5] END ......leaf_size=40, n_neighbors=25;, score=0.999 total time=   0.2s\n",
      "[CV 3/5] END ......leaf_size=40, n_neighbors=25;, score=0.999 total time=   0.2s\n",
      "[CV 4/5] END ......leaf_size=40, n_neighbors=25;, score=0.998 total time=   0.2s\n",
      "[CV 5/5] END ......leaf_size=40, n_neighbors=25;, score=0.998 total time=   0.2s\n",
      "[CV 1/5] END ......leaf_size=40, n_neighbors=26;, score=1.000 total time=   0.2s\n",
      "[CV 2/5] END ......leaf_size=40, n_neighbors=26;, score=0.999 total time=   0.4s\n",
      "[CV 3/5] END ......leaf_size=40, n_neighbors=26;, score=0.999 total time=   0.2s\n",
      "[CV 4/5] END ......leaf_size=40, n_neighbors=26;, score=0.998 total time=   0.2s\n",
      "[CV 5/5] END ......leaf_size=40, n_neighbors=26;, score=0.998 total time=   0.2s\n",
      "[CV 1/5] END ......leaf_size=40, n_neighbors=27;, score=1.000 total time=   0.2s\n",
      "[CV 2/5] END ......leaf_size=40, n_neighbors=27;, score=0.999 total time=   0.2s\n",
      "[CV 3/5] END ......leaf_size=40, n_neighbors=27;, score=0.999 total time=   0.3s\n",
      "[CV 4/5] END ......leaf_size=40, n_neighbors=27;, score=0.998 total time=   0.2s\n",
      "[CV 5/5] END ......leaf_size=40, n_neighbors=27;, score=0.998 total time=   0.2s\n",
      "[CV 1/5] END ......leaf_size=40, n_neighbors=28;, score=1.000 total time=   0.2s\n",
      "[CV 2/5] END ......leaf_size=40, n_neighbors=28;, score=0.999 total time=   0.2s\n",
      "[CV 3/5] END ......leaf_size=40, n_neighbors=28;, score=0.999 total time=   0.2s\n",
      "[CV 4/5] END ......leaf_size=40, n_neighbors=28;, score=0.998 total time=   0.5s\n",
      "[CV 5/5] END ......leaf_size=40, n_neighbors=28;, score=0.998 total time=   0.3s\n",
      "[CV 1/5] END ......leaf_size=40, n_neighbors=29;, score=1.000 total time=   0.2s\n",
      "[CV 2/5] END ......leaf_size=40, n_neighbors=29;, score=0.999 total time=   0.2s\n",
      "[CV 3/5] END ......leaf_size=40, n_neighbors=29;, score=0.999 total time=   0.2s\n",
      "[CV 4/5] END ......leaf_size=40, n_neighbors=29;, score=0.998 total time=   0.2s\n",
      "[CV 5/5] END ......leaf_size=40, n_neighbors=29;, score=0.998 total time=   0.1s\n",
      "[CV 1/5] END ......leaf_size=50, n_neighbors=10;, score=1.000 total time=   0.2s\n",
      "[CV 2/5] END ......leaf_size=50, n_neighbors=10;, score=1.000 total time=   0.2s\n",
      "[CV 3/5] END ......leaf_size=50, n_neighbors=10;, score=1.000 total time=   0.1s\n",
      "[CV 4/5] END ......leaf_size=50, n_neighbors=10;, score=1.000 total time=   0.2s\n",
      "[CV 5/5] END ......leaf_size=50, n_neighbors=10;, score=0.998 total time=   0.2s\n",
      "[CV 1/5] END ......leaf_size=50, n_neighbors=11;, score=1.000 total time=   0.2s\n",
      "[CV 2/5] END ......leaf_size=50, n_neighbors=11;, score=1.000 total time=   0.2s\n"
     ]
    },
    {
     "name": "stdout",
     "output_type": "stream",
     "text": [
      "[CV 3/5] END ......leaf_size=50, n_neighbors=11;, score=1.000 total time=   0.2s\n",
      "[CV 4/5] END ......leaf_size=50, n_neighbors=11;, score=0.998 total time=   0.2s\n",
      "[CV 5/5] END ......leaf_size=50, n_neighbors=11;, score=0.998 total time=   0.3s\n",
      "[CV 1/5] END ......leaf_size=50, n_neighbors=12;, score=1.000 total time=   0.2s\n",
      "[CV 2/5] END ......leaf_size=50, n_neighbors=12;, score=1.000 total time=   0.2s\n",
      "[CV 3/5] END ......leaf_size=50, n_neighbors=12;, score=1.000 total time=   0.2s\n",
      "[CV 4/5] END ......leaf_size=50, n_neighbors=12;, score=0.998 total time=   0.2s\n",
      "[CV 5/5] END ......leaf_size=50, n_neighbors=12;, score=0.998 total time=   0.2s\n",
      "[CV 1/5] END ......leaf_size=50, n_neighbors=13;, score=1.000 total time=   0.2s\n",
      "[CV 2/5] END ......leaf_size=50, n_neighbors=13;, score=0.999 total time=   0.1s\n",
      "[CV 3/5] END ......leaf_size=50, n_neighbors=13;, score=0.999 total time=   0.2s\n",
      "[CV 4/5] END ......leaf_size=50, n_neighbors=13;, score=0.998 total time=   0.2s\n",
      "[CV 5/5] END ......leaf_size=50, n_neighbors=13;, score=0.998 total time=   0.1s\n",
      "[CV 1/5] END ......leaf_size=50, n_neighbors=14;, score=1.000 total time=   0.1s\n",
      "[CV 2/5] END ......leaf_size=50, n_neighbors=14;, score=0.999 total time=   0.1s\n",
      "[CV 3/5] END ......leaf_size=50, n_neighbors=14;, score=0.999 total time=   0.2s\n",
      "[CV 4/5] END ......leaf_size=50, n_neighbors=14;, score=0.998 total time=   0.2s\n",
      "[CV 5/5] END ......leaf_size=50, n_neighbors=14;, score=0.998 total time=   0.2s\n",
      "[CV 1/5] END ......leaf_size=50, n_neighbors=15;, score=1.000 total time=   0.2s\n",
      "[CV 2/5] END ......leaf_size=50, n_neighbors=15;, score=0.999 total time=   0.2s\n",
      "[CV 3/5] END ......leaf_size=50, n_neighbors=15;, score=0.999 total time=   0.2s\n",
      "[CV 4/5] END ......leaf_size=50, n_neighbors=15;, score=0.998 total time=   0.2s\n",
      "[CV 5/5] END ......leaf_size=50, n_neighbors=15;, score=0.998 total time=   0.2s\n",
      "[CV 1/5] END ......leaf_size=50, n_neighbors=16;, score=1.000 total time=   0.2s\n",
      "[CV 2/5] END ......leaf_size=50, n_neighbors=16;, score=0.999 total time=   0.2s\n",
      "[CV 3/5] END ......leaf_size=50, n_neighbors=16;, score=0.999 total time=   0.2s\n",
      "[CV 4/5] END ......leaf_size=50, n_neighbors=16;, score=0.998 total time=   0.2s\n",
      "[CV 5/5] END ......leaf_size=50, n_neighbors=16;, score=0.998 total time=   0.2s\n",
      "[CV 1/5] END ......leaf_size=50, n_neighbors=17;, score=1.000 total time=   0.3s\n",
      "[CV 2/5] END ......leaf_size=50, n_neighbors=17;, score=0.999 total time=   0.2s\n",
      "[CV 3/5] END ......leaf_size=50, n_neighbors=17;, score=0.999 total time=   0.2s\n",
      "[CV 4/5] END ......leaf_size=50, n_neighbors=17;, score=0.998 total time=   0.2s\n",
      "[CV 5/5] END ......leaf_size=50, n_neighbors=17;, score=0.998 total time=   0.2s\n",
      "[CV 1/5] END ......leaf_size=50, n_neighbors=18;, score=1.000 total time=   0.2s\n",
      "[CV 2/5] END ......leaf_size=50, n_neighbors=18;, score=0.999 total time=   0.2s\n",
      "[CV 3/5] END ......leaf_size=50, n_neighbors=18;, score=0.999 total time=   0.1s\n",
      "[CV 4/5] END ......leaf_size=50, n_neighbors=18;, score=0.998 total time=   0.2s\n",
      "[CV 5/5] END ......leaf_size=50, n_neighbors=18;, score=0.998 total time=   0.3s\n",
      "[CV 1/5] END ......leaf_size=50, n_neighbors=19;, score=1.000 total time=   0.2s\n",
      "[CV 2/5] END ......leaf_size=50, n_neighbors=19;, score=0.999 total time=   0.2s\n",
      "[CV 3/5] END ......leaf_size=50, n_neighbors=19;, score=0.999 total time=   0.2s\n",
      "[CV 4/5] END ......leaf_size=50, n_neighbors=19;, score=0.998 total time=   0.3s\n",
      "[CV 5/5] END ......leaf_size=50, n_neighbors=19;, score=0.998 total time=   0.4s\n",
      "[CV 1/5] END ......leaf_size=50, n_neighbors=20;, score=1.000 total time=   0.3s\n",
      "[CV 2/5] END ......leaf_size=50, n_neighbors=20;, score=0.999 total time=   0.2s\n",
      "[CV 3/5] END ......leaf_size=50, n_neighbors=20;, score=0.999 total time=   0.2s\n",
      "[CV 4/5] END ......leaf_size=50, n_neighbors=20;, score=0.998 total time=   0.4s\n",
      "[CV 5/5] END ......leaf_size=50, n_neighbors=20;, score=0.998 total time=   0.2s\n",
      "[CV 1/5] END ......leaf_size=50, n_neighbors=21;, score=1.000 total time=   0.2s\n",
      "[CV 2/5] END ......leaf_size=50, n_neighbors=21;, score=0.999 total time=   0.1s\n",
      "[CV 3/5] END ......leaf_size=50, n_neighbors=21;, score=0.999 total time=   0.2s\n",
      "[CV 4/5] END ......leaf_size=50, n_neighbors=21;, score=0.998 total time=   0.2s\n",
      "[CV 5/5] END ......leaf_size=50, n_neighbors=21;, score=0.998 total time=   0.1s\n",
      "[CV 1/5] END ......leaf_size=50, n_neighbors=22;, score=1.000 total time=   0.2s\n",
      "[CV 2/5] END ......leaf_size=50, n_neighbors=22;, score=0.999 total time=   0.2s\n",
      "[CV 3/5] END ......leaf_size=50, n_neighbors=22;, score=0.999 total time=   0.3s\n",
      "[CV 4/5] END ......leaf_size=50, n_neighbors=22;, score=0.998 total time=   0.3s\n",
      "[CV 5/5] END ......leaf_size=50, n_neighbors=22;, score=0.998 total time=   0.2s\n",
      "[CV 1/5] END ......leaf_size=50, n_neighbors=23;, score=1.000 total time=   0.2s\n",
      "[CV 2/5] END ......leaf_size=50, n_neighbors=23;, score=0.999 total time=   0.2s\n",
      "[CV 3/5] END ......leaf_size=50, n_neighbors=23;, score=0.999 total time=   0.3s\n",
      "[CV 4/5] END ......leaf_size=50, n_neighbors=23;, score=0.998 total time=   0.2s\n",
      "[CV 5/5] END ......leaf_size=50, n_neighbors=23;, score=0.998 total time=   0.2s\n",
      "[CV 1/5] END ......leaf_size=50, n_neighbors=24;, score=1.000 total time=   0.1s\n",
      "[CV 2/5] END ......leaf_size=50, n_neighbors=24;, score=0.999 total time=   0.1s\n",
      "[CV 3/5] END ......leaf_size=50, n_neighbors=24;, score=0.999 total time=   0.2s\n",
      "[CV 4/5] END ......leaf_size=50, n_neighbors=24;, score=0.998 total time=   0.2s\n",
      "[CV 5/5] END ......leaf_size=50, n_neighbors=24;, score=0.998 total time=   0.1s\n",
      "[CV 1/5] END ......leaf_size=50, n_neighbors=25;, score=1.000 total time=   0.2s\n",
      "[CV 2/5] END ......leaf_size=50, n_neighbors=25;, score=0.999 total time=   0.2s\n",
      "[CV 3/5] END ......leaf_size=50, n_neighbors=25;, score=0.999 total time=   0.2s\n",
      "[CV 4/5] END ......leaf_size=50, n_neighbors=25;, score=0.998 total time=   0.2s\n",
      "[CV 5/5] END ......leaf_size=50, n_neighbors=25;, score=0.998 total time=   0.2s\n",
      "[CV 1/5] END ......leaf_size=50, n_neighbors=26;, score=1.000 total time=   0.2s\n",
      "[CV 2/5] END ......leaf_size=50, n_neighbors=26;, score=0.999 total time=   0.1s\n",
      "[CV 3/5] END ......leaf_size=50, n_neighbors=26;, score=0.999 total time=   0.2s\n",
      "[CV 4/5] END ......leaf_size=50, n_neighbors=26;, score=0.998 total time=   0.2s\n",
      "[CV 5/5] END ......leaf_size=50, n_neighbors=26;, score=0.998 total time=   0.1s\n",
      "[CV 1/5] END ......leaf_size=50, n_neighbors=27;, score=1.000 total time=   0.2s\n",
      "[CV 2/5] END ......leaf_size=50, n_neighbors=27;, score=0.999 total time=   0.2s\n",
      "[CV 3/5] END ......leaf_size=50, n_neighbors=27;, score=0.999 total time=   0.3s\n",
      "[CV 4/5] END ......leaf_size=50, n_neighbors=27;, score=0.998 total time=   0.2s\n",
      "[CV 5/5] END ......leaf_size=50, n_neighbors=27;, score=0.998 total time=   0.2s\n",
      "[CV 1/5] END ......leaf_size=50, n_neighbors=28;, score=1.000 total time=   0.2s\n",
      "[CV 2/5] END ......leaf_size=50, n_neighbors=28;, score=0.999 total time=   0.2s\n",
      "[CV 3/5] END ......leaf_size=50, n_neighbors=28;, score=0.999 total time=   0.2s\n",
      "[CV 4/5] END ......leaf_size=50, n_neighbors=28;, score=0.998 total time=   0.2s\n",
      "[CV 5/5] END ......leaf_size=50, n_neighbors=28;, score=0.998 total time=   0.3s\n",
      "[CV 1/5] END ......leaf_size=50, n_neighbors=29;, score=1.000 total time=   0.2s\n",
      "[CV 2/5] END ......leaf_size=50, n_neighbors=29;, score=0.999 total time=   0.1s\n",
      "[CV 3/5] END ......leaf_size=50, n_neighbors=29;, score=0.999 total time=   0.3s\n",
      "[CV 4/5] END ......leaf_size=50, n_neighbors=29;, score=0.998 total time=   0.2s\n",
      "[CV 5/5] END ......leaf_size=50, n_neighbors=29;, score=0.998 total time=   0.2s\n"
     ]
    },
    {
     "data": {
      "text/html": [
       "<style>#sk-container-id-13 {color: black;background-color: white;}#sk-container-id-13 pre{padding: 0;}#sk-container-id-13 div.sk-toggleable {background-color: white;}#sk-container-id-13 label.sk-toggleable__label {cursor: pointer;display: block;width: 100%;margin-bottom: 0;padding: 0.3em;box-sizing: border-box;text-align: center;}#sk-container-id-13 label.sk-toggleable__label-arrow:before {content: \"▸\";float: left;margin-right: 0.25em;color: #696969;}#sk-container-id-13 label.sk-toggleable__label-arrow:hover:before {color: black;}#sk-container-id-13 div.sk-estimator:hover label.sk-toggleable__label-arrow:before {color: black;}#sk-container-id-13 div.sk-toggleable__content {max-height: 0;max-width: 0;overflow: hidden;text-align: left;background-color: #f0f8ff;}#sk-container-id-13 div.sk-toggleable__content pre {margin: 0.2em;color: black;border-radius: 0.25em;background-color: #f0f8ff;}#sk-container-id-13 input.sk-toggleable__control:checked~div.sk-toggleable__content {max-height: 200px;max-width: 100%;overflow: auto;}#sk-container-id-13 input.sk-toggleable__control:checked~label.sk-toggleable__label-arrow:before {content: \"▾\";}#sk-container-id-13 div.sk-estimator input.sk-toggleable__control:checked~label.sk-toggleable__label {background-color: #d4ebff;}#sk-container-id-13 div.sk-label input.sk-toggleable__control:checked~label.sk-toggleable__label {background-color: #d4ebff;}#sk-container-id-13 input.sk-hidden--visually {border: 0;clip: rect(1px 1px 1px 1px);clip: rect(1px, 1px, 1px, 1px);height: 1px;margin: -1px;overflow: hidden;padding: 0;position: absolute;width: 1px;}#sk-container-id-13 div.sk-estimator {font-family: monospace;background-color: #f0f8ff;border: 1px dotted black;border-radius: 0.25em;box-sizing: border-box;margin-bottom: 0.5em;}#sk-container-id-13 div.sk-estimator:hover {background-color: #d4ebff;}#sk-container-id-13 div.sk-parallel-item::after {content: \"\";width: 100%;border-bottom: 1px solid gray;flex-grow: 1;}#sk-container-id-13 div.sk-label:hover label.sk-toggleable__label {background-color: #d4ebff;}#sk-container-id-13 div.sk-serial::before {content: \"\";position: absolute;border-left: 1px solid gray;box-sizing: border-box;top: 0;bottom: 0;left: 50%;z-index: 0;}#sk-container-id-13 div.sk-serial {display: flex;flex-direction: column;align-items: center;background-color: white;padding-right: 0.2em;padding-left: 0.2em;position: relative;}#sk-container-id-13 div.sk-item {position: relative;z-index: 1;}#sk-container-id-13 div.sk-parallel {display: flex;align-items: stretch;justify-content: center;background-color: white;position: relative;}#sk-container-id-13 div.sk-item::before, #sk-container-id-13 div.sk-parallel-item::before {content: \"\";position: absolute;border-left: 1px solid gray;box-sizing: border-box;top: 0;bottom: 0;left: 50%;z-index: -1;}#sk-container-id-13 div.sk-parallel-item {display: flex;flex-direction: column;z-index: 1;position: relative;background-color: white;}#sk-container-id-13 div.sk-parallel-item:first-child::after {align-self: flex-end;width: 50%;}#sk-container-id-13 div.sk-parallel-item:last-child::after {align-self: flex-start;width: 50%;}#sk-container-id-13 div.sk-parallel-item:only-child::after {width: 0;}#sk-container-id-13 div.sk-dashed-wrapped {border: 1px dashed gray;margin: 0 0.4em 0.5em 0.4em;box-sizing: border-box;padding-bottom: 0.4em;background-color: white;}#sk-container-id-13 div.sk-label label {font-family: monospace;font-weight: bold;display: inline-block;line-height: 1.2em;}#sk-container-id-13 div.sk-label-container {text-align: center;}#sk-container-id-13 div.sk-container {/* jupyter's `normalize.less` sets `[hidden] { display: none; }` but bootstrap.min.css set `[hidden] { display: none !important; }` so we also need the `!important` here to be able to override the default hidden behavior on the sphinx rendered scikit-learn.org. See: https://github.com/scikit-learn/scikit-learn/issues/21755 */display: inline-block !important;position: relative;}#sk-container-id-13 div.sk-text-repr-fallback {display: none;}</style><div id=\"sk-container-id-13\" class=\"sk-top-container\"><div class=\"sk-text-repr-fallback\"><pre>GridSearchCV(cv=5, estimator=KNeighborsClassifier(n_neighbors=25),\n",
       "             param_grid={&#x27;leaf_size&#x27;: [10, 20, 30, 40, 50],\n",
       "                         &#x27;n_neighbors&#x27;: range(10, 30)},\n",
       "             verbose=3)</pre><b>In a Jupyter environment, please rerun this cell to show the HTML representation or trust the notebook. <br />On GitHub, the HTML representation is unable to render, please try loading this page with nbviewer.org.</b></div><div class=\"sk-container\" hidden><div class=\"sk-item sk-dashed-wrapped\"><div class=\"sk-label-container\"><div class=\"sk-label sk-toggleable\"><input class=\"sk-toggleable__control sk-hidden--visually\" id=\"sk-estimator-id-17\" type=\"checkbox\" ><label for=\"sk-estimator-id-17\" class=\"sk-toggleable__label sk-toggleable__label-arrow\">GridSearchCV</label><div class=\"sk-toggleable__content\"><pre>GridSearchCV(cv=5, estimator=KNeighborsClassifier(n_neighbors=25),\n",
       "             param_grid={&#x27;leaf_size&#x27;: [10, 20, 30, 40, 50],\n",
       "                         &#x27;n_neighbors&#x27;: range(10, 30)},\n",
       "             verbose=3)</pre></div></div></div><div class=\"sk-parallel\"><div class=\"sk-parallel-item\"><div class=\"sk-item\"><div class=\"sk-label-container\"><div class=\"sk-label sk-toggleable\"><input class=\"sk-toggleable__control sk-hidden--visually\" id=\"sk-estimator-id-18\" type=\"checkbox\" ><label for=\"sk-estimator-id-18\" class=\"sk-toggleable__label sk-toggleable__label-arrow\">estimator: KNeighborsClassifier</label><div class=\"sk-toggleable__content\"><pre>KNeighborsClassifier(n_neighbors=25)</pre></div></div></div><div class=\"sk-serial\"><div class=\"sk-item\"><div class=\"sk-estimator sk-toggleable\"><input class=\"sk-toggleable__control sk-hidden--visually\" id=\"sk-estimator-id-19\" type=\"checkbox\" ><label for=\"sk-estimator-id-19\" class=\"sk-toggleable__label sk-toggleable__label-arrow\">KNeighborsClassifier</label><div class=\"sk-toggleable__content\"><pre>KNeighborsClassifier(n_neighbors=25)</pre></div></div></div></div></div></div></div></div></div></div>"
      ],
      "text/plain": [
       "GridSearchCV(cv=5, estimator=KNeighborsClassifier(n_neighbors=25),\n",
       "             param_grid={'leaf_size': [10, 20, 30, 40, 50],\n",
       "                         'n_neighbors': range(10, 30)},\n",
       "             verbose=3)"
      ]
     },
     "execution_count": 118,
     "metadata": {},
     "output_type": "execute_result"
    }
   ],
   "source": [
    "grid_knn.fit(train_x, train_y)"
   ]
  },
  {
   "cell_type": "code",
   "execution_count": 119,
   "id": "214c3543",
   "metadata": {},
   "outputs": [
    {
     "data": {
      "text/plain": [
       "{'leaf_size': 10, 'n_neighbors': 10}"
      ]
     },
     "execution_count": 119,
     "metadata": {},
     "output_type": "execute_result"
    }
   ],
   "source": [
    "grid_knn.best_params_"
   ]
  },
  {
   "cell_type": "code",
   "execution_count": 62,
   "id": "5d6c7a23",
   "metadata": {},
   "outputs": [
    {
     "data": {
      "text/plain": [
       "(6093, 94)"
      ]
     },
     "execution_count": 62,
     "metadata": {},
     "output_type": "execute_result"
    }
   ],
   "source": [
    "train_x.shape"
   ]
  },
  {
   "cell_type": "code",
   "execution_count": 92,
   "id": "1fdec28f",
   "metadata": {},
   "outputs": [],
   "source": [
    "knnc=KNeighborsClassifier(leaf_size=10, algorithm='ball_tree',\n",
    "                                              n_neighbors=15)"
   ]
  },
  {
   "cell_type": "code",
   "execution_count": 93,
   "id": "73f4dfd1",
   "metadata": {},
   "outputs": [
    {
     "data": {
      "text/html": [
       "<style>#sk-container-id-11 {color: black;background-color: white;}#sk-container-id-11 pre{padding: 0;}#sk-container-id-11 div.sk-toggleable {background-color: white;}#sk-container-id-11 label.sk-toggleable__label {cursor: pointer;display: block;width: 100%;margin-bottom: 0;padding: 0.3em;box-sizing: border-box;text-align: center;}#sk-container-id-11 label.sk-toggleable__label-arrow:before {content: \"▸\";float: left;margin-right: 0.25em;color: #696969;}#sk-container-id-11 label.sk-toggleable__label-arrow:hover:before {color: black;}#sk-container-id-11 div.sk-estimator:hover label.sk-toggleable__label-arrow:before {color: black;}#sk-container-id-11 div.sk-toggleable__content {max-height: 0;max-width: 0;overflow: hidden;text-align: left;background-color: #f0f8ff;}#sk-container-id-11 div.sk-toggleable__content pre {margin: 0.2em;color: black;border-radius: 0.25em;background-color: #f0f8ff;}#sk-container-id-11 input.sk-toggleable__control:checked~div.sk-toggleable__content {max-height: 200px;max-width: 100%;overflow: auto;}#sk-container-id-11 input.sk-toggleable__control:checked~label.sk-toggleable__label-arrow:before {content: \"▾\";}#sk-container-id-11 div.sk-estimator input.sk-toggleable__control:checked~label.sk-toggleable__label {background-color: #d4ebff;}#sk-container-id-11 div.sk-label input.sk-toggleable__control:checked~label.sk-toggleable__label {background-color: #d4ebff;}#sk-container-id-11 input.sk-hidden--visually {border: 0;clip: rect(1px 1px 1px 1px);clip: rect(1px, 1px, 1px, 1px);height: 1px;margin: -1px;overflow: hidden;padding: 0;position: absolute;width: 1px;}#sk-container-id-11 div.sk-estimator {font-family: monospace;background-color: #f0f8ff;border: 1px dotted black;border-radius: 0.25em;box-sizing: border-box;margin-bottom: 0.5em;}#sk-container-id-11 div.sk-estimator:hover {background-color: #d4ebff;}#sk-container-id-11 div.sk-parallel-item::after {content: \"\";width: 100%;border-bottom: 1px solid gray;flex-grow: 1;}#sk-container-id-11 div.sk-label:hover label.sk-toggleable__label {background-color: #d4ebff;}#sk-container-id-11 div.sk-serial::before {content: \"\";position: absolute;border-left: 1px solid gray;box-sizing: border-box;top: 0;bottom: 0;left: 50%;z-index: 0;}#sk-container-id-11 div.sk-serial {display: flex;flex-direction: column;align-items: center;background-color: white;padding-right: 0.2em;padding-left: 0.2em;position: relative;}#sk-container-id-11 div.sk-item {position: relative;z-index: 1;}#sk-container-id-11 div.sk-parallel {display: flex;align-items: stretch;justify-content: center;background-color: white;position: relative;}#sk-container-id-11 div.sk-item::before, #sk-container-id-11 div.sk-parallel-item::before {content: \"\";position: absolute;border-left: 1px solid gray;box-sizing: border-box;top: 0;bottom: 0;left: 50%;z-index: -1;}#sk-container-id-11 div.sk-parallel-item {display: flex;flex-direction: column;z-index: 1;position: relative;background-color: white;}#sk-container-id-11 div.sk-parallel-item:first-child::after {align-self: flex-end;width: 50%;}#sk-container-id-11 div.sk-parallel-item:last-child::after {align-self: flex-start;width: 50%;}#sk-container-id-11 div.sk-parallel-item:only-child::after {width: 0;}#sk-container-id-11 div.sk-dashed-wrapped {border: 1px dashed gray;margin: 0 0.4em 0.5em 0.4em;box-sizing: border-box;padding-bottom: 0.4em;background-color: white;}#sk-container-id-11 div.sk-label label {font-family: monospace;font-weight: bold;display: inline-block;line-height: 1.2em;}#sk-container-id-11 div.sk-label-container {text-align: center;}#sk-container-id-11 div.sk-container {/* jupyter's `normalize.less` sets `[hidden] { display: none; }` but bootstrap.min.css set `[hidden] { display: none !important; }` so we also need the `!important` here to be able to override the default hidden behavior on the sphinx rendered scikit-learn.org. See: https://github.com/scikit-learn/scikit-learn/issues/21755 */display: inline-block !important;position: relative;}#sk-container-id-11 div.sk-text-repr-fallback {display: none;}</style><div id=\"sk-container-id-11\" class=\"sk-top-container\"><div class=\"sk-text-repr-fallback\"><pre>KNeighborsClassifier(algorithm=&#x27;ball_tree&#x27;, leaf_size=10, n_neighbors=15)</pre><b>In a Jupyter environment, please rerun this cell to show the HTML representation or trust the notebook. <br />On GitHub, the HTML representation is unable to render, please try loading this page with nbviewer.org.</b></div><div class=\"sk-container\" hidden><div class=\"sk-item\"><div class=\"sk-estimator sk-toggleable\"><input class=\"sk-toggleable__control sk-hidden--visually\" id=\"sk-estimator-id-15\" type=\"checkbox\" checked><label for=\"sk-estimator-id-15\" class=\"sk-toggleable__label sk-toggleable__label-arrow\">KNeighborsClassifier</label><div class=\"sk-toggleable__content\"><pre>KNeighborsClassifier(algorithm=&#x27;ball_tree&#x27;, leaf_size=10, n_neighbors=15)</pre></div></div></div></div></div>"
      ],
      "text/plain": [
       "KNeighborsClassifier(algorithm='ball_tree', leaf_size=10, n_neighbors=15)"
      ]
     },
     "execution_count": 93,
     "metadata": {},
     "output_type": "execute_result"
    }
   ],
   "source": [
    "knnc.fit(train_x,train_y)"
   ]
  },
  {
   "cell_type": "code",
   "execution_count": 94,
   "id": "79edc248",
   "metadata": {},
   "outputs": [],
   "source": [
    "prediction_knnc=knnc.predict(test_x)"
   ]
  },
  {
   "cell_type": "code",
   "execution_count": 95,
   "id": "917631a6",
   "metadata": {},
   "outputs": [],
   "source": [
    "knnc_score = roc_auc_score((test_y),prediction_knnc)"
   ]
  },
  {
   "cell_type": "code",
   "execution_count": 82,
   "id": "471c46b0",
   "metadata": {},
   "outputs": [
    {
     "data": {
      "text/plain": [
       "0.999486125385406"
      ]
     },
     "execution_count": 82,
     "metadata": {},
     "output_type": "execute_result"
    }
   ],
   "source": [
    "knnc_score"
   ]
  },
  {
   "cell_type": "code",
   "execution_count": null,
   "id": "1add8d25",
   "metadata": {},
   "outputs": [],
   "source": []
  },
  {
   "cell_type": "code",
   "execution_count": 96,
   "id": "4a3b1b5d",
   "metadata": {},
   "outputs": [],
   "source": [
    "import xgboost as xgb"
   ]
  },
  {
   "cell_type": "code",
   "execution_count": 98,
   "id": "cd2d9cdf",
   "metadata": {},
   "outputs": [],
   "source": [
    "xgbc=xgb.XGBClassifier()"
   ]
  },
  {
   "cell_type": "code",
   "execution_count": 99,
   "id": "f4240c62",
   "metadata": {},
   "outputs": [],
   "source": [
    "param_grid = {\n",
    "    \"max_depth\": [3, 4, 5, 7],\n",
    "    \"learning_rate\": [0.1, 0.01, 0.05],\n",
    "    \"gamma\": [0, 0.25, 1],\n",
    "    \"reg_lambda\": [0, 1, 10],\n",
    "}"
   ]
  },
  {
   "cell_type": "code",
   "execution_count": null,
   "id": "51ae433f",
   "metadata": {},
   "outputs": [],
   "source": [
    "param_grid = {\n",
    "    \"max_depth\": [3, 4, 5, 7],\n",
    "    \"learning_rate\": [0.1, 0.01, 0.05],\n",
    "    \"gamma\": [0, 0.25, 1],\n",
    "    \"reg_lambda\": [0, 1, 10],\n",
    "    \"booster\":['gbtree','gblinear'],\n",
    "}"
   ]
  },
  {
   "cell_type": "code",
   "execution_count": 100,
   "id": "327a7d98",
   "metadata": {},
   "outputs": [],
   "source": [
    "# Init Grid Search\n",
    "grid_cv = GridSearchCV(xgbc, param_grid, n_jobs=-1, cv=3, scoring=\"roc_auc\")\n",
    "\n",
    "# Fit\n",
    "_ = grid_cv.fit(train_x,train_y)"
   ]
  },
  {
   "cell_type": "code",
   "execution_count": 102,
   "id": "909ec347",
   "metadata": {},
   "outputs": [
    {
     "data": {
      "text/plain": [
       "{'gamma': 0, 'learning_rate': 0.1, 'max_depth': 3, 'reg_lambda': 0}"
      ]
     },
     "execution_count": 102,
     "metadata": {},
     "output_type": "execute_result"
    }
   ],
   "source": [
    "grid_cv.best_params_"
   ]
  },
  {
   "cell_type": "code",
   "execution_count": null,
   "id": "02c54676",
   "metadata": {},
   "outputs": [],
   "source": [
    "xgbc=xgb.XGBClassifier((objective=\"binary:logistic\",gamma: 0,learning_rate: 0.1,max_depth: 3)"
   ]
  },
  {
   "cell_type": "code",
   "execution_count": 103,
   "id": "3d641a71",
   "metadata": {},
   "outputs": [
    {
     "data": {
      "text/html": [
       "<style>#sk-container-id-12 {color: black;background-color: white;}#sk-container-id-12 pre{padding: 0;}#sk-container-id-12 div.sk-toggleable {background-color: white;}#sk-container-id-12 label.sk-toggleable__label {cursor: pointer;display: block;width: 100%;margin-bottom: 0;padding: 0.3em;box-sizing: border-box;text-align: center;}#sk-container-id-12 label.sk-toggleable__label-arrow:before {content: \"▸\";float: left;margin-right: 0.25em;color: #696969;}#sk-container-id-12 label.sk-toggleable__label-arrow:hover:before {color: black;}#sk-container-id-12 div.sk-estimator:hover label.sk-toggleable__label-arrow:before {color: black;}#sk-container-id-12 div.sk-toggleable__content {max-height: 0;max-width: 0;overflow: hidden;text-align: left;background-color: #f0f8ff;}#sk-container-id-12 div.sk-toggleable__content pre {margin: 0.2em;color: black;border-radius: 0.25em;background-color: #f0f8ff;}#sk-container-id-12 input.sk-toggleable__control:checked~div.sk-toggleable__content {max-height: 200px;max-width: 100%;overflow: auto;}#sk-container-id-12 input.sk-toggleable__control:checked~label.sk-toggleable__label-arrow:before {content: \"▾\";}#sk-container-id-12 div.sk-estimator input.sk-toggleable__control:checked~label.sk-toggleable__label {background-color: #d4ebff;}#sk-container-id-12 div.sk-label input.sk-toggleable__control:checked~label.sk-toggleable__label {background-color: #d4ebff;}#sk-container-id-12 input.sk-hidden--visually {border: 0;clip: rect(1px 1px 1px 1px);clip: rect(1px, 1px, 1px, 1px);height: 1px;margin: -1px;overflow: hidden;padding: 0;position: absolute;width: 1px;}#sk-container-id-12 div.sk-estimator {font-family: monospace;background-color: #f0f8ff;border: 1px dotted black;border-radius: 0.25em;box-sizing: border-box;margin-bottom: 0.5em;}#sk-container-id-12 div.sk-estimator:hover {background-color: #d4ebff;}#sk-container-id-12 div.sk-parallel-item::after {content: \"\";width: 100%;border-bottom: 1px solid gray;flex-grow: 1;}#sk-container-id-12 div.sk-label:hover label.sk-toggleable__label {background-color: #d4ebff;}#sk-container-id-12 div.sk-serial::before {content: \"\";position: absolute;border-left: 1px solid gray;box-sizing: border-box;top: 0;bottom: 0;left: 50%;z-index: 0;}#sk-container-id-12 div.sk-serial {display: flex;flex-direction: column;align-items: center;background-color: white;padding-right: 0.2em;padding-left: 0.2em;position: relative;}#sk-container-id-12 div.sk-item {position: relative;z-index: 1;}#sk-container-id-12 div.sk-parallel {display: flex;align-items: stretch;justify-content: center;background-color: white;position: relative;}#sk-container-id-12 div.sk-item::before, #sk-container-id-12 div.sk-parallel-item::before {content: \"\";position: absolute;border-left: 1px solid gray;box-sizing: border-box;top: 0;bottom: 0;left: 50%;z-index: -1;}#sk-container-id-12 div.sk-parallel-item {display: flex;flex-direction: column;z-index: 1;position: relative;background-color: white;}#sk-container-id-12 div.sk-parallel-item:first-child::after {align-self: flex-end;width: 50%;}#sk-container-id-12 div.sk-parallel-item:last-child::after {align-self: flex-start;width: 50%;}#sk-container-id-12 div.sk-parallel-item:only-child::after {width: 0;}#sk-container-id-12 div.sk-dashed-wrapped {border: 1px dashed gray;margin: 0 0.4em 0.5em 0.4em;box-sizing: border-box;padding-bottom: 0.4em;background-color: white;}#sk-container-id-12 div.sk-label label {font-family: monospace;font-weight: bold;display: inline-block;line-height: 1.2em;}#sk-container-id-12 div.sk-label-container {text-align: center;}#sk-container-id-12 div.sk-container {/* jupyter's `normalize.less` sets `[hidden] { display: none; }` but bootstrap.min.css set `[hidden] { display: none !important; }` so we also need the `!important` here to be able to override the default hidden behavior on the sphinx rendered scikit-learn.org. See: https://github.com/scikit-learn/scikit-learn/issues/21755 */display: inline-block !important;position: relative;}#sk-container-id-12 div.sk-text-repr-fallback {display: none;}</style><div id=\"sk-container-id-12\" class=\"sk-top-container\"><div class=\"sk-text-repr-fallback\"><pre>XGBClassifier(base_score=0.5, booster=&#x27;gbtree&#x27;, callbacks=None,\n",
       "              colsample_bylevel=1, colsample_bynode=1, colsample_bytree=1,\n",
       "              early_stopping_rounds=None, enable_categorical=False,\n",
       "              eval_metric=None, gamma=0, gpu_id=-1, grow_policy=&#x27;depthwise&#x27;,\n",
       "              importance_type=None, interaction_constraints=&#x27;&#x27;,\n",
       "              learning_rate=0.300000012, max_bin=256, max_cat_to_onehot=4,\n",
       "              max_delta_step=0, max_depth=6, max_leaves=0, min_child_weight=1,\n",
       "              missing=nan, monotone_constraints=&#x27;()&#x27;, n_estimators=100,\n",
       "              n_jobs=0, num_parallel_tree=1, predictor=&#x27;auto&#x27;, random_state=0,\n",
       "              reg_alpha=0, reg_lambda=1, ...)</pre><b>In a Jupyter environment, please rerun this cell to show the HTML representation or trust the notebook. <br />On GitHub, the HTML representation is unable to render, please try loading this page with nbviewer.org.</b></div><div class=\"sk-container\" hidden><div class=\"sk-item\"><div class=\"sk-estimator sk-toggleable\"><input class=\"sk-toggleable__control sk-hidden--visually\" id=\"sk-estimator-id-16\" type=\"checkbox\" checked><label for=\"sk-estimator-id-16\" class=\"sk-toggleable__label sk-toggleable__label-arrow\">XGBClassifier</label><div class=\"sk-toggleable__content\"><pre>XGBClassifier(base_score=0.5, booster=&#x27;gbtree&#x27;, callbacks=None,\n",
       "              colsample_bylevel=1, colsample_bynode=1, colsample_bytree=1,\n",
       "              early_stopping_rounds=None, enable_categorical=False,\n",
       "              eval_metric=None, gamma=0, gpu_id=-1, grow_policy=&#x27;depthwise&#x27;,\n",
       "              importance_type=None, interaction_constraints=&#x27;&#x27;,\n",
       "              learning_rate=0.300000012, max_bin=256, max_cat_to_onehot=4,\n",
       "              max_delta_step=0, max_depth=6, max_leaves=0, min_child_weight=1,\n",
       "              missing=nan, monotone_constraints=&#x27;()&#x27;, n_estimators=100,\n",
       "              n_jobs=0, num_parallel_tree=1, predictor=&#x27;auto&#x27;, random_state=0,\n",
       "              reg_alpha=0, reg_lambda=1, ...)</pre></div></div></div></div></div>"
      ],
      "text/plain": [
       "XGBClassifier(base_score=0.5, booster='gbtree', callbacks=None,\n",
       "              colsample_bylevel=1, colsample_bynode=1, colsample_bytree=1,\n",
       "              early_stopping_rounds=None, enable_categorical=False,\n",
       "              eval_metric=None, gamma=0, gpu_id=-1, grow_policy='depthwise',\n",
       "              importance_type=None, interaction_constraints='',\n",
       "              learning_rate=0.300000012, max_bin=256, max_cat_to_onehot=4,\n",
       "              max_delta_step=0, max_depth=6, max_leaves=0, min_child_weight=1,\n",
       "              missing=nan, monotone_constraints='()', n_estimators=100,\n",
       "              n_jobs=0, num_parallel_tree=1, predictor='auto', random_state=0,\n",
       "              reg_alpha=0, reg_lambda=1, ...)"
      ]
     },
     "execution_count": 103,
     "metadata": {},
     "output_type": "execute_result"
    }
   ],
   "source": [
    "xgbc.fit(train_x,train_y)"
   ]
  },
  {
   "cell_type": "code",
   "execution_count": 104,
   "id": "3df8d797",
   "metadata": {},
   "outputs": [],
   "source": [
    "prediction_xgbc=xgbc.predict(test_x)"
   ]
  },
  {
   "cell_type": "code",
   "execution_count": 105,
   "id": "da1b4626",
   "metadata": {},
   "outputs": [],
   "source": [
    "xgbc_score = roc_auc_score((test_y),prediction_xgbc)"
   ]
  },
  {
   "cell_type": "code",
   "execution_count": 106,
   "id": "a26c0726",
   "metadata": {},
   "outputs": [
    {
     "data": {
      "text/plain": [
       "1.0"
      ]
     },
     "execution_count": 106,
     "metadata": {},
     "output_type": "execute_result"
    }
   ],
   "source": [
    "xgbc_score"
   ]
  },
  {
   "cell_type": "code",
   "execution_count": null,
   "id": "8c65fd98",
   "metadata": {},
   "outputs": [],
   "source": []
  }
 ],
 "metadata": {
  "kernelspec": {
   "display_name": "Python 3 (ipykernel)",
   "language": "python",
   "name": "python3"
  },
  "language_info": {
   "codemirror_mode": {
    "name": "ipython",
    "version": 3
   },
   "file_extension": ".py",
   "mimetype": "text/x-python",
   "name": "python",
   "nbconvert_exporter": "python",
   "pygments_lexer": "ipython3",
   "version": "3.9.12"
  }
 },
 "nbformat": 4,
 "nbformat_minor": 5
}
